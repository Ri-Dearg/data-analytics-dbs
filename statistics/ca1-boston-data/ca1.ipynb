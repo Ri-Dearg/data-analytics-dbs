{
 "cells": [
  {
   "cell_type": "markdown",
   "id": "d3c2d4bf",
   "metadata": {},
   "source": [
    "# Assessment Task\n",
    "Using the Boston data set introduced during LAB work, apply linear regression modelling to predict the per capita crime rate using other variables in the data set. In other words, per capita crime rate is the response and the other variables are predictors."
   ]
  },
  {
   "cell_type": "markdown",
   "id": "8fc11608",
   "metadata": {},
   "source": [
    "a) Use descriptive statistics to explore the dataset. "
   ]
  },
  {
   "cell_type": "code",
   "execution_count": null,
   "id": "9301806b",
   "metadata": {},
   "outputs": [],
   "source": []
  },
  {
   "cell_type": "code",
   "execution_count": null,
   "id": "e7eea127",
   "metadata": {},
   "outputs": [],
   "source": []
  },
  {
   "cell_type": "code",
   "execution_count": null,
   "id": "af8b2ba6",
   "metadata": {},
   "outputs": [],
   "source": []
  },
  {
   "cell_type": "markdown",
   "id": "4f22a1eb",
   "metadata": {},
   "source": []
  }
 ],
 "metadata": {
  "kernelspec": {
   "display_name": ".venv",
   "language": "python",
   "name": "python3"
  },
  "language_info": {
   "name": "python",
   "version": "3.13.1"
  }
 },
 "nbformat": 4,
 "nbformat_minor": 5
}
