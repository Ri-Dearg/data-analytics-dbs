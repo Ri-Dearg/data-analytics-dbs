{
 "cells": [
  {
   "cell_type": "markdown",
   "id": "68c9eb61",
   "metadata": {},
   "source": [
    "# Rory Sheridan - Continuous Assessment 2"
   ]
  },
  {
   "cell_type": "markdown",
   "id": "4653468d",
   "metadata": {},
   "source": [
    "## Additional Libraries and Tools"
   ]
  },
  {
   "cell_type": "markdown",
   "id": "f2b00983",
   "metadata": {},
   "source": [
    "### [Github Repo](https://github.com/Ri-Dearg/data-analytics-dbs/)\n",
    "This file and its commit history [can be found by clicking here](https://github.com/Ri-Dearg/data-analytics-dbs/blob/main/programming/ca2/ca2_prog.ipynb).\n",
    "\n",
    "### [Colorama](https://pypi.org/project/colorama/)\n",
    "Used to give feedback in varied colours in the terminal. The Fore and Style used throughout the notebook are for this.\n",
    "\n",
    "### [Pandas](https://pandas.pydata.org)\n",
    "\n",
    "For data analysis and manipulation.\n",
    "\n",
    "### [Pylint](https://www.pylint.org)\n",
    "Used as a linter for code quality control.\n",
    "\n",
    "### [Ruff](https://docs.astral.sh/ruff/)\n",
    "Used as both a linter and a formatter. Configuration has been adjusted to conform to PEP8 standard.  \n",
    "\n",
    "### [Seaborn](https://seaborn.pydata.org)\n",
    "\n",
    "For data visualisation."
   ]
  },
  {
   "cell_type": "code",
   "execution_count": 416,
   "id": "6f7d51a7",
   "metadata": {},
   "outputs": [
    {
     "name": "stdout",
     "output_type": "stream",
     "text": [
      "Requirement already satisfied: colorama in c:\\users\\kenzedd\\documents\\programming\\data-analytics-dbs\\programming\\ca2\\.venv\\lib\\site-packages (0.4.6)\n",
      "Note: you may need to restart the kernel to use updated packages.\n"
     ]
    },
    {
     "name": "stderr",
     "output_type": "stream",
     "text": [
      "\n",
      "[notice] A new release of pip is available: 24.3.1 -> 25.1.1\n",
      "[notice] To update, run: python.exe -m pip install --upgrade pip\n"
     ]
    }
   ],
   "source": [
    "# Install colorama on google colab.\n",
    "%pip install colorama\n",
    "\n",
    "# For creating plots.\n",
    "import seaborn as sns\n",
    "\n",
    "# For coloring text.\n",
    "from colorama import Fore, Style\n",
    "\n",
    "# For Dataframes.\n",
    "from pandas import DataFrame, concat\n"
   ]
  },
  {
   "cell_type": "markdown",
   "id": "21ef5a47",
   "metadata": {},
   "source": [
    "## Utilities"
   ]
  },
  {
   "cell_type": "markdown",
   "id": "9116c48d",
   "metadata": {},
   "source": [
    "Two utilities to help colour the cells in the DataFrame output."
   ]
  },
  {
   "cell_type": "code",
   "execution_count": 417,
   "id": "4deba3b3",
   "metadata": {},
   "outputs": [],
   "source": [
    "def color_last_cell(column: str, color: str) -> object:\n",
    "    \"\"\"Style the last cell of a column.\n",
    "\n",
    "    Args:\n",
    "        column (str): the column to style.\n",
    "        color (str): The color to use.\n",
    "\n",
    "    Returns:\n",
    "        object: Styler object for dataframes.\n",
    "\n",
    "    \"\"\"\n",
    "    # Run through each row and skips styling it.\n",
    "    styles = [''] * len(column)\n",
    "    # Apply chosen colour to final cell in column.\n",
    "    styles[-1] = f'background-color: {color}'\n",
    "    return styles\n",
    "\n",
    "\n",
    "def color_on_value(column: str, number: float) -> object:\n",
    "    \"\"\"Choose colour based on negative, zero, or positive value.\n",
    "\n",
    "    Args:\n",
    "        column (str): The column to colour.\n",
    "        number (int | float): The value to examine.\n",
    "\n",
    "    Returns:\n",
    "        object: A Styler object for dataframes.\n",
    "\n",
    "    \"\"\"\n",
    "    # Run through each row and skips styling it.\n",
    "    styles = [''] * len(column)\n",
    "    # Check value, adn apply relevant colour.\n",
    "    if number > 0:\n",
    "        styles[-1] = 'background-color: green'\n",
    "\n",
    "    if number == 0:\n",
    "        styles[-1] = 'background-color: orange'\n",
    "\n",
    "    if number < 0:\n",
    "        styles[-1] = 'background-color: red'\n",
    "    return styles\n"
   ]
  },
  {
   "cell_type": "markdown",
   "id": "c70af135",
   "metadata": {},
   "source": [
    "## Question 1\n",
    "\n",
    "Read in the below information of a company’s transactions for the year 2022 into a python dictionary files.\n",
    "\n",
    "**dbase1**\n",
    "\n",
    "| **TR_ID** | **Product** | **Quantitys** | **Purchase_prices** |\n",
    "| --- | --- | --- | --- |\n",
    "| C23 | Telephone | 420 | 223 |\n",
    "| C24 | Monitors | Ten | 344 |\n",
    "| C25 | Car | 234 | 223 |\n",
    "| C26 | Rent | 114 | Tenn |\n",
    "| C27 | Services | 56  | Two |\n",
    "| C28 | Training | 13  | 223 |\n",
    "\n",
    "**dbase2**\n",
    "\n",
    "| **TR_ID** | **Products** | **Sale_price** | **Debit** |\n",
    "| --- | --- | --- | --- |\n",
    "| C23 | Telephone | 300 | 2   |\n",
    "| C24 | Monitors | 435 | 2   |\n",
    "| C25 | Car | 329 | 2   |\n",
    "| C26 | Rent | 544 | 2   |\n",
    "| C27 | Services | **thirty** | **2** |\n",
    "| C28 | Training | 329 | 2   |\n",
    "\n",
    "**dbase 3**\n",
    "\n",
    "| **TR_ID** | **Product** | **Quantity** | **Purchase_price** | **Sale_price** |\n",
    "| --- | --- | --- | --- | --- |\n",
    "| C28 | Training | 13  | 223 | 329 |\n"
   ]
  },
  {
   "cell_type": "markdown",
   "id": "6883215d",
   "metadata": {},
   "source": [
    "### DataFrameManager"
   ]
  },
  {
   "cell_type": "markdown",
   "id": "79328416",
   "metadata": {},
   "source": []
  },
  {
   "cell_type": "code",
   "execution_count": null,
   "id": "ba90f52c",
   "metadata": {},
   "outputs": [],
   "source": [
    "class DataFrameManager:\n",
    "    \"\"\"Create dataframes from dictionaries and provide manage options.\"\"\"\n",
    "\n",
    "    # a. Convert each database into a dataframe in python.\n",
    "    def __init__(self, *args: dict[str, list]) -> None:\n",
    "        \"\"\"Accept dictionaries and store as attributes.\"\"\"\n",
    "        # Accept a dictionary, loop through each.\n",
    "        for i, db_dict in enumerate(args):\n",
    "            # Create a dataframe, store it as an attribute.\n",
    "            data_frame = DataFrame(db_dict)\n",
    "            setattr(self, f'dict_df_{i + 1}', data_frame)\n",
    "\n",
    "    # b. Note that the databases and the corresponding column names with\n",
    "    # spelling differences. Correct this to have all column names without 's'\n",
    "    def clean_headings(self) -> None:\n",
    "        \"\"\"Remove the final s from the dataframe column names.\"\"\"\n",
    "        # Loop through each frame, create columns without the s.\n",
    "        for value in vars(self).values():\n",
    "            new_columns = [col.removesuffix('s') for col in value.columns]\n",
    "            # Set the new list as the columns.\n",
    "            value.columns = new_columns\n",
    "\n",
    "    # c. Combine the above three databases into one single dataframe called\n",
    "    # 'dbase4' in python using the appropriate method and libraries.\n",
    "    def join_dataframes(self, attr_name: str) -> DataFrame:\n",
    "        \"\"\"Merge dataframes into a single table based on columns.\n",
    "\n",
    "        Args:\n",
    "            attr_name (str): The name for the new attribute.\n",
    "\n",
    "        Returns:\n",
    "            DataFrame: Single dataframe.\n",
    "\n",
    "        \"\"\"\n",
    "        # Use error handling in case columns can't merge this way.\n",
    "        try:\n",
    "            # Get a list of the frames set as attributes for merging.\n",
    "            frame_list = list(vars(self).values())\n",
    "\n",
    "            # Set default frame for merge.\n",
    "            merged_df = frame_list[0]\n",
    "\n",
    "            # Merge frames after the first\n",
    "            for df in frame_list[1:]:\n",
    "                # Check for matching columns between frames.\n",
    "                matching_cols = [\n",
    "                    col for col in df.columns if col in merged_df.columns\n",
    "                ]\n",
    "                # Merge the tables based on those columns.\n",
    "                merged_df = merged_df.merge(df, on=matching_cols, how='outer')\n",
    "        # Throw an error with a message of they don't match.\n",
    "        except ValueError as e:\n",
    "            print(\n",
    "                'There is an issue with the dataset merging.'\n",
    "                f' Please check they have shared columns: {e}',\n",
    "            )\n",
    "        else:\n",
    "            # Set the new frame as an attribute and return for assignment.\n",
    "            setattr(self, attr_name, merged_df)\n",
    "            return merged_df\n",
    "\n",
    "    # d. Consider the character values as error, remove these errors and\n",
    "    # replace with column's mean.\n",
    "    def clean_number(self, frame: DataFrame, num_cols: list[str]) -> None:\n",
    "        \"\"\"Check for strings in number column, replace with mean.\n",
    "\n",
    "        Args:\n",
    "            frame (DataFrame): The data frame to clean.\n",
    "            num_cols (list[str]): The names of the columns to clean.\n",
    "\n",
    "        \"\"\"\n",
    "        # Loop through number columns and check their type.\n",
    "        for col in num_cols:\n",
    "            # If it isn't a number type, set it to zero.\n",
    "            num_vals = [\n",
    "                val if isinstance(val, (int, float)) else 0\n",
    "                for val in frame[col]\n",
    "            ]\n",
    "\n",
    "            # Get the mean of a column including zeros.\n",
    "            mean = sum(num_vals) / len(num_vals)\n",
    "            # If the value has a zero, replace it with the mean.\n",
    "            for i in range(len(num_vals)):\n",
    "                if num_vals[i] == 0:\n",
    "                    num_vals[i] = round(mean)\n",
    "            # Set new values to frame.\n",
    "            frame[col] = num_vals\n",
    "\n",
    "    # e. Delete the variable 'Debit' as not needed then add a column called\n",
    "    # 'Department'\n",
    "    def delete_col(self, frame: DataFrame, col: str) -> DataFrame:\n",
    "        \"\"\"Delete a column from a frame.\n",
    "\n",
    "        Args:\n",
    "            frame (DataFrame): The frame to alter.\n",
    "            col (str): The column to delete.\n",
    "\n",
    "        Returns:\n",
    "            _type_: The altered data frame.\n",
    "\n",
    "        \"\"\"\n",
    "        # Delete a column, keep the same frame.\n",
    "        # Usually, inplace=True should not be used, but\n",
    "        # the dataset is minor in this case.\n",
    "        frame.drop(col, axis=1, inplace=True)\n",
    "\n",
    "    def add_col(self, frame: DataFrame, col: str) -> DataFrame:\n",
    "        \"\"\"Add a column and generate values for it.\n",
    "\n",
    "        Args:\n",
    "            frame (DataFrame): the data frame to alter.\n",
    "            col (str): the column name to add.\n",
    "\n",
    "        Returns:\n",
    "            DataFrame: The altered frame.\n",
    "\n",
    "        \"\"\"\n",
    "        # Map products to departments to add it easily later.\n",
    "        product_category = {\n",
    "            'Telephone': 'IT',\n",
    "            'Monitors': 'IT',\n",
    "            'Car': 'Transport',\n",
    "            'Rent': 'Consultancy',\n",
    "            'Services': 'Consultancy',\n",
    "            'Training': 'Education',\n",
    "        }\n",
    "\n",
    "        # Create a list to add to the data frame.\n",
    "        to_add = [\n",
    "            product_category.get(value, '') for value in frame['Product']\n",
    "        ]\n",
    "\n",
    "        # Add to DataFrame.\n",
    "        frame[col] = to_add\n",
    "        return frame\n",
    "\n",
    "    # g. After creating the single dataframe: Using DataFrame and Class or\n",
    "    # other method with the above corrected values\n",
    "    def create_finance_frame(self, frame: DataFrame) -> DataFrame:\n",
    "        \"\"\"Create a new DataFrame with financial statistics.\n",
    "\n",
    "        Args:\n",
    "            frame (DataFrame): The dataframe containing the information.\n",
    "\n",
    "        Returns:\n",
    "            DataFrame: New dataframe with financial details.\n",
    "\n",
    "        \"\"\"\n",
    "        try:\n",
    "            # Define a dictionary to use as a frame later\n",
    "            finance_frame = {'TR_ID': frame['TR_ID'], 'Product': frame['Product']}\n",
    "\n",
    "            # Initalise lists to add to frame later.\n",
    "            revenue = []\n",
    "            cost = []\n",
    "            profit = []\n",
    "\n",
    "            # Calculate revenue from products and add it to the list.\n",
    "            for _index, row in frame.iterrows():\n",
    "                product_revenue = row['Quantity'] * row['Sale_price']\n",
    "                if product_revenue > 55000:\n",
    "                    product_revenue *= 0.95\n",
    "                elif 35000 < product_revenue <= 55000:\n",
    "                    product_revenue *= 0.98\n",
    "                else:\n",
    "                    product_revenue *= 0.99\n",
    "                revenue.append(product_revenue)\n",
    "                # Calculate cost and add it to the list.\n",
    "                product_cost = row['Quantity'] * row['Purchase_price']\n",
    "                cost.append(product_cost)\n",
    "\n",
    "                # Add profit to the list.\n",
    "                profit.append(product_revenue - product_cost)\n",
    "\n",
    "            # Add each list to the dictionary and return info as a frame.\n",
    "            finance_frame['Revenue'] = revenue\n",
    "            finance_frame['Cost'] = cost\n",
    "            finance_frame['Profit'] = profit\n",
    "        except KeyError:\n",
    "            print(f'Please ensure the dataframe has the correct columns: {e}')\n",
    "        else:\n",
    "            return DataFrame(finance_frame)\n",
    "\n",
    "    def calculate_total(self, frame: DataFrame) -> None:\n",
    "        \"\"\"Calculate the total sales, cost and profit of products.\n",
    "\n",
    "        Args:\n",
    "            frame (DataFrame): The frame to use for calculations.\n",
    "\n",
    "        Returns:\n",
    "            _type_: A merged frame of the old with the total columns.\n",
    "\n",
    "        \"\"\"\n",
    "        # Select all number columns, sum their totals and create a frame.\n",
    "        totals_frame = (\n",
    "            frame.select_dtypes(include=['number']).sum().to_frame().T\n",
    "        )\n",
    "\n",
    "        # Add columns to the newly created frame.\n",
    "        totals_frame.insert(0, 'TR_ID', 'Total')\n",
    "        totals_frame.insert(1, 'Product', '-----')\n",
    "\n",
    "        # Return a new frame, adding the totals row to the financial frame.\n",
    "        return concat([frame, totals_frame], ignore_index=True)\n",
    "\n",
    "    def evaluation_message(self, number: int) -> None:\n",
    "        \"\"\"Respond with a message based on value.\n",
    "\n",
    "        Args:\n",
    "            number (int): the number to evaluate.\n",
    "\n",
    "        \"\"\"\n",
    "        # Green, Red, or Yellow terminal messages based on the value given.\n",
    "        if number > 0:\n",
    "            print(\n",
    "                Fore.GREEN\n",
    "                + \"The business is on it's way to success!\"\n",
    "                + Style.RESET_ALL,\n",
    "            )\n",
    "        if number == 0:\n",
    "            print(\n",
    "                Fore.YELLOW\n",
    "                + 'Just breaking even. Hang in there!'\n",
    "                + Style.RESET_ALL,\n",
    "            )\n",
    "        if number < 0:\n",
    "            print(Fore.RED + 'Time to revise your finances.' + Style.RESET_ALL)"
   ]
  },
  {
   "cell_type": "code",
   "execution_count": 419,
   "id": "92f8e02c",
   "metadata": {},
   "outputs": [],
   "source": [
    "# Declare data.\n",
    "dbase1_dict = {\n",
    "    'TR_ID': [\n",
    "        'C23',\n",
    "        'C24',\n",
    "        'C25',\n",
    "        'C26',\n",
    "        'C27',\n",
    "        'C28',\n",
    "    ],\n",
    "    'Product': [\n",
    "        'Telephone',\n",
    "        'Monitors',\n",
    "        'Car',\n",
    "        'Rent',\n",
    "        'Services',\n",
    "        'Training',\n",
    "    ],\n",
    "    'Quantitys': [\n",
    "        420,\n",
    "        'Ten',\n",
    "        234,\n",
    "        114,\n",
    "        56,\n",
    "        13,\n",
    "    ],\n",
    "    'Purchase_prices': [\n",
    "        223,\n",
    "        344,\n",
    "        223,\n",
    "        'Tenn',\n",
    "        'Two',\n",
    "        223,\n",
    "    ],\n",
    "}\n",
    "dbase2_dict = {\n",
    "    'TR_ID': [\n",
    "        'C23',\n",
    "        'C24',\n",
    "        'C25',\n",
    "        'C26',\n",
    "        'C27',\n",
    "        'C28',\n",
    "    ],\n",
    "    'Products': [\n",
    "        'Telephone',\n",
    "        'Monitors',\n",
    "        'Car',\n",
    "        'Rent',\n",
    "        'Services',\n",
    "        'Training',\n",
    "    ],\n",
    "    'Sale_price': [\n",
    "        300,\n",
    "        435,\n",
    "        329,\n",
    "        544,\n",
    "        'thirty',\n",
    "        329,\n",
    "    ],\n",
    "    'Debit': [\n",
    "        2,\n",
    "        2,\n",
    "        2,\n",
    "        2,\n",
    "        2,\n",
    "        2,\n",
    "    ],\n",
    "}\n",
    "\n",
    "dbase3_dict = {\n",
    "    'TR_ID': ['C28'],\n",
    "    'Product': ['Training'],\n",
    "    'Quantity': [13],\n",
    "    'Purchase_price': [223],\n",
    "    'Sale_price': [329],\n",
    "}"
   ]
  },
  {
   "cell_type": "markdown",
   "id": "52ff8352",
   "metadata": {},
   "source": [
    "### a. Convert each database into a dataframe in python.\n"
   ]
  },
  {
   "cell_type": "code",
   "execution_count": 420,
   "id": "d1142ec2",
   "metadata": {},
   "outputs": [
    {
     "data": {
      "application/vnd.microsoft.datawrangler.viewer.v0+json": {
       "columns": [
        {
         "name": "index",
         "rawType": "int64",
         "type": "integer"
        },
        {
         "name": "TR_ID",
         "rawType": "object",
         "type": "string"
        },
        {
         "name": "Product",
         "rawType": "object",
         "type": "string"
        },
        {
         "name": "Quantitys",
         "rawType": "object",
         "type": "unknown"
        },
        {
         "name": "Purchase_prices",
         "rawType": "object",
         "type": "unknown"
        }
       ],
       "ref": "e371827a-5711-4229-8515-f5bc87aee5ab",
       "rows": [
        [
         "0",
         "C23",
         "Telephone",
         "420",
         "223"
        ],
        [
         "1",
         "C24",
         "Monitors",
         "Ten",
         "344"
        ],
        [
         "2",
         "C25",
         "Car",
         "234",
         "223"
        ],
        [
         "3",
         "C26",
         "Rent",
         "114",
         "Tenn"
        ],
        [
         "4",
         "C27",
         "Services",
         "56",
         "Two"
        ],
        [
         "5",
         "C28",
         "Training",
         "13",
         "223"
        ]
       ],
       "shape": {
        "columns": 4,
        "rows": 6
       }
      },
      "text/html": [
       "<div>\n",
       "<style scoped>\n",
       "    .dataframe tbody tr th:only-of-type {\n",
       "        vertical-align: middle;\n",
       "    }\n",
       "\n",
       "    .dataframe tbody tr th {\n",
       "        vertical-align: top;\n",
       "    }\n",
       "\n",
       "    .dataframe thead th {\n",
       "        text-align: right;\n",
       "    }\n",
       "</style>\n",
       "<table border=\"1\" class=\"dataframe\">\n",
       "  <thead>\n",
       "    <tr style=\"text-align: right;\">\n",
       "      <th></th>\n",
       "      <th>TR_ID</th>\n",
       "      <th>Product</th>\n",
       "      <th>Quantitys</th>\n",
       "      <th>Purchase_prices</th>\n",
       "    </tr>\n",
       "  </thead>\n",
       "  <tbody>\n",
       "    <tr>\n",
       "      <th>0</th>\n",
       "      <td>C23</td>\n",
       "      <td>Telephone</td>\n",
       "      <td>420</td>\n",
       "      <td>223</td>\n",
       "    </tr>\n",
       "    <tr>\n",
       "      <th>1</th>\n",
       "      <td>C24</td>\n",
       "      <td>Monitors</td>\n",
       "      <td>Ten</td>\n",
       "      <td>344</td>\n",
       "    </tr>\n",
       "    <tr>\n",
       "      <th>2</th>\n",
       "      <td>C25</td>\n",
       "      <td>Car</td>\n",
       "      <td>234</td>\n",
       "      <td>223</td>\n",
       "    </tr>\n",
       "    <tr>\n",
       "      <th>3</th>\n",
       "      <td>C26</td>\n",
       "      <td>Rent</td>\n",
       "      <td>114</td>\n",
       "      <td>Tenn</td>\n",
       "    </tr>\n",
       "    <tr>\n",
       "      <th>4</th>\n",
       "      <td>C27</td>\n",
       "      <td>Services</td>\n",
       "      <td>56</td>\n",
       "      <td>Two</td>\n",
       "    </tr>\n",
       "    <tr>\n",
       "      <th>5</th>\n",
       "      <td>C28</td>\n",
       "      <td>Training</td>\n",
       "      <td>13</td>\n",
       "      <td>223</td>\n",
       "    </tr>\n",
       "  </tbody>\n",
       "</table>\n",
       "</div>"
      ],
      "text/plain": [
       "  TR_ID    Product Quantitys Purchase_prices\n",
       "0   C23  Telephone       420             223\n",
       "1   C24   Monitors       Ten             344\n",
       "2   C25        Car       234             223\n",
       "3   C26       Rent       114            Tenn\n",
       "4   C27   Services        56             Two\n",
       "5   C28   Training        13             223"
      ]
     },
     "execution_count": 420,
     "metadata": {},
     "output_type": "execute_result"
    }
   ],
   "source": [
    "# Accepts dictionaries and stores the data frames as attributes.\n",
    "dict_df_db = DataFrameManager(dbase1_dict, dbase2_dict, dbase3_dict)\n",
    "\n",
    "dict_df_db.dict_df_1"
   ]
  },
  {
   "cell_type": "code",
   "execution_count": 421,
   "id": "2044da18",
   "metadata": {},
   "outputs": [
    {
     "data": {
      "application/vnd.microsoft.datawrangler.viewer.v0+json": {
       "columns": [
        {
         "name": "index",
         "rawType": "int64",
         "type": "integer"
        },
        {
         "name": "TR_ID",
         "rawType": "object",
         "type": "string"
        },
        {
         "name": "Products",
         "rawType": "object",
         "type": "string"
        },
        {
         "name": "Sale_price",
         "rawType": "object",
         "type": "unknown"
        },
        {
         "name": "Debit",
         "rawType": "int64",
         "type": "integer"
        }
       ],
       "ref": "7c3ef6f0-3fe3-4edc-b05a-4846609be644",
       "rows": [
        [
         "0",
         "C23",
         "Telephone",
         "300",
         "2"
        ],
        [
         "1",
         "C24",
         "Monitors",
         "435",
         "2"
        ],
        [
         "2",
         "C25",
         "Car",
         "329",
         "2"
        ],
        [
         "3",
         "C26",
         "Rent",
         "544",
         "2"
        ],
        [
         "4",
         "C27",
         "Services",
         "thirty",
         "2"
        ],
        [
         "5",
         "C28",
         "Training",
         "329",
         "2"
        ]
       ],
       "shape": {
        "columns": 4,
        "rows": 6
       }
      },
      "text/html": [
       "<div>\n",
       "<style scoped>\n",
       "    .dataframe tbody tr th:only-of-type {\n",
       "        vertical-align: middle;\n",
       "    }\n",
       "\n",
       "    .dataframe tbody tr th {\n",
       "        vertical-align: top;\n",
       "    }\n",
       "\n",
       "    .dataframe thead th {\n",
       "        text-align: right;\n",
       "    }\n",
       "</style>\n",
       "<table border=\"1\" class=\"dataframe\">\n",
       "  <thead>\n",
       "    <tr style=\"text-align: right;\">\n",
       "      <th></th>\n",
       "      <th>TR_ID</th>\n",
       "      <th>Products</th>\n",
       "      <th>Sale_price</th>\n",
       "      <th>Debit</th>\n",
       "    </tr>\n",
       "  </thead>\n",
       "  <tbody>\n",
       "    <tr>\n",
       "      <th>0</th>\n",
       "      <td>C23</td>\n",
       "      <td>Telephone</td>\n",
       "      <td>300</td>\n",
       "      <td>2</td>\n",
       "    </tr>\n",
       "    <tr>\n",
       "      <th>1</th>\n",
       "      <td>C24</td>\n",
       "      <td>Monitors</td>\n",
       "      <td>435</td>\n",
       "      <td>2</td>\n",
       "    </tr>\n",
       "    <tr>\n",
       "      <th>2</th>\n",
       "      <td>C25</td>\n",
       "      <td>Car</td>\n",
       "      <td>329</td>\n",
       "      <td>2</td>\n",
       "    </tr>\n",
       "    <tr>\n",
       "      <th>3</th>\n",
       "      <td>C26</td>\n",
       "      <td>Rent</td>\n",
       "      <td>544</td>\n",
       "      <td>2</td>\n",
       "    </tr>\n",
       "    <tr>\n",
       "      <th>4</th>\n",
       "      <td>C27</td>\n",
       "      <td>Services</td>\n",
       "      <td>thirty</td>\n",
       "      <td>2</td>\n",
       "    </tr>\n",
       "    <tr>\n",
       "      <th>5</th>\n",
       "      <td>C28</td>\n",
       "      <td>Training</td>\n",
       "      <td>329</td>\n",
       "      <td>2</td>\n",
       "    </tr>\n",
       "  </tbody>\n",
       "</table>\n",
       "</div>"
      ],
      "text/plain": [
       "  TR_ID   Products Sale_price  Debit\n",
       "0   C23  Telephone        300      2\n",
       "1   C24   Monitors        435      2\n",
       "2   C25        Car        329      2\n",
       "3   C26       Rent        544      2\n",
       "4   C27   Services     thirty      2\n",
       "5   C28   Training        329      2"
      ]
     },
     "execution_count": 421,
     "metadata": {},
     "output_type": "execute_result"
    }
   ],
   "source": [
    "dict_df_db.dict_df_2"
   ]
  },
  {
   "cell_type": "code",
   "execution_count": 422,
   "id": "5b3c73c3",
   "metadata": {},
   "outputs": [
    {
     "data": {
      "application/vnd.microsoft.datawrangler.viewer.v0+json": {
       "columns": [
        {
         "name": "index",
         "rawType": "int64",
         "type": "integer"
        },
        {
         "name": "TR_ID",
         "rawType": "object",
         "type": "string"
        },
        {
         "name": "Product",
         "rawType": "object",
         "type": "string"
        },
        {
         "name": "Quantity",
         "rawType": "int64",
         "type": "integer"
        },
        {
         "name": "Purchase_price",
         "rawType": "int64",
         "type": "integer"
        },
        {
         "name": "Sale_price",
         "rawType": "int64",
         "type": "integer"
        }
       ],
       "ref": "149a6fc9-1dbd-4366-b637-e5f1aca3d647",
       "rows": [
        [
         "0",
         "C28",
         "Training",
         "13",
         "223",
         "329"
        ]
       ],
       "shape": {
        "columns": 5,
        "rows": 1
       }
      },
      "text/html": [
       "<div>\n",
       "<style scoped>\n",
       "    .dataframe tbody tr th:only-of-type {\n",
       "        vertical-align: middle;\n",
       "    }\n",
       "\n",
       "    .dataframe tbody tr th {\n",
       "        vertical-align: top;\n",
       "    }\n",
       "\n",
       "    .dataframe thead th {\n",
       "        text-align: right;\n",
       "    }\n",
       "</style>\n",
       "<table border=\"1\" class=\"dataframe\">\n",
       "  <thead>\n",
       "    <tr style=\"text-align: right;\">\n",
       "      <th></th>\n",
       "      <th>TR_ID</th>\n",
       "      <th>Product</th>\n",
       "      <th>Quantity</th>\n",
       "      <th>Purchase_price</th>\n",
       "      <th>Sale_price</th>\n",
       "    </tr>\n",
       "  </thead>\n",
       "  <tbody>\n",
       "    <tr>\n",
       "      <th>0</th>\n",
       "      <td>C28</td>\n",
       "      <td>Training</td>\n",
       "      <td>13</td>\n",
       "      <td>223</td>\n",
       "      <td>329</td>\n",
       "    </tr>\n",
       "  </tbody>\n",
       "</table>\n",
       "</div>"
      ],
      "text/plain": [
       "  TR_ID   Product  Quantity  Purchase_price  Sale_price\n",
       "0   C28  Training        13             223         329"
      ]
     },
     "execution_count": 422,
     "metadata": {},
     "output_type": "execute_result"
    }
   ],
   "source": [
    "dict_df_db.dict_df_3"
   ]
  },
  {
   "cell_type": "markdown",
   "id": "acc4f333",
   "metadata": {},
   "source": [
    "## b. Note that the databases and the corresponding column names with spelling differences. Correct this to have all column names without ‘s’\n"
   ]
  },
  {
   "cell_type": "code",
   "execution_count": 423,
   "id": "6dd304fe",
   "metadata": {},
   "outputs": [
    {
     "data": {
      "application/vnd.microsoft.datawrangler.viewer.v0+json": {
       "columns": [
        {
         "name": "index",
         "rawType": "int64",
         "type": "integer"
        },
        {
         "name": "TR_ID",
         "rawType": "object",
         "type": "string"
        },
        {
         "name": "Product",
         "rawType": "object",
         "type": "string"
        },
        {
         "name": "Quantity",
         "rawType": "object",
         "type": "unknown"
        },
        {
         "name": "Purchase_price",
         "rawType": "object",
         "type": "unknown"
        }
       ],
       "ref": "90fc7052-0522-4cae-9f1b-721433fcd27a",
       "rows": [
        [
         "0",
         "C23",
         "Telephone",
         "420",
         "223"
        ],
        [
         "1",
         "C24",
         "Monitors",
         "Ten",
         "344"
        ],
        [
         "2",
         "C25",
         "Car",
         "234",
         "223"
        ],
        [
         "3",
         "C26",
         "Rent",
         "114",
         "Tenn"
        ],
        [
         "4",
         "C27",
         "Services",
         "56",
         "Two"
        ],
        [
         "5",
         "C28",
         "Training",
         "13",
         "223"
        ]
       ],
       "shape": {
        "columns": 4,
        "rows": 6
       }
      },
      "text/html": [
       "<div>\n",
       "<style scoped>\n",
       "    .dataframe tbody tr th:only-of-type {\n",
       "        vertical-align: middle;\n",
       "    }\n",
       "\n",
       "    .dataframe tbody tr th {\n",
       "        vertical-align: top;\n",
       "    }\n",
       "\n",
       "    .dataframe thead th {\n",
       "        text-align: right;\n",
       "    }\n",
       "</style>\n",
       "<table border=\"1\" class=\"dataframe\">\n",
       "  <thead>\n",
       "    <tr style=\"text-align: right;\">\n",
       "      <th></th>\n",
       "      <th>TR_ID</th>\n",
       "      <th>Product</th>\n",
       "      <th>Quantity</th>\n",
       "      <th>Purchase_price</th>\n",
       "    </tr>\n",
       "  </thead>\n",
       "  <tbody>\n",
       "    <tr>\n",
       "      <th>0</th>\n",
       "      <td>C23</td>\n",
       "      <td>Telephone</td>\n",
       "      <td>420</td>\n",
       "      <td>223</td>\n",
       "    </tr>\n",
       "    <tr>\n",
       "      <th>1</th>\n",
       "      <td>C24</td>\n",
       "      <td>Monitors</td>\n",
       "      <td>Ten</td>\n",
       "      <td>344</td>\n",
       "    </tr>\n",
       "    <tr>\n",
       "      <th>2</th>\n",
       "      <td>C25</td>\n",
       "      <td>Car</td>\n",
       "      <td>234</td>\n",
       "      <td>223</td>\n",
       "    </tr>\n",
       "    <tr>\n",
       "      <th>3</th>\n",
       "      <td>C26</td>\n",
       "      <td>Rent</td>\n",
       "      <td>114</td>\n",
       "      <td>Tenn</td>\n",
       "    </tr>\n",
       "    <tr>\n",
       "      <th>4</th>\n",
       "      <td>C27</td>\n",
       "      <td>Services</td>\n",
       "      <td>56</td>\n",
       "      <td>Two</td>\n",
       "    </tr>\n",
       "    <tr>\n",
       "      <th>5</th>\n",
       "      <td>C28</td>\n",
       "      <td>Training</td>\n",
       "      <td>13</td>\n",
       "      <td>223</td>\n",
       "    </tr>\n",
       "  </tbody>\n",
       "</table>\n",
       "</div>"
      ],
      "text/plain": [
       "  TR_ID    Product Quantity Purchase_price\n",
       "0   C23  Telephone      420            223\n",
       "1   C24   Monitors      Ten            344\n",
       "2   C25        Car      234            223\n",
       "3   C26       Rent      114           Tenn\n",
       "4   C27   Services       56            Two\n",
       "5   C28   Training       13            223"
      ]
     },
     "execution_count": 423,
     "metadata": {},
     "output_type": "execute_result"
    }
   ],
   "source": [
    "dict_df_db.clean_headings()\n",
    "dict_df_db.dict_df_1"
   ]
  },
  {
   "cell_type": "markdown",
   "id": "742f22a6",
   "metadata": {},
   "source": [
    "## c. Combine the above three databases into one single dataframe called ‘dbase4’ in python using the appropriate method and libraries.\n"
   ]
  },
  {
   "cell_type": "code",
   "execution_count": 424,
   "id": "ebf65008",
   "metadata": {},
   "outputs": [
    {
     "data": {
      "application/vnd.microsoft.datawrangler.viewer.v0+json": {
       "columns": [
        {
         "name": "index",
         "rawType": "int64",
         "type": "integer"
        },
        {
         "name": "TR_ID",
         "rawType": "object",
         "type": "string"
        },
        {
         "name": "Product",
         "rawType": "object",
         "type": "string"
        },
        {
         "name": "Quantity",
         "rawType": "object",
         "type": "unknown"
        },
        {
         "name": "Purchase_price",
         "rawType": "object",
         "type": "unknown"
        },
        {
         "name": "Sale_price",
         "rawType": "object",
         "type": "unknown"
        },
        {
         "name": "Debit",
         "rawType": "int64",
         "type": "integer"
        }
       ],
       "ref": "8cf9c60e-3199-4448-a3ef-e83a912f0802",
       "rows": [
        [
         "0",
         "C23",
         "Telephone",
         "420",
         "223",
         "300",
         "2"
        ],
        [
         "1",
         "C24",
         "Monitors",
         "Ten",
         "344",
         "435",
         "2"
        ],
        [
         "2",
         "C25",
         "Car",
         "234",
         "223",
         "329",
         "2"
        ],
        [
         "3",
         "C26",
         "Rent",
         "114",
         "Tenn",
         "544",
         "2"
        ],
        [
         "4",
         "C27",
         "Services",
         "56",
         "Two",
         "thirty",
         "2"
        ],
        [
         "5",
         "C28",
         "Training",
         "13",
         "223",
         "329",
         "2"
        ]
       ],
       "shape": {
        "columns": 6,
        "rows": 6
       }
      },
      "text/html": [
       "<div>\n",
       "<style scoped>\n",
       "    .dataframe tbody tr th:only-of-type {\n",
       "        vertical-align: middle;\n",
       "    }\n",
       "\n",
       "    .dataframe tbody tr th {\n",
       "        vertical-align: top;\n",
       "    }\n",
       "\n",
       "    .dataframe thead th {\n",
       "        text-align: right;\n",
       "    }\n",
       "</style>\n",
       "<table border=\"1\" class=\"dataframe\">\n",
       "  <thead>\n",
       "    <tr style=\"text-align: right;\">\n",
       "      <th></th>\n",
       "      <th>TR_ID</th>\n",
       "      <th>Product</th>\n",
       "      <th>Quantity</th>\n",
       "      <th>Purchase_price</th>\n",
       "      <th>Sale_price</th>\n",
       "      <th>Debit</th>\n",
       "    </tr>\n",
       "  </thead>\n",
       "  <tbody>\n",
       "    <tr>\n",
       "      <th>0</th>\n",
       "      <td>C23</td>\n",
       "      <td>Telephone</td>\n",
       "      <td>420</td>\n",
       "      <td>223</td>\n",
       "      <td>300</td>\n",
       "      <td>2</td>\n",
       "    </tr>\n",
       "    <tr>\n",
       "      <th>1</th>\n",
       "      <td>C24</td>\n",
       "      <td>Monitors</td>\n",
       "      <td>Ten</td>\n",
       "      <td>344</td>\n",
       "      <td>435</td>\n",
       "      <td>2</td>\n",
       "    </tr>\n",
       "    <tr>\n",
       "      <th>2</th>\n",
       "      <td>C25</td>\n",
       "      <td>Car</td>\n",
       "      <td>234</td>\n",
       "      <td>223</td>\n",
       "      <td>329</td>\n",
       "      <td>2</td>\n",
       "    </tr>\n",
       "    <tr>\n",
       "      <th>3</th>\n",
       "      <td>C26</td>\n",
       "      <td>Rent</td>\n",
       "      <td>114</td>\n",
       "      <td>Tenn</td>\n",
       "      <td>544</td>\n",
       "      <td>2</td>\n",
       "    </tr>\n",
       "    <tr>\n",
       "      <th>4</th>\n",
       "      <td>C27</td>\n",
       "      <td>Services</td>\n",
       "      <td>56</td>\n",
       "      <td>Two</td>\n",
       "      <td>thirty</td>\n",
       "      <td>2</td>\n",
       "    </tr>\n",
       "    <tr>\n",
       "      <th>5</th>\n",
       "      <td>C28</td>\n",
       "      <td>Training</td>\n",
       "      <td>13</td>\n",
       "      <td>223</td>\n",
       "      <td>329</td>\n",
       "      <td>2</td>\n",
       "    </tr>\n",
       "  </tbody>\n",
       "</table>\n",
       "</div>"
      ],
      "text/plain": [
       "  TR_ID    Product Quantity Purchase_price Sale_price  Debit\n",
       "0   C23  Telephone      420            223        300      2\n",
       "1   C24   Monitors      Ten            344        435      2\n",
       "2   C25        Car      234            223        329      2\n",
       "3   C26       Rent      114           Tenn        544      2\n",
       "4   C27   Services       56            Two     thirty      2\n",
       "5   C28   Training       13            223        329      2"
      ]
     },
     "execution_count": 424,
     "metadata": {},
     "output_type": "execute_result"
    }
   ],
   "source": [
    "dict_df_db.join_dataframes('dbase4')\n",
    "dict_df_db.dbase4"
   ]
  },
  {
   "cell_type": "markdown",
   "id": "e17387ed",
   "metadata": {},
   "source": [
    "## d. Consider the character values as error, remove these errors and replace with column’s mean.\n"
   ]
  },
  {
   "cell_type": "code",
   "execution_count": 425,
   "id": "0e6737d4",
   "metadata": {},
   "outputs": [
    {
     "data": {
      "application/vnd.microsoft.datawrangler.viewer.v0+json": {
       "columns": [
        {
         "name": "index",
         "rawType": "int64",
         "type": "integer"
        },
        {
         "name": "TR_ID",
         "rawType": "object",
         "type": "string"
        },
        {
         "name": "Product",
         "rawType": "object",
         "type": "string"
        },
        {
         "name": "Quantity",
         "rawType": "int64",
         "type": "integer"
        },
        {
         "name": "Purchase_price",
         "rawType": "int64",
         "type": "integer"
        },
        {
         "name": "Sale_price",
         "rawType": "int64",
         "type": "integer"
        },
        {
         "name": "Debit",
         "rawType": "int64",
         "type": "integer"
        }
       ],
       "ref": "ec9191fd-8c3d-414a-bdde-7bd8849e3841",
       "rows": [
        [
         "0",
         "C23",
         "Telephone",
         "420",
         "223",
         "300",
         "2"
        ],
        [
         "1",
         "C24",
         "Monitors",
         "140",
         "344",
         "435",
         "2"
        ],
        [
         "2",
         "C25",
         "Car",
         "234",
         "223",
         "329",
         "2"
        ],
        [
         "3",
         "C26",
         "Rent",
         "114",
         "169",
         "544",
         "2"
        ],
        [
         "4",
         "C27",
         "Services",
         "56",
         "169",
         "323",
         "2"
        ],
        [
         "5",
         "C28",
         "Training",
         "13",
         "223",
         "329",
         "2"
        ]
       ],
       "shape": {
        "columns": 6,
        "rows": 6
       }
      },
      "text/html": [
       "<div>\n",
       "<style scoped>\n",
       "    .dataframe tbody tr th:only-of-type {\n",
       "        vertical-align: middle;\n",
       "    }\n",
       "\n",
       "    .dataframe tbody tr th {\n",
       "        vertical-align: top;\n",
       "    }\n",
       "\n",
       "    .dataframe thead th {\n",
       "        text-align: right;\n",
       "    }\n",
       "</style>\n",
       "<table border=\"1\" class=\"dataframe\">\n",
       "  <thead>\n",
       "    <tr style=\"text-align: right;\">\n",
       "      <th></th>\n",
       "      <th>TR_ID</th>\n",
       "      <th>Product</th>\n",
       "      <th>Quantity</th>\n",
       "      <th>Purchase_price</th>\n",
       "      <th>Sale_price</th>\n",
       "      <th>Debit</th>\n",
       "    </tr>\n",
       "  </thead>\n",
       "  <tbody>\n",
       "    <tr>\n",
       "      <th>0</th>\n",
       "      <td>C23</td>\n",
       "      <td>Telephone</td>\n",
       "      <td>420</td>\n",
       "      <td>223</td>\n",
       "      <td>300</td>\n",
       "      <td>2</td>\n",
       "    </tr>\n",
       "    <tr>\n",
       "      <th>1</th>\n",
       "      <td>C24</td>\n",
       "      <td>Monitors</td>\n",
       "      <td>140</td>\n",
       "      <td>344</td>\n",
       "      <td>435</td>\n",
       "      <td>2</td>\n",
       "    </tr>\n",
       "    <tr>\n",
       "      <th>2</th>\n",
       "      <td>C25</td>\n",
       "      <td>Car</td>\n",
       "      <td>234</td>\n",
       "      <td>223</td>\n",
       "      <td>329</td>\n",
       "      <td>2</td>\n",
       "    </tr>\n",
       "    <tr>\n",
       "      <th>3</th>\n",
       "      <td>C26</td>\n",
       "      <td>Rent</td>\n",
       "      <td>114</td>\n",
       "      <td>169</td>\n",
       "      <td>544</td>\n",
       "      <td>2</td>\n",
       "    </tr>\n",
       "    <tr>\n",
       "      <th>4</th>\n",
       "      <td>C27</td>\n",
       "      <td>Services</td>\n",
       "      <td>56</td>\n",
       "      <td>169</td>\n",
       "      <td>323</td>\n",
       "      <td>2</td>\n",
       "    </tr>\n",
       "    <tr>\n",
       "      <th>5</th>\n",
       "      <td>C28</td>\n",
       "      <td>Training</td>\n",
       "      <td>13</td>\n",
       "      <td>223</td>\n",
       "      <td>329</td>\n",
       "      <td>2</td>\n",
       "    </tr>\n",
       "  </tbody>\n",
       "</table>\n",
       "</div>"
      ],
      "text/plain": [
       "  TR_ID    Product  Quantity  Purchase_price  Sale_price  Debit\n",
       "0   C23  Telephone       420             223         300      2\n",
       "1   C24   Monitors       140             344         435      2\n",
       "2   C25        Car       234             223         329      2\n",
       "3   C26       Rent       114             169         544      2\n",
       "4   C27   Services        56             169         323      2\n",
       "5   C28   Training        13             223         329      2"
      ]
     },
     "execution_count": 425,
     "metadata": {},
     "output_type": "execute_result"
    }
   ],
   "source": [
    "dict_df_db.clean_number(\n",
    "    dict_df_db.dbase4,\n",
    "    ['Quantity', 'Purchase_price', 'Sale_price'],\n",
    ")\n",
    "dict_df_db.dbase4"
   ]
  },
  {
   "cell_type": "markdown",
   "id": "91c33176",
   "metadata": {},
   "source": [
    "## e. Delete the variable ‘Debit’ as not needed then add a column called‘Department’ and assign values from product column: Telphone, monitor -> IT, Car -> transport Rent, Services-> Consultancy Training -> Education\n"
   ]
  },
  {
   "cell_type": "code",
   "execution_count": 426,
   "id": "f1c6c594",
   "metadata": {},
   "outputs": [
    {
     "data": {
      "application/vnd.microsoft.datawrangler.viewer.v0+json": {
       "columns": [
        {
         "name": "index",
         "rawType": "int64",
         "type": "integer"
        },
        {
         "name": "TR_ID",
         "rawType": "object",
         "type": "string"
        },
        {
         "name": "Product",
         "rawType": "object",
         "type": "string"
        },
        {
         "name": "Quantity",
         "rawType": "int64",
         "type": "integer"
        },
        {
         "name": "Purchase_price",
         "rawType": "int64",
         "type": "integer"
        },
        {
         "name": "Sale_price",
         "rawType": "int64",
         "type": "integer"
        }
       ],
       "ref": "1a989770-162b-42b9-8757-e27baf47af99",
       "rows": [
        [
         "0",
         "C23",
         "Telephone",
         "420",
         "223",
         "300"
        ],
        [
         "1",
         "C24",
         "Monitors",
         "140",
         "344",
         "435"
        ],
        [
         "2",
         "C25",
         "Car",
         "234",
         "223",
         "329"
        ],
        [
         "3",
         "C26",
         "Rent",
         "114",
         "169",
         "544"
        ],
        [
         "4",
         "C27",
         "Services",
         "56",
         "169",
         "323"
        ],
        [
         "5",
         "C28",
         "Training",
         "13",
         "223",
         "329"
        ]
       ],
       "shape": {
        "columns": 5,
        "rows": 6
       }
      },
      "text/html": [
       "<div>\n",
       "<style scoped>\n",
       "    .dataframe tbody tr th:only-of-type {\n",
       "        vertical-align: middle;\n",
       "    }\n",
       "\n",
       "    .dataframe tbody tr th {\n",
       "        vertical-align: top;\n",
       "    }\n",
       "\n",
       "    .dataframe thead th {\n",
       "        text-align: right;\n",
       "    }\n",
       "</style>\n",
       "<table border=\"1\" class=\"dataframe\">\n",
       "  <thead>\n",
       "    <tr style=\"text-align: right;\">\n",
       "      <th></th>\n",
       "      <th>TR_ID</th>\n",
       "      <th>Product</th>\n",
       "      <th>Quantity</th>\n",
       "      <th>Purchase_price</th>\n",
       "      <th>Sale_price</th>\n",
       "    </tr>\n",
       "  </thead>\n",
       "  <tbody>\n",
       "    <tr>\n",
       "      <th>0</th>\n",
       "      <td>C23</td>\n",
       "      <td>Telephone</td>\n",
       "      <td>420</td>\n",
       "      <td>223</td>\n",
       "      <td>300</td>\n",
       "    </tr>\n",
       "    <tr>\n",
       "      <th>1</th>\n",
       "      <td>C24</td>\n",
       "      <td>Monitors</td>\n",
       "      <td>140</td>\n",
       "      <td>344</td>\n",
       "      <td>435</td>\n",
       "    </tr>\n",
       "    <tr>\n",
       "      <th>2</th>\n",
       "      <td>C25</td>\n",
       "      <td>Car</td>\n",
       "      <td>234</td>\n",
       "      <td>223</td>\n",
       "      <td>329</td>\n",
       "    </tr>\n",
       "    <tr>\n",
       "      <th>3</th>\n",
       "      <td>C26</td>\n",
       "      <td>Rent</td>\n",
       "      <td>114</td>\n",
       "      <td>169</td>\n",
       "      <td>544</td>\n",
       "    </tr>\n",
       "    <tr>\n",
       "      <th>4</th>\n",
       "      <td>C27</td>\n",
       "      <td>Services</td>\n",
       "      <td>56</td>\n",
       "      <td>169</td>\n",
       "      <td>323</td>\n",
       "    </tr>\n",
       "    <tr>\n",
       "      <th>5</th>\n",
       "      <td>C28</td>\n",
       "      <td>Training</td>\n",
       "      <td>13</td>\n",
       "      <td>223</td>\n",
       "      <td>329</td>\n",
       "    </tr>\n",
       "  </tbody>\n",
       "</table>\n",
       "</div>"
      ],
      "text/plain": [
       "  TR_ID    Product  Quantity  Purchase_price  Sale_price\n",
       "0   C23  Telephone       420             223         300\n",
       "1   C24   Monitors       140             344         435\n",
       "2   C25        Car       234             223         329\n",
       "3   C26       Rent       114             169         544\n",
       "4   C27   Services        56             169         323\n",
       "5   C28   Training        13             223         329"
      ]
     },
     "execution_count": 426,
     "metadata": {},
     "output_type": "execute_result"
    }
   ],
   "source": [
    "dict_df_db.delete_col(dict_df_db.dbase4, 'Debit')\n",
    "dict_df_db.dbase4"
   ]
  },
  {
   "cell_type": "code",
   "execution_count": 427,
   "id": "c5ce753c",
   "metadata": {},
   "outputs": [
    {
     "data": {
      "application/vnd.microsoft.datawrangler.viewer.v0+json": {
       "columns": [
        {
         "name": "index",
         "rawType": "int64",
         "type": "integer"
        },
        {
         "name": "TR_ID",
         "rawType": "object",
         "type": "string"
        },
        {
         "name": "Product",
         "rawType": "object",
         "type": "string"
        },
        {
         "name": "Quantity",
         "rawType": "int64",
         "type": "integer"
        },
        {
         "name": "Purchase_price",
         "rawType": "int64",
         "type": "integer"
        },
        {
         "name": "Sale_price",
         "rawType": "int64",
         "type": "integer"
        },
        {
         "name": "Department",
         "rawType": "object",
         "type": "string"
        }
       ],
       "ref": "dd4e0fea-e6a7-44f9-84dc-f3dd45549671",
       "rows": [
        [
         "0",
         "C23",
         "Telephone",
         "420",
         "223",
         "300",
         "IT"
        ],
        [
         "1",
         "C24",
         "Monitors",
         "140",
         "344",
         "435",
         "IT"
        ],
        [
         "2",
         "C25",
         "Car",
         "234",
         "223",
         "329",
         "Transport"
        ],
        [
         "3",
         "C26",
         "Rent",
         "114",
         "169",
         "544",
         "Consultancy"
        ],
        [
         "4",
         "C27",
         "Services",
         "56",
         "169",
         "323",
         "Consultancy"
        ],
        [
         "5",
         "C28",
         "Training",
         "13",
         "223",
         "329",
         "Education"
        ]
       ],
       "shape": {
        "columns": 6,
        "rows": 6
       }
      },
      "text/html": [
       "<div>\n",
       "<style scoped>\n",
       "    .dataframe tbody tr th:only-of-type {\n",
       "        vertical-align: middle;\n",
       "    }\n",
       "\n",
       "    .dataframe tbody tr th {\n",
       "        vertical-align: top;\n",
       "    }\n",
       "\n",
       "    .dataframe thead th {\n",
       "        text-align: right;\n",
       "    }\n",
       "</style>\n",
       "<table border=\"1\" class=\"dataframe\">\n",
       "  <thead>\n",
       "    <tr style=\"text-align: right;\">\n",
       "      <th></th>\n",
       "      <th>TR_ID</th>\n",
       "      <th>Product</th>\n",
       "      <th>Quantity</th>\n",
       "      <th>Purchase_price</th>\n",
       "      <th>Sale_price</th>\n",
       "      <th>Department</th>\n",
       "    </tr>\n",
       "  </thead>\n",
       "  <tbody>\n",
       "    <tr>\n",
       "      <th>0</th>\n",
       "      <td>C23</td>\n",
       "      <td>Telephone</td>\n",
       "      <td>420</td>\n",
       "      <td>223</td>\n",
       "      <td>300</td>\n",
       "      <td>IT</td>\n",
       "    </tr>\n",
       "    <tr>\n",
       "      <th>1</th>\n",
       "      <td>C24</td>\n",
       "      <td>Monitors</td>\n",
       "      <td>140</td>\n",
       "      <td>344</td>\n",
       "      <td>435</td>\n",
       "      <td>IT</td>\n",
       "    </tr>\n",
       "    <tr>\n",
       "      <th>2</th>\n",
       "      <td>C25</td>\n",
       "      <td>Car</td>\n",
       "      <td>234</td>\n",
       "      <td>223</td>\n",
       "      <td>329</td>\n",
       "      <td>Transport</td>\n",
       "    </tr>\n",
       "    <tr>\n",
       "      <th>3</th>\n",
       "      <td>C26</td>\n",
       "      <td>Rent</td>\n",
       "      <td>114</td>\n",
       "      <td>169</td>\n",
       "      <td>544</td>\n",
       "      <td>Consultancy</td>\n",
       "    </tr>\n",
       "    <tr>\n",
       "      <th>4</th>\n",
       "      <td>C27</td>\n",
       "      <td>Services</td>\n",
       "      <td>56</td>\n",
       "      <td>169</td>\n",
       "      <td>323</td>\n",
       "      <td>Consultancy</td>\n",
       "    </tr>\n",
       "    <tr>\n",
       "      <th>5</th>\n",
       "      <td>C28</td>\n",
       "      <td>Training</td>\n",
       "      <td>13</td>\n",
       "      <td>223</td>\n",
       "      <td>329</td>\n",
       "      <td>Education</td>\n",
       "    </tr>\n",
       "  </tbody>\n",
       "</table>\n",
       "</div>"
      ],
      "text/plain": [
       "  TR_ID    Product  Quantity  Purchase_price  Sale_price   Department\n",
       "0   C23  Telephone       420             223         300           IT\n",
       "1   C24   Monitors       140             344         435           IT\n",
       "2   C25        Car       234             223         329    Transport\n",
       "3   C26       Rent       114             169         544  Consultancy\n",
       "4   C27   Services        56             169         323  Consultancy\n",
       "5   C28   Training        13             223         329    Education"
      ]
     },
     "execution_count": 427,
     "metadata": {},
     "output_type": "execute_result"
    }
   ],
   "source": [
    "dict_df_db.add_col(dict_df_db.dbase4, 'Department')\n",
    "dict_df_db.dbase4"
   ]
  },
  {
   "cell_type": "markdown",
   "id": "89a8b1c3",
   "metadata": {},
   "source": [
    "## f. Visualise the data by creating the plot: product by sale and purchase prices on the same plot.\n"
   ]
  },
  {
   "cell_type": "code",
   "execution_count": 428,
   "id": "e5e503b7",
   "metadata": {},
   "outputs": [
    {
     "data": {
      "text/plain": [
       "<Axes: xlabel='Purchase_price', ylabel='Sale_price'>"
      ]
     },
     "execution_count": 428,
     "metadata": {},
     "output_type": "execute_result"
    },
    {
     "data": {
      "image/png": "[encoded data removed]",
      "text/plain": [
       "<Figure size 640x480 with 1 Axes>"
      ]
     },
     "metadata": {},
     "output_type": "display_data"
    }
   ],
   "source": [
    "sns.scatterplot(data=dict_df_db.dbase4, x='Purchase_price', y='Sale_price')"
   ]
  },
  {
   "cell_type": "markdown",
   "id": "c04de40e",
   "metadata": {},
   "source": [
    "## g. After creating the single dataframe: Using DataFrame and Class or other method with the above corrected values: Calculate:\n",
    "\n",
    "Revenue = Quantity*Sale_price\n",
    "Cost= quantity*purchase_price\n",
    "Note if revenue > $55000 then a cashback of 5% is given so revenue is less by the 5% amount\n",
    "If revenue > $35000 and <= $550000 then cashback of %2 is given and revenue less the 2% amount But If revenue <=35000 then cashback of 1% amount is given\n",
    "The calculated total cost and total revenue Profit= total revenue – total cost. Report the TR_ID, product name, total revenue , total cost and profit.Check if final profit> 0 then print a message. If final profit = 0 then print a message If final profit < 0 then print a message\n"
   ]
  },
  {
   "cell_type": "code",
   "execution_count": 429,
   "id": "e904ffaf",
   "metadata": {},
   "outputs": [
    {
     "ename": "KeyError",
     "evalue": "'TR_'",
     "output_type": "error",
     "traceback": [
      "\u001b[31m---------------------------------------------------------------------------\u001b[39m",
      "\u001b[31mKeyError\u001b[39m                                  Traceback (most recent call last)",
      "\u001b[36mFile \u001b[39m\u001b[32mc:\\Users\\kenzedd\\Documents\\programming\\data-analytics-dbs\\programming\\ca2\\.venv\\Lib\\site-packages\\pandas\\core\\indexes\\base.py:3812\u001b[39m, in \u001b[36mIndex.get_loc\u001b[39m\u001b[34m(self, key)\u001b[39m\n\u001b[32m   3811\u001b[39m \u001b[38;5;28;01mtry\u001b[39;00m:\n\u001b[32m-> \u001b[39m\u001b[32m3812\u001b[39m     \u001b[38;5;28;01mreturn\u001b[39;00m \u001b[38;5;28;43mself\u001b[39;49m\u001b[43m.\u001b[49m\u001b[43m_engine\u001b[49m\u001b[43m.\u001b[49m\u001b[43mget_loc\u001b[49m\u001b[43m(\u001b[49m\u001b[43mcasted_key\u001b[49m\u001b[43m)\u001b[49m\n\u001b[32m   3813\u001b[39m \u001b[38;5;28;01mexcept\u001b[39;00m \u001b[38;5;167;01mKeyError\u001b[39;00m \u001b[38;5;28;01mas\u001b[39;00m err:\n",
      "\u001b[36mFile \u001b[39m\u001b[32mpandas/_libs/index.pyx:167\u001b[39m, in \u001b[36mpandas._libs.index.IndexEngine.get_loc\u001b[39m\u001b[34m()\u001b[39m\n",
      "\u001b[36mFile \u001b[39m\u001b[32mpandas/_libs/index.pyx:196\u001b[39m, in \u001b[36mpandas._libs.index.IndexEngine.get_loc\u001b[39m\u001b[34m()\u001b[39m\n",
      "\u001b[36mFile \u001b[39m\u001b[32mpandas/_libs/hashtable_class_helper.pxi:7088\u001b[39m, in \u001b[36mpandas._libs.hashtable.PyObjectHashTable.get_item\u001b[39m\u001b[34m()\u001b[39m\n",
      "\u001b[36mFile \u001b[39m\u001b[32mpandas/_libs/hashtable_class_helper.pxi:7096\u001b[39m, in \u001b[36mpandas._libs.hashtable.PyObjectHashTable.get_item\u001b[39m\u001b[34m()\u001b[39m\n",
      "\u001b[31mKeyError\u001b[39m: 'TR_'",
      "\nThe above exception was the direct cause of the following exception:\n",
      "\u001b[31mKeyError\u001b[39m                                  Traceback (most recent call last)",
      "\u001b[36mCell\u001b[39m\u001b[36m \u001b[39m\u001b[32mIn[429]\u001b[39m\u001b[32m, line 1\u001b[39m\n\u001b[32m----> \u001b[39m\u001b[32m1\u001b[39m dbase4_finances = \u001b[43mdict_df_db\u001b[49m\u001b[43m.\u001b[49m\u001b[43mcreate_finance_frame\u001b[49m\u001b[43m(\u001b[49m\u001b[43mdict_df_db\u001b[49m\u001b[43m.\u001b[49m\u001b[43mdbase4\u001b[49m\u001b[43m)\u001b[49m\n\u001b[32m      2\u001b[39m dbase4_finances.style.format({\u001b[33m'\u001b[39m\u001b[33mRevenue\u001b[39m\u001b[33m'\u001b[39m: \u001b[33m'\u001b[39m\u001b[38;5;132;01m{:.2f}\u001b[39;00m\u001b[33m'\u001b[39m, \u001b[33m'\u001b[39m\u001b[33mProfit\u001b[39m\u001b[33m'\u001b[39m: \u001b[33m'\u001b[39m\u001b[38;5;132;01m{:.2f}\u001b[39;00m\u001b[33m'\u001b[39m})\n",
      "\u001b[36mCell\u001b[39m\u001b[36m \u001b[39m\u001b[32mIn[418]\u001b[39m\u001b[32m, line 150\u001b[39m, in \u001b[36mDataFrameManager.create_finance_frame\u001b[39m\u001b[34m(self, frame)\u001b[39m\n\u001b[32m    140\u001b[39m \u001b[38;5;250m\u001b[39m\u001b[33;03m\"\"\"Create a new DataFrame with financial statistics.\u001b[39;00m\n\u001b[32m    141\u001b[39m \n\u001b[32m    142\u001b[39m \u001b[33;03mArgs:\u001b[39;00m\n\u001b[32m   (...)\u001b[39m\u001b[32m    147\u001b[39m \n\u001b[32m    148\u001b[39m \u001b[33;03m\"\"\"\u001b[39;00m\n\u001b[32m    149\u001b[39m \u001b[38;5;66;03m# Define a dictionary to use as a frame later\u001b[39;00m\n\u001b[32m--> \u001b[39m\u001b[32m150\u001b[39m finance_frame = {\u001b[33m'\u001b[39m\u001b[33mTR_ID\u001b[39m\u001b[33m'\u001b[39m: \u001b[43mframe\u001b[49m\u001b[43m[\u001b[49m\u001b[33;43m'\u001b[39;49m\u001b[33;43mTR_\u001b[39;49m\u001b[33;43m'\u001b[39;49m\u001b[43m]\u001b[49m, \u001b[33m'\u001b[39m\u001b[33mProduct\u001b[39m\u001b[33m'\u001b[39m: frame[\u001b[33m'\u001b[39m\u001b[33mProduct\u001b[39m\u001b[33m'\u001b[39m]}\n\u001b[32m    152\u001b[39m \u001b[38;5;66;03m# Initalise lists to add to frame later.\u001b[39;00m\n\u001b[32m    153\u001b[39m revenue = []\n",
      "\u001b[36mFile \u001b[39m\u001b[32mc:\\Users\\kenzedd\\Documents\\programming\\data-analytics-dbs\\programming\\ca2\\.venv\\Lib\\site-packages\\pandas\\core\\frame.py:4107\u001b[39m, in \u001b[36mDataFrame.__getitem__\u001b[39m\u001b[34m(self, key)\u001b[39m\n\u001b[32m   4105\u001b[39m \u001b[38;5;28;01mif\u001b[39;00m \u001b[38;5;28mself\u001b[39m.columns.nlevels > \u001b[32m1\u001b[39m:\n\u001b[32m   4106\u001b[39m     \u001b[38;5;28;01mreturn\u001b[39;00m \u001b[38;5;28mself\u001b[39m._getitem_multilevel(key)\n\u001b[32m-> \u001b[39m\u001b[32m4107\u001b[39m indexer = \u001b[38;5;28;43mself\u001b[39;49m\u001b[43m.\u001b[49m\u001b[43mcolumns\u001b[49m\u001b[43m.\u001b[49m\u001b[43mget_loc\u001b[49m\u001b[43m(\u001b[49m\u001b[43mkey\u001b[49m\u001b[43m)\u001b[49m\n\u001b[32m   4108\u001b[39m \u001b[38;5;28;01mif\u001b[39;00m is_integer(indexer):\n\u001b[32m   4109\u001b[39m     indexer = [indexer]\n",
      "\u001b[36mFile \u001b[39m\u001b[32mc:\\Users\\kenzedd\\Documents\\programming\\data-analytics-dbs\\programming\\ca2\\.venv\\Lib\\site-packages\\pandas\\core\\indexes\\base.py:3819\u001b[39m, in \u001b[36mIndex.get_loc\u001b[39m\u001b[34m(self, key)\u001b[39m\n\u001b[32m   3814\u001b[39m     \u001b[38;5;28;01mif\u001b[39;00m \u001b[38;5;28misinstance\u001b[39m(casted_key, \u001b[38;5;28mslice\u001b[39m) \u001b[38;5;129;01mor\u001b[39;00m (\n\u001b[32m   3815\u001b[39m         \u001b[38;5;28misinstance\u001b[39m(casted_key, abc.Iterable)\n\u001b[32m   3816\u001b[39m         \u001b[38;5;129;01mand\u001b[39;00m \u001b[38;5;28many\u001b[39m(\u001b[38;5;28misinstance\u001b[39m(x, \u001b[38;5;28mslice\u001b[39m) \u001b[38;5;28;01mfor\u001b[39;00m x \u001b[38;5;129;01min\u001b[39;00m casted_key)\n\u001b[32m   3817\u001b[39m     ):\n\u001b[32m   3818\u001b[39m         \u001b[38;5;28;01mraise\u001b[39;00m InvalidIndexError(key)\n\u001b[32m-> \u001b[39m\u001b[32m3819\u001b[39m     \u001b[38;5;28;01mraise\u001b[39;00m \u001b[38;5;167;01mKeyError\u001b[39;00m(key) \u001b[38;5;28;01mfrom\u001b[39;00m\u001b[38;5;250m \u001b[39m\u001b[34;01merr\u001b[39;00m\n\u001b[32m   3820\u001b[39m \u001b[38;5;28;01mexcept\u001b[39;00m \u001b[38;5;167;01mTypeError\u001b[39;00m:\n\u001b[32m   3821\u001b[39m     \u001b[38;5;66;03m# If we have a listlike key, _check_indexing_error will raise\u001b[39;00m\n\u001b[32m   3822\u001b[39m     \u001b[38;5;66;03m#  InvalidIndexError. Otherwise we fall through and re-raise\u001b[39;00m\n\u001b[32m   3823\u001b[39m     \u001b[38;5;66;03m#  the TypeError.\u001b[39;00m\n\u001b[32m   3824\u001b[39m     \u001b[38;5;28mself\u001b[39m._check_indexing_error(key)\n",
      "\u001b[31mKeyError\u001b[39m: 'TR_'"
     ]
    }
   ],
   "source": [
    "dbase4_finances = dict_df_db.create_finance_frame(dict_df_db.dbase4)\n",
    "dbase4_finances.style.format({'Revenue': '{:.2f}', 'Profit': '{:.2f}'})"
   ]
  },
  {
   "cell_type": "code",
   "execution_count": null,
   "id": "a8c65a76",
   "metadata": {},
   "outputs": [
    {
     "data": {
      "text/html": [
       "<style type=\"text/css\">\n",
       "#T_0a5f7_row6_col2, #T_0a5f7_row6_col4 {\n",
       "  background-color: green;\n",
       "}\n",
       "#T_0a5f7_row6_col3 {\n",
       "  background-color: red;\n",
       "}\n",
       "#T_0a5f7_row6_col5 {\n",
       "  background-color: orange;\n",
       "}\n",
       "</style>\n",
       "<table id=\"T_0a5f7\">\n",
       "  <thead>\n",
       "    <tr>\n",
       "      <th class=\"blank level0\" >&nbsp;</th>\n",
       "      <th id=\"T_0a5f7_level0_col0\" class=\"col_heading level0 col0\" >TR_</th>\n",
       "      <th id=\"T_0a5f7_level0_col1\" class=\"col_heading level0 col1\" >Product</th>\n",
       "      <th id=\"T_0a5f7_level0_col2\" class=\"col_heading level0 col2\" >Revenue</th>\n",
       "      <th id=\"T_0a5f7_level0_col3\" class=\"col_heading level0 col3\" >Cost</th>\n",
       "      <th id=\"T_0a5f7_level0_col4\" class=\"col_heading level0 col4\" >Profit</th>\n",
       "      <th id=\"T_0a5f7_level0_col5\" class=\"col_heading level0 col5\" >TR_ID</th>\n",
       "    </tr>\n",
       "  </thead>\n",
       "  <tbody>\n",
       "    <tr>\n",
       "      <th id=\"T_0a5f7_level0_row0\" class=\"row_heading level0 row0\" >0</th>\n",
       "      <td id=\"T_0a5f7_row0_col0\" class=\"data row0 col0\" >C23</td>\n",
       "      <td id=\"T_0a5f7_row0_col1\" class=\"data row0 col1\" >Telephone</td>\n",
       "      <td id=\"T_0a5f7_row0_col2\" class=\"data row0 col2\" >119700.00</td>\n",
       "      <td id=\"T_0a5f7_row0_col3\" class=\"data row0 col3\" >93660.00</td>\n",
       "      <td id=\"T_0a5f7_row0_col4\" class=\"data row0 col4\" >26040.00</td>\n",
       "      <td id=\"T_0a5f7_row0_col5\" class=\"data row0 col5\" >nan</td>\n",
       "    </tr>\n",
       "    <tr>\n",
       "      <th id=\"T_0a5f7_level0_row1\" class=\"row_heading level0 row1\" >1</th>\n",
       "      <td id=\"T_0a5f7_row1_col0\" class=\"data row1 col0\" >C24</td>\n",
       "      <td id=\"T_0a5f7_row1_col1\" class=\"data row1 col1\" >Monitors</td>\n",
       "      <td id=\"T_0a5f7_row1_col2\" class=\"data row1 col2\" >57855.00</td>\n",
       "      <td id=\"T_0a5f7_row1_col3\" class=\"data row1 col3\" >48160.00</td>\n",
       "      <td id=\"T_0a5f7_row1_col4\" class=\"data row1 col4\" >9695.00</td>\n",
       "      <td id=\"T_0a5f7_row1_col5\" class=\"data row1 col5\" >nan</td>\n",
       "    </tr>\n",
       "    <tr>\n",
       "      <th id=\"T_0a5f7_level0_row2\" class=\"row_heading level0 row2\" >2</th>\n",
       "      <td id=\"T_0a5f7_row2_col0\" class=\"data row2 col0\" >C25</td>\n",
       "      <td id=\"T_0a5f7_row2_col1\" class=\"data row2 col1\" >Car</td>\n",
       "      <td id=\"T_0a5f7_row2_col2\" class=\"data row2 col2\" >73136.70</td>\n",
       "      <td id=\"T_0a5f7_row2_col3\" class=\"data row2 col3\" >52182.00</td>\n",
       "      <td id=\"T_0a5f7_row2_col4\" class=\"data row2 col4\" >20954.70</td>\n",
       "      <td id=\"T_0a5f7_row2_col5\" class=\"data row2 col5\" >nan</td>\n",
       "    </tr>\n",
       "    <tr>\n",
       "      <th id=\"T_0a5f7_level0_row3\" class=\"row_heading level0 row3\" >3</th>\n",
       "      <td id=\"T_0a5f7_row3_col0\" class=\"data row3 col0\" >C26</td>\n",
       "      <td id=\"T_0a5f7_row3_col1\" class=\"data row3 col1\" >Rent</td>\n",
       "      <td id=\"T_0a5f7_row3_col2\" class=\"data row3 col2\" >58915.20</td>\n",
       "      <td id=\"T_0a5f7_row3_col3\" class=\"data row3 col3\" >19266.00</td>\n",
       "      <td id=\"T_0a5f7_row3_col4\" class=\"data row3 col4\" >39649.20</td>\n",
       "      <td id=\"T_0a5f7_row3_col5\" class=\"data row3 col5\" >nan</td>\n",
       "    </tr>\n",
       "    <tr>\n",
       "      <th id=\"T_0a5f7_level0_row4\" class=\"row_heading level0 row4\" >4</th>\n",
       "      <td id=\"T_0a5f7_row4_col0\" class=\"data row4 col0\" >C27</td>\n",
       "      <td id=\"T_0a5f7_row4_col1\" class=\"data row4 col1\" >Services</td>\n",
       "      <td id=\"T_0a5f7_row4_col2\" class=\"data row4 col2\" >17907.12</td>\n",
       "      <td id=\"T_0a5f7_row4_col3\" class=\"data row4 col3\" >9464.00</td>\n",
       "      <td id=\"T_0a5f7_row4_col4\" class=\"data row4 col4\" >8443.12</td>\n",
       "      <td id=\"T_0a5f7_row4_col5\" class=\"data row4 col5\" >nan</td>\n",
       "    </tr>\n",
       "    <tr>\n",
       "      <th id=\"T_0a5f7_level0_row5\" class=\"row_heading level0 row5\" >5</th>\n",
       "      <td id=\"T_0a5f7_row5_col0\" class=\"data row5 col0\" >C28</td>\n",
       "      <td id=\"T_0a5f7_row5_col1\" class=\"data row5 col1\" >Training</td>\n",
       "      <td id=\"T_0a5f7_row5_col2\" class=\"data row5 col2\" >4234.23</td>\n",
       "      <td id=\"T_0a5f7_row5_col3\" class=\"data row5 col3\" >2899.00</td>\n",
       "      <td id=\"T_0a5f7_row5_col4\" class=\"data row5 col4\" >1335.23</td>\n",
       "      <td id=\"T_0a5f7_row5_col5\" class=\"data row5 col5\" >nan</td>\n",
       "    </tr>\n",
       "    <tr>\n",
       "      <th id=\"T_0a5f7_level0_row6\" class=\"row_heading level0 row6\" >6</th>\n",
       "      <td id=\"T_0a5f7_row6_col0\" class=\"data row6 col0\" >nan</td>\n",
       "      <td id=\"T_0a5f7_row6_col1\" class=\"data row6 col1\" >-----</td>\n",
       "      <td id=\"T_0a5f7_row6_col2\" class=\"data row6 col2\" >331748.25</td>\n",
       "      <td id=\"T_0a5f7_row6_col3\" class=\"data row6 col3\" >225631.00</td>\n",
       "      <td id=\"T_0a5f7_row6_col4\" class=\"data row6 col4\" >106117.25</td>\n",
       "      <td id=\"T_0a5f7_row6_col5\" class=\"data row6 col5\" >Total</td>\n",
       "    </tr>\n",
       "  </tbody>\n",
       "</table>\n"
      ],
      "text/plain": [
       "<pandas.io.formats.style.Styler at 0x1f4cfa8f390>"
      ]
     },
     "execution_count": 409,
     "metadata": {},
     "output_type": "execute_result"
    }
   ],
   "source": [
    "totals_dict = dict_df_db.calculate_total(dbase4_finances)\n",
    "totals_dict.style.format(\n",
    "    {'Revenue': '{:.2f}', 'Cost': '{:.2f}', 'Profit': '{:.2f}'},\n",
    ").apply(\n",
    "    color_last_cell,\n",
    "    subset=['Revenue', 'Profit'],\n",
    "    color='green',\n",
    ").apply(color_last_cell, subset=['Cost'], color='red').apply(\n",
    "    color_last_cell, subset=['TR_ID'], color='orange',\n",
    ")"
   ]
  },
  {
   "cell_type": "code",
   "execution_count": null,
   "id": "9d0598fc",
   "metadata": {},
   "outputs": [
    {
     "name": "stdout",
     "output_type": "stream",
     "text": [
      "\u001b[32mThe business is on it's way to success!\u001b[0m\n"
     ]
    }
   ],
   "source": [
    "dict_df_db.evaluation_message(totals_dict['Profit'].iloc[-1])"
   ]
  },
  {
   "cell_type": "markdown",
   "id": "cadf10be",
   "metadata": {},
   "source": [
    "# Question 2. Stock Transaction Program"
   ]
  },
  {
   "cell_type": "markdown",
   "id": "173b056b",
   "metadata": {},
   "source": [
    "Tom purchased some stock in DBS Software.\n",
    "\n",
    "Here are the details:\n",
    "\n",
    "1. The number of shares that Tom purchased was 5,000\n",
    "2. When Tom purchased the stock, he paid €40.0 per share.\n",
    "3. Tom paid his stockbroker a commission that amounted to 3% of the amount he paid for the stock.\n",
    "\n",
    "Two weeks later, Tom sold the stock. Here are the details:\n",
    "\n",
    "1. The number of shares that Tom sold was 2,000\n",
    "2. When Tom sold the stock , he sold for €42.75 per share.\n",
    "3. Tom paid his stockbroker another commission that amounted to 3% of the amount he received for the stock.\n",
    "\n",
    "Write a program that displays the following information.\n",
    "\n",
    "1. The amount of money Tom paid for the stock\n",
    "2. The amount of commission Tom paid his broker when he bought the stock.\n",
    "3. The amount for which Tom sold the stock\n",
    "4. The amount of commission Tom paid his broker when he sold the stock.\n",
    "5. Display the amount of money that Tom had left when he sold the stock and paid his broker(both times). If this amount is positive, then Tom made a profit. If the amount is negative, then Tom lost money."
   ]
  },
  {
   "cell_type": "code",
   "execution_count": null,
   "id": "5eee9c00",
   "metadata": {},
   "outputs": [],
   "source": [
    "class StockCalculator:\n",
    "    \"\"\"Accept dictionary for stack trade values and calculate statistics.\"\"\"\n",
    "\n",
    "    def __init__(self, stock: dict[str, int | float]) -> None:\n",
    "        \"\"\"Accept dictionary with the defined keys and sets them as attributes.\n",
    "\n",
    "        'buy_shares': number of shares bought,\n",
    "        'sell_shares': number of shares sold,\n",
    "        'buy_price': cost per share purchased,\n",
    "        'sell_price': price per share sold,\n",
    "        'commission_percent': commission as a percentage, eg. 3,\n",
    "        \"\"\"\n",
    "        # Set each key and value in the dictionary as an attribute.\n",
    "        for key, value in stock.items():\n",
    "            setattr(self, key, value)\n",
    "\n",
    "    def calculate_purchase_cost(self) -> float:\n",
    "        \"\"\"Calculate total cost of purchasing shares.\n",
    "\n",
    "        Returns:\n",
    "            float: Total cost of purchase.\n",
    "\n",
    "        \"\"\"\n",
    "        return self.buy_shares * self.buy_price\n",
    "\n",
    "    def calculate_commission(self, cost: float) -> float:\n",
    "        \"\"\"Calculate cost of commission for purchase.\n",
    "\n",
    "        Args:\n",
    "            cost (float): Total purchase cost.\n",
    "\n",
    "        Returns:\n",
    "            float: Cost of commission.\n",
    "\n",
    "        \"\"\"\n",
    "        return cost * self.commission_percent / 100\n",
    "\n",
    "    def calculate_sale_total(self) -> float:\n",
    "        \"\"\"Calculate total income of sale.\n",
    "\n",
    "        Returns:\n",
    "            float: Income of sale.\n",
    "\n",
    "        \"\"\"\n",
    "        return self.sell_shares * self.sell_price\n",
    "\n",
    "    def calculate_into_frame(self) -> DataFrame:\n",
    "        \"\"\"Calculate final details and create a DataFrame.\n",
    "\n",
    "        Returns:\n",
    "            DataFrame: A small summary table of results.\n",
    "\n",
    "        \"\"\"\n",
    "        # Use previously defined functions to do calculations.\n",
    "        purchase_cost = self.calculate_purchase_cost()\n",
    "        purchase_commission = self.calculate_commission(purchase_cost)\n",
    "        sale_total = self.calculate_sale_total()\n",
    "        sale_commission = self.calculate_commission(sale_total)\n",
    "\n",
    "        total_money = sale_total - purchase_commission - sale_commission\n",
    "        net_profit = total_money - purchase_cost\n",
    "\n",
    "        # Take the statistics and store as a dictionary.\n",
    "        stat_dict = {\n",
    "            'Purchase Cost': [purchase_cost],\n",
    "            'Purchase Commission': [purchase_commission],\n",
    "            'Sale Total': [sale_total],\n",
    "            'Sale Commission': [sale_commission],\n",
    "            'Net Sales': [total_money],\n",
    "            'Net Profit': [net_profit],\n",
    "        }\n",
    "        # Return a dataframe.\n",
    "        return DataFrame(stat_dict)"
   ]
  },
  {
   "cell_type": "code",
   "execution_count": null,
   "id": "8dc22379",
   "metadata": {},
   "outputs": [],
   "source": [
    "# Define dictionary to initalise the class with.\n",
    "toms_trade = {\n",
    "    'buy_shares': 5000,\n",
    "    'sell_shares': 2000,\n",
    "    'buy_price': 40.0,\n",
    "    'sell_price': 42.75,\n",
    "    'commission_percent': 3,\n",
    "}\n",
    "\n",
    "# Initialise the class.\n",
    "toms_calculator = StockCalculator(toms_trade)\n"
   ]
  },
  {
   "cell_type": "code",
   "execution_count": null,
   "id": "96aee672",
   "metadata": {},
   "outputs": [
    {
     "data": {
      "text/html": [
       "<style type=\"text/css\">\n",
       "#T_2ede4_row0_col0, #T_2ede4_row0_col1, #T_2ede4_row0_col3, #T_2ede4_row0_col5 {\n",
       "  background-color: red;\n",
       "}\n",
       "#T_2ede4_row0_col2, #T_2ede4_row0_col4 {\n",
       "  background-color: green;\n",
       "}\n",
       "</style>\n",
       "<table id=\"T_2ede4\">\n",
       "  <thead>\n",
       "    <tr>\n",
       "      <th class=\"blank level0\" >&nbsp;</th>\n",
       "      <th id=\"T_2ede4_level0_col0\" class=\"col_heading level0 col0\" >Purchase Cost</th>\n",
       "      <th id=\"T_2ede4_level0_col1\" class=\"col_heading level0 col1\" >Purchase Commission</th>\n",
       "      <th id=\"T_2ede4_level0_col2\" class=\"col_heading level0 col2\" >Sale Total</th>\n",
       "      <th id=\"T_2ede4_level0_col3\" class=\"col_heading level0 col3\" >Sale Commission</th>\n",
       "      <th id=\"T_2ede4_level0_col4\" class=\"col_heading level0 col4\" >Net Sales</th>\n",
       "      <th id=\"T_2ede4_level0_col5\" class=\"col_heading level0 col5\" >Net Profit</th>\n",
       "    </tr>\n",
       "  </thead>\n",
       "  <tbody>\n",
       "    <tr>\n",
       "      <th id=\"T_2ede4_level0_row0\" class=\"row_heading level0 row0\" >0</th>\n",
       "      <td id=\"T_2ede4_row0_col0\" class=\"data row0 col0\" >200000.00</td>\n",
       "      <td id=\"T_2ede4_row0_col1\" class=\"data row0 col1\" >6000.00</td>\n",
       "      <td id=\"T_2ede4_row0_col2\" class=\"data row0 col2\" >85500.00</td>\n",
       "      <td id=\"T_2ede4_row0_col3\" class=\"data row0 col3\" >2565.00</td>\n",
       "      <td id=\"T_2ede4_row0_col4\" class=\"data row0 col4\" >76935.00</td>\n",
       "      <td id=\"T_2ede4_row0_col5\" class=\"data row0 col5\" >-123065.00</td>\n",
       "    </tr>\n",
       "  </tbody>\n",
       "</table>\n"
      ],
      "text/plain": [
       "<pandas.io.formats.style.Styler at 0x1f4cfa8f610>"
      ]
     },
     "execution_count": 413,
     "metadata": {},
     "output_type": "execute_result"
    }
   ],
   "source": [
    "# Calculate the statistics based on the info.\n",
    "stat_frame = toms_calculator.calculate_into_frame()\n",
    "\n",
    "# Display with colours, and two decimal point formatting.\n",
    "stat_frame.style.apply(\n",
    "    color_last_cell, subset=['Sale Total', 'Net Sales'], color='green',\n",
    ").apply(\n",
    "    color_last_cell,\n",
    "    subset=['Purchase Cost', 'Purchase Commission', 'Sale Commission'],\n",
    "    color='red',\n",
    ").apply(\n",
    "    color_on_value,\n",
    "    subset=['Net Profit'],\n",
    "    number=stat_frame['Net Profit'].iloc[-1],\n",
    ").format(dict.fromkeys(stat_frame.columns, '{:.2f}'))\n"
   ]
  }
 ],
 "metadata": {
  "kernelspec": {
   "display_name": ".venv",
   "language": "python",
   "name": "python3"
  },
  "language_info": {
   "codemirror_mode": {
    "name": "ipython",
    "version": 3
   },
   "file_extension": ".py",
   "mimetype": "text/x-python",
   "name": "python",
   "nbconvert_exporter": "python",
   "pygments_lexer": "ipython3",
   "version": "3.13.1"
  }
 },
 "nbformat": 4,
 "nbformat_minor": 5
}
