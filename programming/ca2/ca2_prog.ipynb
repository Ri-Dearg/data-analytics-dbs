{
 "cells": [
  {
   "cell_type": "markdown",
   "id": "68c9eb61",
   "metadata": {},
   "source": [
    "# Rory Sheridan - Continuous Assessment 2"
   ]
  },
  {
   "cell_type": "markdown",
   "id": "4653468d",
   "metadata": {},
   "source": [
    "## Additional Libraries and Tools"
   ]
  },
  {
   "cell_type": "markdown",
   "id": "f2b00983",
   "metadata": {},
   "source": [
    "### [Github Repo](https://github.com/Ri-Dearg/data-analytics-dbs/)\n",
    "This file and its commit history [can be found by clicking here](https://github.com/Ri-Dearg/data-analytics-dbs/blob/main/programming/ca2/ca2_prog.ipynb).\n",
    "\n",
    "### [Colorama](https://pypi.org/project/colorama/)\n",
    "Used to give feedback in varied colours in the terminal. The Fore and Style used throughout the notebook are for this.\n",
    "\n",
    "### [Pandas](https://pandas.pydata.org)\n",
    "\n",
    "For data analysis and manipulation.\n",
    "\n",
    "### [Pylint](https://www.pylint.org)\n",
    "Used as a linter for code quality control.\n",
    "\n",
    "### [Ruff](https://docs.astral.sh/ruff/)\n",
    "Used as both a linter and a formatter. Configuration has been adjusted to conform to PEP8 standard.  \n",
    "\n",
    "### [Seaborn](https://seaborn.pydata.org)\n",
    "\n",
    "For data visualisation."
   ]
  },
  {
   "cell_type": "code",
   "execution_count": 25,
   "id": "6f7d51a7",
   "metadata": {},
   "outputs": [
    {
     "name": "stdout",
     "output_type": "stream",
     "text": [
      "Requirement already satisfied: colorama in c:\\users\\kenzedd\\documents\\programming\\data-analytics-dbs\\programming\\ca2\\.venv\\lib\\site-packages (0.4.6)\n",
      "Note: you may need to restart the kernel to use updated packages.\n"
     ]
    },
    {
     "name": "stderr",
     "output_type": "stream",
     "text": [
      "\n",
      "[notice] A new release of pip is available: 24.3.1 -> 25.1.1\n",
      "[notice] To update, run: python.exe -m pip install --upgrade pip\n"
     ]
    }
   ],
   "source": [
    "# Install colorama on google colab.\n",
    "%pip install colorama\n",
    "\n",
    "# For creating plots.\n",
    "import seaborn as sns\n",
    "\n",
    "# For coloring text.\n",
    "from colorama import Fore, Style\n",
    "\n",
    "# For Dataframes.\n",
    "from pandas import DataFrame, concat\n"
   ]
  },
  {
   "cell_type": "markdown",
   "id": "21ef5a47",
   "metadata": {},
   "source": [
    "## Utilities"
   ]
  },
  {
   "cell_type": "markdown",
   "id": "9116c48d",
   "metadata": {},
   "source": [
    "Two utilities to help colour the cells in the DataFrame output."
   ]
  },
  {
   "cell_type": "code",
   "execution_count": 26,
   "id": "4deba3b3",
   "metadata": {},
   "outputs": [],
   "source": [
    "def color_last_cell(column: str, color: str) -> object:\n",
    "    \"\"\"Style the last cell of a column.\n",
    "\n",
    "    Args:\n",
    "        column (str): the column to style.\n",
    "        color (str): The color to use.\n",
    "\n",
    "    Returns:\n",
    "        object: Styler object for dataframes.\n",
    "\n",
    "    \"\"\"\n",
    "    # Run through each row and skips styling it.\n",
    "    styles = [''] * len(column)\n",
    "    # Apply chosen colour to final cell in column.\n",
    "    styles[-1] = f'background-color: {color}'\n",
    "    return styles\n",
    "\n",
    "\n",
    "def color_on_value(column: str, number: float) -> object:\n",
    "    \"\"\"Choose colour based on negative, zero, or positive value.\n",
    "\n",
    "    Args:\n",
    "        column (str): The column to colour.\n",
    "        number (int | float): The value to examine.\n",
    "\n",
    "    Returns:\n",
    "        object: A Styler object for dataframes.\n",
    "\n",
    "    \"\"\"\n",
    "    # Run through each row and skips styling it.\n",
    "    styles = [''] * len(column)\n",
    "    # Check value, adn apply relevant colour.\n",
    "    if number > 0:\n",
    "        styles[-1] = 'background-color: green'\n",
    "\n",
    "    if number == 0:\n",
    "        styles[-1] = 'background-color: orange'\n",
    "\n",
    "    if number < 0:\n",
    "        styles[-1] = 'background-color: red'\n",
    "    return styles\n"
   ]
  },
  {
   "cell_type": "markdown",
   "id": "c70af135",
   "metadata": {},
   "source": [
    "## Question 1\n",
    "\n",
    "Read in the below information of a company’s transactions for the year 2022 into a python dictionary files.\n",
    "\n",
    "**dbase1**\n",
    "\n",
    "| **TR_ID** | **Product** | **Quantitys** | **Purchase_prices** |\n",
    "| --- | --- | --- | --- |\n",
    "| C23 | Telephone | 420 | 223 |\n",
    "| C24 | Monitors | Ten | 344 |\n",
    "| C25 | Car | 234 | 223 |\n",
    "| C26 | Rent | 114 | Tenn |\n",
    "| C27 | Services | 56  | Two |\n",
    "| C28 | Training | 13  | 223 |\n",
    "\n",
    "**dbase2**\n",
    "\n",
    "| **TR_ID** | **Products** | **Sale_price** | **Debit** |\n",
    "| --- | --- | --- | --- |\n",
    "| C23 | Telephone | 300 | 2   |\n",
    "| C24 | Monitors | 435 | 2   |\n",
    "| C25 | Car | 329 | 2   |\n",
    "| C26 | Rent | 544 | 2   |\n",
    "| C27 | Services | **thirty** | **2** |\n",
    "| C28 | Training | 329 | 2   |\n",
    "\n",
    "**dbase 3**\n",
    "\n",
    "| **TR_ID** | **Product** | **Quantity** | **Purchase_price** | **Sale_price** |\n",
    "| --- | --- | --- | --- | --- |\n",
    "| C28 | Training | 13  | 223 | 329 |\n"
   ]
  },
  {
   "cell_type": "markdown",
   "id": "6883215d",
   "metadata": {},
   "source": [
    "### DataFrameManager"
   ]
  },
  {
   "cell_type": "markdown",
   "id": "79328416",
   "metadata": {},
   "source": [
    "#### FlowChart"
   ]
  },
  {
   "cell_type": "markdown",
   "id": "671040cf",
   "metadata": {},
   "source": [
    "![image.png](data:image/png;base64,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)\n",
    "\n",
    "#### Code Explanation\n",
    "\n",
    "The `DataFrameManager` class accepts an arbitrary number of dictionaries in an acceptable structure to create a DataFrame. It was structured as a class from the outset, so each method is independent of the others. Once it is initialised, it will take each dictionary given to it, create a DataFrame and then store that as its own attribute. A few methods use error handling to either check that the correct key is present, or that we are using the correct type. The First time each method is run on the data set, in order of the questions, everything works just fine.\n",
    "The methods are ordered in the class in the same order the questions have been asked.\n",
    "\n",
    "- The `DataFrameManager` class requires dictionaries to initialise, storing them as dataframes in tis attributes. \n",
    "- The `clean_headings` method removes the trailing 's'. \n",
    "- The `join_dataframes` method matches the headings and then merges the frames. It checks to ensure the headings can be merged and throws an error if it is not possible. \n",
    "- The `clean_number` method examines the table for string values in number columns, it then zeroes those values, calculates the mean and replaces the zeroes with the mean. The zeroes were deliberately included in the calculation of the mean to maintain accuracy based on the number of columns.\n",
    "- The `delete_col` method drops a column from the table. It has a check to ensure the column exists, and if not, shows an error message. `inplace=True` is utilised for simplicity but altering the data like this is typically bad practice. In the case of the data set as dictionaries, it is not an issue as the original data is readily available. \n",
    "- The `add_col` method creates the department column and adds values based on the product. An alternative way would be to create a dictionary of each department with lists of the products. This would be more practical on a larger scale with changing products, however, the method seen here makes sense for this dataset, as we already have the products placed in a Dataframe.\n",
    "- The `create_finance_frame` method takes the current dataframe and calculates finances from it, outputting anew dataframe. \n",
    "- The `calculate_total` method totals all the columns of the finance dataframe and adds a row with the info.. \n",
    "- The `evaluation_message` reads the overall total and displays a message based on the result. "
   ]
  },
  {
   "cell_type": "code",
   "execution_count": 27,
   "id": "ba90f52c",
   "metadata": {},
   "outputs": [],
   "source": [
    "class DataFrameManager:\n",
    "    \"\"\"Create dataframes from dictionaries and provide manage options.\"\"\"\n",
    "\n",
    "    # a. Convert each database into a dataframe in python.\n",
    "    def __init__(self, *args: dict[str, list]) -> None:\n",
    "        \"\"\"Accept dictionaries and store as attributes.\"\"\"\n",
    "        # Accept a dictionary, loop through each.\n",
    "        for i, db_dict in enumerate(args):\n",
    "            # Create a dataframe, store it as an attribute.\n",
    "            data_frame = DataFrame(db_dict)\n",
    "            setattr(self, f'dict_df_{i + 1}', data_frame)\n",
    "\n",
    "    # b. Note that the databases and the corresponding column names with\n",
    "    # spelling differences. Correct this to have all column names without 's'\n",
    "    def clean_headings(self) -> None:\n",
    "        \"\"\"Remove the final s from the dataframe column names.\"\"\"\n",
    "        # Loop through each frame, create columns without the s.\n",
    "        for value in vars(self).values():\n",
    "            new_columns = [col.removesuffix('s') for col in value.columns]\n",
    "            # Set the new list as the columns.\n",
    "            value.columns = new_columns\n",
    "\n",
    "    # c. Combine the above three databases into one single dataframe called\n",
    "    # 'dbase4' in python using the appropriate method and libraries.\n",
    "    def join_dataframes(self, attr_name: str) -> DataFrame:\n",
    "        \"\"\"Merge dataframes into a single table based on columns.\n",
    "\n",
    "        Args:\n",
    "            attr_name (str): The name for the new attribute.\n",
    "\n",
    "        Returns:\n",
    "            DataFrame: Single dataframe.\n",
    "\n",
    "        \"\"\"\n",
    "        # Use error handling in case columns can't merge this way.\n",
    "        try:\n",
    "            # Get a list of the frames set as attributes for merging.\n",
    "            frame_list = list(vars(self).values())\n",
    "\n",
    "            # Set default frame for merge.\n",
    "            merged_df = frame_list[0]\n",
    "\n",
    "            # Merge frames after the first\n",
    "            for df in frame_list[1:]:\n",
    "                # Check for matching columns between frames.\n",
    "                matching_cols = [\n",
    "                    col for col in df.columns if col in merged_df.columns\n",
    "                ]\n",
    "                # Merge the tables based on those columns.\n",
    "                merged_df = merged_df.merge(df, on=matching_cols, how='outer')\n",
    "        # Throw an error with a message of they don't match.\n",
    "        except ValueError as e:\n",
    "            print(\n",
    "                'There is an issue with the dataset merging.'\n",
    "                f' Please check they have shared columns: {e}',\n",
    "            )\n",
    "        else:\n",
    "            # Set the new frame as an attribute and return for assignment.\n",
    "            setattr(self, attr_name, merged_df)\n",
    "            return merged_df\n",
    "\n",
    "    # d. Consider the character values as error, remove these errors and\n",
    "    # replace with column's mean.\n",
    "    def clean_number(self, frame: DataFrame, num_cols: list[str]) -> None:\n",
    "        \"\"\"Check for strings in number column, replace with mean.\n",
    "\n",
    "        Args:\n",
    "            frame (DataFrame): The data frame to clean.\n",
    "            num_cols (list[str]): The names of the columns to clean.\n",
    "\n",
    "        \"\"\"\n",
    "        # Loop through number columns and check their type.\n",
    "        for col in num_cols:\n",
    "            # If it isn't a number type, set it to zero.\n",
    "            num_vals = [\n",
    "                val if isinstance(val, (int, float)) else 0\n",
    "                for val in frame[col]\n",
    "            ]\n",
    "\n",
    "            # Get the mean of a column including zeros.\n",
    "            mean = sum(num_vals) / len(num_vals)\n",
    "            # If the value has a zero, replace it with the mean.\n",
    "            for i in range(len(num_vals)):\n",
    "                if num_vals[i] == 0:\n",
    "                    num_vals[i] = round(mean)\n",
    "            # Set new values to frame.\n",
    "            frame[col] = num_vals\n",
    "\n",
    "    # e. Delete the variable 'Debit' as not needed then add a column called\n",
    "    # 'Department'\n",
    "    def delete_col(self, frame: DataFrame, col: str) -> DataFrame:\n",
    "        \"\"\"Delete a column from a frame.\n",
    "\n",
    "        Args:\n",
    "            frame (DataFrame): The frame to alter.\n",
    "            col (str): The column to delete.\n",
    "\n",
    "        Returns:\n",
    "            _type_: The altered data frame.\n",
    "\n",
    "        \"\"\"\n",
    "        # Delete a column, keep the same frame.\n",
    "        # Usually, inplace=True should not be used, but\n",
    "        # the dataset is minor in this case.\n",
    "        try:\n",
    "            frame.drop(col, axis=1, inplace=True)\n",
    "        except KeyError as e:\n",
    "            print(f'Please ensure the dataframe has the correct columns: {e}')\n",
    "\n",
    "    def add_col(self, frame: DataFrame, col: str) -> DataFrame:\n",
    "        \"\"\"Add a column and generate values for it.\n",
    "\n",
    "        Args:\n",
    "            frame (DataFrame): the data frame to alter.\n",
    "            col (str): the column name to add.\n",
    "\n",
    "        Returns:\n",
    "            DataFrame: The altered frame.\n",
    "\n",
    "        \"\"\"\n",
    "        # Map products to departments to add it easily later.\n",
    "        product_category = {\n",
    "            'Telephone': 'IT',\n",
    "            'Monitors': 'IT',\n",
    "            'Car': 'Transport',\n",
    "            'Rent': 'Consultancy',\n",
    "            'Services': 'Consultancy',\n",
    "            'Training': 'Education',\n",
    "        }\n",
    "\n",
    "        # Create a list to add to the data frame.\n",
    "        to_add = [\n",
    "            product_category.get(value, '') for value in frame['Product']\n",
    "        ]\n",
    "\n",
    "        # Add to DataFrame.\n",
    "        frame[col] = to_add\n",
    "        return frame\n",
    "\n",
    "    # g. After creating the single dataframe: Using DataFrame and Class or\n",
    "    # other method with the above corrected values\n",
    "    def create_finance_frame(self, frame: DataFrame) -> DataFrame:\n",
    "        \"\"\"Create a new DataFrame with financial statistics.\n",
    "\n",
    "        Args:\n",
    "            frame (DataFrame): The dataframe containing the information.\n",
    "\n",
    "        Returns:\n",
    "            DataFrame: New dataframe with financial details.\n",
    "\n",
    "        \"\"\"\n",
    "        try:\n",
    "            # Define a dictionary to use as a frame later\n",
    "            finance_frame = {\n",
    "                'TR_ID': frame['TR_ID'],\n",
    "                'Product': frame['Product'],\n",
    "            }\n",
    "\n",
    "            # Initalise lists to add to frame later.\n",
    "            revenue = []\n",
    "            cost = []\n",
    "            profit = []\n",
    "\n",
    "            # Calculate revenue from products and add it to the list.\n",
    "            for _index, row in frame.iterrows():\n",
    "                product_revenue = row['Quantity'] * row['Sale_price']\n",
    "                if product_revenue > 55000:\n",
    "                    product_revenue *= 0.95\n",
    "                elif 35000 < product_revenue <= 55000:\n",
    "                    product_revenue *= 0.98\n",
    "                else:\n",
    "                    product_revenue *= 0.99\n",
    "                revenue.append(product_revenue)\n",
    "                # Calculate cost and add it to the list.\n",
    "                product_cost = row['Quantity'] * row['Purchase_price']\n",
    "                cost.append(product_cost)\n",
    "\n",
    "                # Add profit to the list.\n",
    "                profit.append(product_revenue - product_cost)\n",
    "\n",
    "            # Add each list to the dictionary and return info as a frame.\n",
    "            finance_frame['Revenue'] = revenue\n",
    "            finance_frame['Cost'] = cost\n",
    "            finance_frame['Profit'] = profit\n",
    "        except KeyError as e:\n",
    "            print(f'Please ensure the dataframe has the correct columns: {e}')\n",
    "        else:\n",
    "            return DataFrame(finance_frame)\n",
    "\n",
    "    def calculate_total(self, frame: DataFrame) -> None:\n",
    "        \"\"\"Calculate the total sales, cost and profit of products.\n",
    "\n",
    "        Args:\n",
    "            frame (DataFrame): The frame to use for calculations.\n",
    "\n",
    "        Returns:\n",
    "            _type_: A merged frame of the old with the total columns.\n",
    "\n",
    "        \"\"\"\n",
    "        # Select all number columns, sum their totals and create a frame.\n",
    "        totals_frame = (\n",
    "            frame.select_dtypes(include=['number']).sum().to_frame().T\n",
    "        )\n",
    "\n",
    "        # Add columns to the newly created frame.\n",
    "        totals_frame.insert(0, 'TR_ID', 'Total')\n",
    "        totals_frame.insert(1, 'Product', '-----')\n",
    "\n",
    "        # Return a new frame, adding the totals row to the financial frame.\n",
    "        return concat([frame, totals_frame], ignore_index=True)\n",
    "\n",
    "    def evaluation_message(self, number: int) -> None:\n",
    "        \"\"\"Respond with a message based on value.\n",
    "\n",
    "        Args:\n",
    "            number (int): the number to evaluate.\n",
    "\n",
    "        \"\"\"\n",
    "        # Green, Red, or Yellow terminal messages based on the value given.\n",
    "        if number > 0:\n",
    "            print(\n",
    "                Fore.GREEN\n",
    "                + \"The business is on it's way to success!\"\n",
    "                + Style.RESET_ALL,\n",
    "            )\n",
    "        if number == 0:\n",
    "            print(\n",
    "                Fore.YELLOW\n",
    "                + 'Just breaking even. Hang in there!'\n",
    "                + Style.RESET_ALL,\n",
    "            )\n",
    "        if number < 0:\n",
    "            print(Fore.RED + 'Time to revise your finances.' + Style.RESET_ALL)"
   ]
  },
  {
   "cell_type": "code",
   "execution_count": 28,
   "id": "92f8e02c",
   "metadata": {},
   "outputs": [],
   "source": [
    "# Declare data.\n",
    "dbase1_dict = {\n",
    "    'TR_ID': [\n",
    "        'C23',\n",
    "        'C24',\n",
    "        'C25',\n",
    "        'C26',\n",
    "        'C27',\n",
    "        'C28',\n",
    "    ],\n",
    "    'Product': [\n",
    "        'Telephone',\n",
    "        'Monitors',\n",
    "        'Car',\n",
    "        'Rent',\n",
    "        'Services',\n",
    "        'Training',\n",
    "    ],\n",
    "    'Quantitys': [\n",
    "        420,\n",
    "        'Ten',\n",
    "        234,\n",
    "        114,\n",
    "        56,\n",
    "        13,\n",
    "    ],\n",
    "    'Purchase_prices': [\n",
    "        223,\n",
    "        344,\n",
    "        223,\n",
    "        'Tenn',\n",
    "        'Two',\n",
    "        223,\n",
    "    ],\n",
    "}\n",
    "dbase2_dict = {\n",
    "    'TR_ID': [\n",
    "        'C23',\n",
    "        'C24',\n",
    "        'C25',\n",
    "        'C26',\n",
    "        'C27',\n",
    "        'C28',\n",
    "    ],\n",
    "    'Products': [\n",
    "        'Telephone',\n",
    "        'Monitors',\n",
    "        'Car',\n",
    "        'Rent',\n",
    "        'Services',\n",
    "        'Training',\n",
    "    ],\n",
    "    'Sale_price': [\n",
    "        300,\n",
    "        435,\n",
    "        329,\n",
    "        544,\n",
    "        'thirty',\n",
    "        329,\n",
    "    ],\n",
    "    'Debit': [\n",
    "        2,\n",
    "        2,\n",
    "        2,\n",
    "        2,\n",
    "        2,\n",
    "        2,\n",
    "    ],\n",
    "}\n",
    "\n",
    "dbase3_dict = {\n",
    "    'TR_ID': ['C28'],\n",
    "    'Product': ['Training'],\n",
    "    'Quantity': [13],\n",
    "    'Purchase_price': [223],\n",
    "    'Sale_price': [329],\n",
    "}"
   ]
  },
  {
   "cell_type": "markdown",
   "id": "52ff8352",
   "metadata": {},
   "source": [
    "### a. Convert each database into a dataframe in python.\n"
   ]
  },
  {
   "cell_type": "code",
   "execution_count": 29,
   "id": "d1142ec2",
   "metadata": {},
   "outputs": [
    {
     "data": {
      "application/vnd.microsoft.datawrangler.viewer.v0+json": {
       "columns": [
        {
         "name": "index",
         "rawType": "int64",
         "type": "integer"
        },
        {
         "name": "TR_ID",
         "rawType": "object",
         "type": "string"
        },
        {
         "name": "Product",
         "rawType": "object",
         "type": "string"
        },
        {
         "name": "Quantitys",
         "rawType": "object",
         "type": "unknown"
        },
        {
         "name": "Purchase_prices",
         "rawType": "object",
         "type": "unknown"
        }
       ],
       "ref": "3ec60fd2-1169-4c33-b575-2bc42f39f7f4",
       "rows": [
        [
         "0",
         "C23",
         "Telephone",
         "420",
         "223"
        ],
        [
         "1",
         "C24",
         "Monitors",
         "Ten",
         "344"
        ],
        [
         "2",
         "C25",
         "Car",
         "234",
         "223"
        ],
        [
         "3",
         "C26",
         "Rent",
         "114",
         "Tenn"
        ],
        [
         "4",
         "C27",
         "Services",
         "56",
         "Two"
        ],
        [
         "5",
         "C28",
         "Training",
         "13",
         "223"
        ]
       ],
       "shape": {
        "columns": 4,
        "rows": 6
       }
      },
      "text/html": [
       "<div>\n",
       "<style scoped>\n",
       "    .dataframe tbody tr th:only-of-type {\n",
       "        vertical-align: middle;\n",
       "    }\n",
       "\n",
       "    .dataframe tbody tr th {\n",
       "        vertical-align: top;\n",
       "    }\n",
       "\n",
       "    .dataframe thead th {\n",
       "        text-align: right;\n",
       "    }\n",
       "</style>\n",
       "<table border=\"1\" class=\"dataframe\">\n",
       "  <thead>\n",
       "    <tr style=\"text-align: right;\">\n",
       "      <th></th>\n",
       "      <th>TR_ID</th>\n",
       "      <th>Product</th>\n",
       "      <th>Quantitys</th>\n",
       "      <th>Purchase_prices</th>\n",
       "    </tr>\n",
       "  </thead>\n",
       "  <tbody>\n",
       "    <tr>\n",
       "      <th>0</th>\n",
       "      <td>C23</td>\n",
       "      <td>Telephone</td>\n",
       "      <td>420</td>\n",
       "      <td>223</td>\n",
       "    </tr>\n",
       "    <tr>\n",
       "      <th>1</th>\n",
       "      <td>C24</td>\n",
       "      <td>Monitors</td>\n",
       "      <td>Ten</td>\n",
       "      <td>344</td>\n",
       "    </tr>\n",
       "    <tr>\n",
       "      <th>2</th>\n",
       "      <td>C25</td>\n",
       "      <td>Car</td>\n",
       "      <td>234</td>\n",
       "      <td>223</td>\n",
       "    </tr>\n",
       "    <tr>\n",
       "      <th>3</th>\n",
       "      <td>C26</td>\n",
       "      <td>Rent</td>\n",
       "      <td>114</td>\n",
       "      <td>Tenn</td>\n",
       "    </tr>\n",
       "    <tr>\n",
       "      <th>4</th>\n",
       "      <td>C27</td>\n",
       "      <td>Services</td>\n",
       "      <td>56</td>\n",
       "      <td>Two</td>\n",
       "    </tr>\n",
       "    <tr>\n",
       "      <th>5</th>\n",
       "      <td>C28</td>\n",
       "      <td>Training</td>\n",
       "      <td>13</td>\n",
       "      <td>223</td>\n",
       "    </tr>\n",
       "  </tbody>\n",
       "</table>\n",
       "</div>"
      ],
      "text/plain": [
       "  TR_ID    Product Quantitys Purchase_prices\n",
       "0   C23  Telephone       420             223\n",
       "1   C24   Monitors       Ten             344\n",
       "2   C25        Car       234             223\n",
       "3   C26       Rent       114            Tenn\n",
       "4   C27   Services        56             Two\n",
       "5   C28   Training        13             223"
      ]
     },
     "execution_count": 29,
     "metadata": {},
     "output_type": "execute_result"
    }
   ],
   "source": [
    "# Accepts dictionaries and stores the data frames as attributes.\n",
    "product_frame = DataFrameManager(dbase1_dict, dbase2_dict, dbase3_dict)\n",
    "\n",
    "# First DataFrame.\n",
    "product_frame.dict_df_1"
   ]
  },
  {
   "cell_type": "code",
   "execution_count": 30,
   "id": "2044da18",
   "metadata": {},
   "outputs": [
    {
     "data": {
      "application/vnd.microsoft.datawrangler.viewer.v0+json": {
       "columns": [
        {
         "name": "index",
         "rawType": "int64",
         "type": "integer"
        },
        {
         "name": "TR_ID",
         "rawType": "object",
         "type": "string"
        },
        {
         "name": "Products",
         "rawType": "object",
         "type": "string"
        },
        {
         "name": "Sale_price",
         "rawType": "object",
         "type": "unknown"
        },
        {
         "name": "Debit",
         "rawType": "int64",
         "type": "integer"
        }
       ],
       "ref": "f334c4ff-623f-40f3-bcd8-8bd861e11bcd",
       "rows": [
        [
         "0",
         "C23",
         "Telephone",
         "300",
         "2"
        ],
        [
         "1",
         "C24",
         "Monitors",
         "435",
         "2"
        ],
        [
         "2",
         "C25",
         "Car",
         "329",
         "2"
        ],
        [
         "3",
         "C26",
         "Rent",
         "544",
         "2"
        ],
        [
         "4",
         "C27",
         "Services",
         "thirty",
         "2"
        ],
        [
         "5",
         "C28",
         "Training",
         "329",
         "2"
        ]
       ],
       "shape": {
        "columns": 4,
        "rows": 6
       }
      },
      "text/html": [
       "<div>\n",
       "<style scoped>\n",
       "    .dataframe tbody tr th:only-of-type {\n",
       "        vertical-align: middle;\n",
       "    }\n",
       "\n",
       "    .dataframe tbody tr th {\n",
       "        vertical-align: top;\n",
       "    }\n",
       "\n",
       "    .dataframe thead th {\n",
       "        text-align: right;\n",
       "    }\n",
       "</style>\n",
       "<table border=\"1\" class=\"dataframe\">\n",
       "  <thead>\n",
       "    <tr style=\"text-align: right;\">\n",
       "      <th></th>\n",
       "      <th>TR_ID</th>\n",
       "      <th>Products</th>\n",
       "      <th>Sale_price</th>\n",
       "      <th>Debit</th>\n",
       "    </tr>\n",
       "  </thead>\n",
       "  <tbody>\n",
       "    <tr>\n",
       "      <th>0</th>\n",
       "      <td>C23</td>\n",
       "      <td>Telephone</td>\n",
       "      <td>300</td>\n",
       "      <td>2</td>\n",
       "    </tr>\n",
       "    <tr>\n",
       "      <th>1</th>\n",
       "      <td>C24</td>\n",
       "      <td>Monitors</td>\n",
       "      <td>435</td>\n",
       "      <td>2</td>\n",
       "    </tr>\n",
       "    <tr>\n",
       "      <th>2</th>\n",
       "      <td>C25</td>\n",
       "      <td>Car</td>\n",
       "      <td>329</td>\n",
       "      <td>2</td>\n",
       "    </tr>\n",
       "    <tr>\n",
       "      <th>3</th>\n",
       "      <td>C26</td>\n",
       "      <td>Rent</td>\n",
       "      <td>544</td>\n",
       "      <td>2</td>\n",
       "    </tr>\n",
       "    <tr>\n",
       "      <th>4</th>\n",
       "      <td>C27</td>\n",
       "      <td>Services</td>\n",
       "      <td>thirty</td>\n",
       "      <td>2</td>\n",
       "    </tr>\n",
       "    <tr>\n",
       "      <th>5</th>\n",
       "      <td>C28</td>\n",
       "      <td>Training</td>\n",
       "      <td>329</td>\n",
       "      <td>2</td>\n",
       "    </tr>\n",
       "  </tbody>\n",
       "</table>\n",
       "</div>"
      ],
      "text/plain": [
       "  TR_ID   Products Sale_price  Debit\n",
       "0   C23  Telephone        300      2\n",
       "1   C24   Monitors        435      2\n",
       "2   C25        Car        329      2\n",
       "3   C26       Rent        544      2\n",
       "4   C27   Services     thirty      2\n",
       "5   C28   Training        329      2"
      ]
     },
     "execution_count": 30,
     "metadata": {},
     "output_type": "execute_result"
    }
   ],
   "source": [
    "# Second Dataframe\n",
    "product_frame.dict_df_2"
   ]
  },
  {
   "cell_type": "code",
   "execution_count": 31,
   "id": "5b3c73c3",
   "metadata": {},
   "outputs": [
    {
     "data": {
      "application/vnd.microsoft.datawrangler.viewer.v0+json": {
       "columns": [
        {
         "name": "index",
         "rawType": "int64",
         "type": "integer"
        },
        {
         "name": "TR_ID",
         "rawType": "object",
         "type": "string"
        },
        {
         "name": "Product",
         "rawType": "object",
         "type": "string"
        },
        {
         "name": "Quantity",
         "rawType": "int64",
         "type": "integer"
        },
        {
         "name": "Purchase_price",
         "rawType": "int64",
         "type": "integer"
        },
        {
         "name": "Sale_price",
         "rawType": "int64",
         "type": "integer"
        }
       ],
       "ref": "26dd5c17-c97d-46ba-9447-6c5f9d54e7e9",
       "rows": [
        [
         "0",
         "C28",
         "Training",
         "13",
         "223",
         "329"
        ]
       ],
       "shape": {
        "columns": 5,
        "rows": 1
       }
      },
      "text/html": [
       "<div>\n",
       "<style scoped>\n",
       "    .dataframe tbody tr th:only-of-type {\n",
       "        vertical-align: middle;\n",
       "    }\n",
       "\n",
       "    .dataframe tbody tr th {\n",
       "        vertical-align: top;\n",
       "    }\n",
       "\n",
       "    .dataframe thead th {\n",
       "        text-align: right;\n",
       "    }\n",
       "</style>\n",
       "<table border=\"1\" class=\"dataframe\">\n",
       "  <thead>\n",
       "    <tr style=\"text-align: right;\">\n",
       "      <th></th>\n",
       "      <th>TR_ID</th>\n",
       "      <th>Product</th>\n",
       "      <th>Quantity</th>\n",
       "      <th>Purchase_price</th>\n",
       "      <th>Sale_price</th>\n",
       "    </tr>\n",
       "  </thead>\n",
       "  <tbody>\n",
       "    <tr>\n",
       "      <th>0</th>\n",
       "      <td>C28</td>\n",
       "      <td>Training</td>\n",
       "      <td>13</td>\n",
       "      <td>223</td>\n",
       "      <td>329</td>\n",
       "    </tr>\n",
       "  </tbody>\n",
       "</table>\n",
       "</div>"
      ],
      "text/plain": [
       "  TR_ID   Product  Quantity  Purchase_price  Sale_price\n",
       "0   C28  Training        13             223         329"
      ]
     },
     "execution_count": 31,
     "metadata": {},
     "output_type": "execute_result"
    }
   ],
   "source": [
    "# Third dataframe\n",
    "product_frame.dict_df_3"
   ]
  },
  {
   "cell_type": "markdown",
   "id": "acc4f333",
   "metadata": {},
   "source": [
    "### b. Note that the databases and the corresponding column names with spelling differences. Correct this to have all column names without ‘s’\n"
   ]
  },
  {
   "cell_type": "code",
   "execution_count": 32,
   "id": "6dd304fe",
   "metadata": {},
   "outputs": [
    {
     "data": {
      "application/vnd.microsoft.datawrangler.viewer.v0+json": {
       "columns": [
        {
         "name": "index",
         "rawType": "int64",
         "type": "integer"
        },
        {
         "name": "TR_ID",
         "rawType": "object",
         "type": "string"
        },
        {
         "name": "Product",
         "rawType": "object",
         "type": "string"
        },
        {
         "name": "Quantity",
         "rawType": "object",
         "type": "unknown"
        },
        {
         "name": "Purchase_price",
         "rawType": "object",
         "type": "unknown"
        }
       ],
       "ref": "cc46963a-1cc9-4170-906a-1cc6ac654e84",
       "rows": [
        [
         "0",
         "C23",
         "Telephone",
         "420",
         "223"
        ],
        [
         "1",
         "C24",
         "Monitors",
         "Ten",
         "344"
        ],
        [
         "2",
         "C25",
         "Car",
         "234",
         "223"
        ],
        [
         "3",
         "C26",
         "Rent",
         "114",
         "Tenn"
        ],
        [
         "4",
         "C27",
         "Services",
         "56",
         "Two"
        ],
        [
         "5",
         "C28",
         "Training",
         "13",
         "223"
        ]
       ],
       "shape": {
        "columns": 4,
        "rows": 6
       }
      },
      "text/html": [
       "<div>\n",
       "<style scoped>\n",
       "    .dataframe tbody tr th:only-of-type {\n",
       "        vertical-align: middle;\n",
       "    }\n",
       "\n",
       "    .dataframe tbody tr th {\n",
       "        vertical-align: top;\n",
       "    }\n",
       "\n",
       "    .dataframe thead th {\n",
       "        text-align: right;\n",
       "    }\n",
       "</style>\n",
       "<table border=\"1\" class=\"dataframe\">\n",
       "  <thead>\n",
       "    <tr style=\"text-align: right;\">\n",
       "      <th></th>\n",
       "      <th>TR_ID</th>\n",
       "      <th>Product</th>\n",
       "      <th>Quantity</th>\n",
       "      <th>Purchase_price</th>\n",
       "    </tr>\n",
       "  </thead>\n",
       "  <tbody>\n",
       "    <tr>\n",
       "      <th>0</th>\n",
       "      <td>C23</td>\n",
       "      <td>Telephone</td>\n",
       "      <td>420</td>\n",
       "      <td>223</td>\n",
       "    </tr>\n",
       "    <tr>\n",
       "      <th>1</th>\n",
       "      <td>C24</td>\n",
       "      <td>Monitors</td>\n",
       "      <td>Ten</td>\n",
       "      <td>344</td>\n",
       "    </tr>\n",
       "    <tr>\n",
       "      <th>2</th>\n",
       "      <td>C25</td>\n",
       "      <td>Car</td>\n",
       "      <td>234</td>\n",
       "      <td>223</td>\n",
       "    </tr>\n",
       "    <tr>\n",
       "      <th>3</th>\n",
       "      <td>C26</td>\n",
       "      <td>Rent</td>\n",
       "      <td>114</td>\n",
       "      <td>Tenn</td>\n",
       "    </tr>\n",
       "    <tr>\n",
       "      <th>4</th>\n",
       "      <td>C27</td>\n",
       "      <td>Services</td>\n",
       "      <td>56</td>\n",
       "      <td>Two</td>\n",
       "    </tr>\n",
       "    <tr>\n",
       "      <th>5</th>\n",
       "      <td>C28</td>\n",
       "      <td>Training</td>\n",
       "      <td>13</td>\n",
       "      <td>223</td>\n",
       "    </tr>\n",
       "  </tbody>\n",
       "</table>\n",
       "</div>"
      ],
      "text/plain": [
       "  TR_ID    Product Quantity Purchase_price\n",
       "0   C23  Telephone      420            223\n",
       "1   C24   Monitors      Ten            344\n",
       "2   C25        Car      234            223\n",
       "3   C26       Rent      114           Tenn\n",
       "4   C27   Services       56            Two\n",
       "5   C28   Training       13            223"
      ]
     },
     "execution_count": 32,
     "metadata": {},
     "output_type": "execute_result"
    }
   ],
   "source": [
    "# Remove the trailing 's'.\n",
    "product_frame.clean_headings()\n",
    "product_frame.dict_df_1"
   ]
  },
  {
   "cell_type": "markdown",
   "id": "742f22a6",
   "metadata": {},
   "source": [
    "### c. Combine the above three databases into one single dataframe called ‘dbase4’ in python using the appropriate method and libraries.\n"
   ]
  },
  {
   "cell_type": "code",
   "execution_count": 33,
   "id": "ebf65008",
   "metadata": {},
   "outputs": [
    {
     "data": {
      "application/vnd.microsoft.datawrangler.viewer.v0+json": {
       "columns": [
        {
         "name": "index",
         "rawType": "int64",
         "type": "integer"
        },
        {
         "name": "TR_ID",
         "rawType": "object",
         "type": "string"
        },
        {
         "name": "Product",
         "rawType": "object",
         "type": "string"
        },
        {
         "name": "Quantity",
         "rawType": "object",
         "type": "unknown"
        },
        {
         "name": "Purchase_price",
         "rawType": "object",
         "type": "unknown"
        },
        {
         "name": "Sale_price",
         "rawType": "object",
         "type": "unknown"
        },
        {
         "name": "Debit",
         "rawType": "int64",
         "type": "integer"
        }
       ],
       "ref": "e3fc7286-4d8b-4112-a7cd-f271f9eecb06",
       "rows": [
        [
         "0",
         "C23",
         "Telephone",
         "420",
         "223",
         "300",
         "2"
        ],
        [
         "1",
         "C24",
         "Monitors",
         "Ten",
         "344",
         "435",
         "2"
        ],
        [
         "2",
         "C25",
         "Car",
         "234",
         "223",
         "329",
         "2"
        ],
        [
         "3",
         "C26",
         "Rent",
         "114",
         "Tenn",
         "544",
         "2"
        ],
        [
         "4",
         "C27",
         "Services",
         "56",
         "Two",
         "thirty",
         "2"
        ],
        [
         "5",
         "C28",
         "Training",
         "13",
         "223",
         "329",
         "2"
        ]
       ],
       "shape": {
        "columns": 6,
        "rows": 6
       }
      },
      "text/html": [
       "<div>\n",
       "<style scoped>\n",
       "    .dataframe tbody tr th:only-of-type {\n",
       "        vertical-align: middle;\n",
       "    }\n",
       "\n",
       "    .dataframe tbody tr th {\n",
       "        vertical-align: top;\n",
       "    }\n",
       "\n",
       "    .dataframe thead th {\n",
       "        text-align: right;\n",
       "    }\n",
       "</style>\n",
       "<table border=\"1\" class=\"dataframe\">\n",
       "  <thead>\n",
       "    <tr style=\"text-align: right;\">\n",
       "      <th></th>\n",
       "      <th>TR_ID</th>\n",
       "      <th>Product</th>\n",
       "      <th>Quantity</th>\n",
       "      <th>Purchase_price</th>\n",
       "      <th>Sale_price</th>\n",
       "      <th>Debit</th>\n",
       "    </tr>\n",
       "  </thead>\n",
       "  <tbody>\n",
       "    <tr>\n",
       "      <th>0</th>\n",
       "      <td>C23</td>\n",
       "      <td>Telephone</td>\n",
       "      <td>420</td>\n",
       "      <td>223</td>\n",
       "      <td>300</td>\n",
       "      <td>2</td>\n",
       "    </tr>\n",
       "    <tr>\n",
       "      <th>1</th>\n",
       "      <td>C24</td>\n",
       "      <td>Monitors</td>\n",
       "      <td>Ten</td>\n",
       "      <td>344</td>\n",
       "      <td>435</td>\n",
       "      <td>2</td>\n",
       "    </tr>\n",
       "    <tr>\n",
       "      <th>2</th>\n",
       "      <td>C25</td>\n",
       "      <td>Car</td>\n",
       "      <td>234</td>\n",
       "      <td>223</td>\n",
       "      <td>329</td>\n",
       "      <td>2</td>\n",
       "    </tr>\n",
       "    <tr>\n",
       "      <th>3</th>\n",
       "      <td>C26</td>\n",
       "      <td>Rent</td>\n",
       "      <td>114</td>\n",
       "      <td>Tenn</td>\n",
       "      <td>544</td>\n",
       "      <td>2</td>\n",
       "    </tr>\n",
       "    <tr>\n",
       "      <th>4</th>\n",
       "      <td>C27</td>\n",
       "      <td>Services</td>\n",
       "      <td>56</td>\n",
       "      <td>Two</td>\n",
       "      <td>thirty</td>\n",
       "      <td>2</td>\n",
       "    </tr>\n",
       "    <tr>\n",
       "      <th>5</th>\n",
       "      <td>C28</td>\n",
       "      <td>Training</td>\n",
       "      <td>13</td>\n",
       "      <td>223</td>\n",
       "      <td>329</td>\n",
       "      <td>2</td>\n",
       "    </tr>\n",
       "  </tbody>\n",
       "</table>\n",
       "</div>"
      ],
      "text/plain": [
       "  TR_ID    Product Quantity Purchase_price Sale_price  Debit\n",
       "0   C23  Telephone      420            223        300      2\n",
       "1   C24   Monitors      Ten            344        435      2\n",
       "2   C25        Car      234            223        329      2\n",
       "3   C26       Rent      114           Tenn        544      2\n",
       "4   C27   Services       56            Two     thirty      2\n",
       "5   C28   Training       13            223        329      2"
      ]
     },
     "execution_count": 33,
     "metadata": {},
     "output_type": "execute_result"
    }
   ],
   "source": [
    "# Merge the databases, and create a new one.\n",
    "product_frame.join_dataframes('dbase4')\n",
    "product_frame.dbase4"
   ]
  },
  {
   "cell_type": "markdown",
   "id": "e17387ed",
   "metadata": {},
   "source": [
    "### d. Consider the character values as error, remove these errors and replace with column’s mean.\n"
   ]
  },
  {
   "cell_type": "code",
   "execution_count": 34,
   "id": "0e6737d4",
   "metadata": {},
   "outputs": [
    {
     "data": {
      "application/vnd.microsoft.datawrangler.viewer.v0+json": {
       "columns": [
        {
         "name": "index",
         "rawType": "int64",
         "type": "integer"
        },
        {
         "name": "TR_ID",
         "rawType": "object",
         "type": "string"
        },
        {
         "name": "Product",
         "rawType": "object",
         "type": "string"
        },
        {
         "name": "Quantity",
         "rawType": "int64",
         "type": "integer"
        },
        {
         "name": "Purchase_price",
         "rawType": "int64",
         "type": "integer"
        },
        {
         "name": "Sale_price",
         "rawType": "int64",
         "type": "integer"
        },
        {
         "name": "Debit",
         "rawType": "int64",
         "type": "integer"
        }
       ],
       "ref": "77f85029-6009-402a-a5df-2ed41e65535c",
       "rows": [
        [
         "0",
         "C23",
         "Telephone",
         "420",
         "223",
         "300",
         "2"
        ],
        [
         "1",
         "C24",
         "Monitors",
         "140",
         "344",
         "435",
         "2"
        ],
        [
         "2",
         "C25",
         "Car",
         "234",
         "223",
         "329",
         "2"
        ],
        [
         "3",
         "C26",
         "Rent",
         "114",
         "169",
         "544",
         "2"
        ],
        [
         "4",
         "C27",
         "Services",
         "56",
         "169",
         "323",
         "2"
        ],
        [
         "5",
         "C28",
         "Training",
         "13",
         "223",
         "329",
         "2"
        ]
       ],
       "shape": {
        "columns": 6,
        "rows": 6
       }
      },
      "text/html": [
       "<div>\n",
       "<style scoped>\n",
       "    .dataframe tbody tr th:only-of-type {\n",
       "        vertical-align: middle;\n",
       "    }\n",
       "\n",
       "    .dataframe tbody tr th {\n",
       "        vertical-align: top;\n",
       "    }\n",
       "\n",
       "    .dataframe thead th {\n",
       "        text-align: right;\n",
       "    }\n",
       "</style>\n",
       "<table border=\"1\" class=\"dataframe\">\n",
       "  <thead>\n",
       "    <tr style=\"text-align: right;\">\n",
       "      <th></th>\n",
       "      <th>TR_ID</th>\n",
       "      <th>Product</th>\n",
       "      <th>Quantity</th>\n",
       "      <th>Purchase_price</th>\n",
       "      <th>Sale_price</th>\n",
       "      <th>Debit</th>\n",
       "    </tr>\n",
       "  </thead>\n",
       "  <tbody>\n",
       "    <tr>\n",
       "      <th>0</th>\n",
       "      <td>C23</td>\n",
       "      <td>Telephone</td>\n",
       "      <td>420</td>\n",
       "      <td>223</td>\n",
       "      <td>300</td>\n",
       "      <td>2</td>\n",
       "    </tr>\n",
       "    <tr>\n",
       "      <th>1</th>\n",
       "      <td>C24</td>\n",
       "      <td>Monitors</td>\n",
       "      <td>140</td>\n",
       "      <td>344</td>\n",
       "      <td>435</td>\n",
       "      <td>2</td>\n",
       "    </tr>\n",
       "    <tr>\n",
       "      <th>2</th>\n",
       "      <td>C25</td>\n",
       "      <td>Car</td>\n",
       "      <td>234</td>\n",
       "      <td>223</td>\n",
       "      <td>329</td>\n",
       "      <td>2</td>\n",
       "    </tr>\n",
       "    <tr>\n",
       "      <th>3</th>\n",
       "      <td>C26</td>\n",
       "      <td>Rent</td>\n",
       "      <td>114</td>\n",
       "      <td>169</td>\n",
       "      <td>544</td>\n",
       "      <td>2</td>\n",
       "    </tr>\n",
       "    <tr>\n",
       "      <th>4</th>\n",
       "      <td>C27</td>\n",
       "      <td>Services</td>\n",
       "      <td>56</td>\n",
       "      <td>169</td>\n",
       "      <td>323</td>\n",
       "      <td>2</td>\n",
       "    </tr>\n",
       "    <tr>\n",
       "      <th>5</th>\n",
       "      <td>C28</td>\n",
       "      <td>Training</td>\n",
       "      <td>13</td>\n",
       "      <td>223</td>\n",
       "      <td>329</td>\n",
       "      <td>2</td>\n",
       "    </tr>\n",
       "  </tbody>\n",
       "</table>\n",
       "</div>"
      ],
      "text/plain": [
       "  TR_ID    Product  Quantity  Purchase_price  Sale_price  Debit\n",
       "0   C23  Telephone       420             223         300      2\n",
       "1   C24   Monitors       140             344         435      2\n",
       "2   C25        Car       234             223         329      2\n",
       "3   C26       Rent       114             169         544      2\n",
       "4   C27   Services        56             169         323      2\n",
       "5   C28   Training        13             223         329      2"
      ]
     },
     "execution_count": 34,
     "metadata": {},
     "output_type": "execute_result"
    }
   ],
   "source": [
    "# Clean the numbers and replace them with the mean.\n",
    "product_frame.clean_number(\n",
    "    product_frame.dbase4,\n",
    "    ['Quantity', 'Purchase_price', 'Sale_price'],\n",
    ")\n",
    "product_frame.dbase4"
   ]
  },
  {
   "cell_type": "markdown",
   "id": "91c33176",
   "metadata": {},
   "source": [
    "### e. Delete the variable ‘Debit’ as not needed then add a column called‘Department’ and assign values from product column: Telphone, monitor -> IT, Car -> transport Rent, Services-> Consultancy Training -> Education\n"
   ]
  },
  {
   "cell_type": "code",
   "execution_count": 35,
   "id": "f1c6c594",
   "metadata": {},
   "outputs": [
    {
     "data": {
      "application/vnd.microsoft.datawrangler.viewer.v0+json": {
       "columns": [
        {
         "name": "index",
         "rawType": "int64",
         "type": "integer"
        },
        {
         "name": "TR_ID",
         "rawType": "object",
         "type": "string"
        },
        {
         "name": "Product",
         "rawType": "object",
         "type": "string"
        },
        {
         "name": "Quantity",
         "rawType": "int64",
         "type": "integer"
        },
        {
         "name": "Purchase_price",
         "rawType": "int64",
         "type": "integer"
        },
        {
         "name": "Sale_price",
         "rawType": "int64",
         "type": "integer"
        }
       ],
       "ref": "207b6ba4-31e5-4aba-a96c-3624a53d2e97",
       "rows": [
        [
         "0",
         "C23",
         "Telephone",
         "420",
         "223",
         "300"
        ],
        [
         "1",
         "C24",
         "Monitors",
         "140",
         "344",
         "435"
        ],
        [
         "2",
         "C25",
         "Car",
         "234",
         "223",
         "329"
        ],
        [
         "3",
         "C26",
         "Rent",
         "114",
         "169",
         "544"
        ],
        [
         "4",
         "C27",
         "Services",
         "56",
         "169",
         "323"
        ],
        [
         "5",
         "C28",
         "Training",
         "13",
         "223",
         "329"
        ]
       ],
       "shape": {
        "columns": 5,
        "rows": 6
       }
      },
      "text/html": [
       "<div>\n",
       "<style scoped>\n",
       "    .dataframe tbody tr th:only-of-type {\n",
       "        vertical-align: middle;\n",
       "    }\n",
       "\n",
       "    .dataframe tbody tr th {\n",
       "        vertical-align: top;\n",
       "    }\n",
       "\n",
       "    .dataframe thead th {\n",
       "        text-align: right;\n",
       "    }\n",
       "</style>\n",
       "<table border=\"1\" class=\"dataframe\">\n",
       "  <thead>\n",
       "    <tr style=\"text-align: right;\">\n",
       "      <th></th>\n",
       "      <th>TR_ID</th>\n",
       "      <th>Product</th>\n",
       "      <th>Quantity</th>\n",
       "      <th>Purchase_price</th>\n",
       "      <th>Sale_price</th>\n",
       "    </tr>\n",
       "  </thead>\n",
       "  <tbody>\n",
       "    <tr>\n",
       "      <th>0</th>\n",
       "      <td>C23</td>\n",
       "      <td>Telephone</td>\n",
       "      <td>420</td>\n",
       "      <td>223</td>\n",
       "      <td>300</td>\n",
       "    </tr>\n",
       "    <tr>\n",
       "      <th>1</th>\n",
       "      <td>C24</td>\n",
       "      <td>Monitors</td>\n",
       "      <td>140</td>\n",
       "      <td>344</td>\n",
       "      <td>435</td>\n",
       "    </tr>\n",
       "    <tr>\n",
       "      <th>2</th>\n",
       "      <td>C25</td>\n",
       "      <td>Car</td>\n",
       "      <td>234</td>\n",
       "      <td>223</td>\n",
       "      <td>329</td>\n",
       "    </tr>\n",
       "    <tr>\n",
       "      <th>3</th>\n",
       "      <td>C26</td>\n",
       "      <td>Rent</td>\n",
       "      <td>114</td>\n",
       "      <td>169</td>\n",
       "      <td>544</td>\n",
       "    </tr>\n",
       "    <tr>\n",
       "      <th>4</th>\n",
       "      <td>C27</td>\n",
       "      <td>Services</td>\n",
       "      <td>56</td>\n",
       "      <td>169</td>\n",
       "      <td>323</td>\n",
       "    </tr>\n",
       "    <tr>\n",
       "      <th>5</th>\n",
       "      <td>C28</td>\n",
       "      <td>Training</td>\n",
       "      <td>13</td>\n",
       "      <td>223</td>\n",
       "      <td>329</td>\n",
       "    </tr>\n",
       "  </tbody>\n",
       "</table>\n",
       "</div>"
      ],
      "text/plain": [
       "  TR_ID    Product  Quantity  Purchase_price  Sale_price\n",
       "0   C23  Telephone       420             223         300\n",
       "1   C24   Monitors       140             344         435\n",
       "2   C25        Car       234             223         329\n",
       "3   C26       Rent       114             169         544\n",
       "4   C27   Services        56             169         323\n",
       "5   C28   Training        13             223         329"
      ]
     },
     "execution_count": 35,
     "metadata": {},
     "output_type": "execute_result"
    }
   ],
   "source": [
    "# Drop the Debit column.\n",
    "product_frame.delete_col(product_frame.dbase4, 'Debit')\n",
    "product_frame.dbase4"
   ]
  },
  {
   "cell_type": "code",
   "execution_count": 36,
   "id": "c5ce753c",
   "metadata": {},
   "outputs": [
    {
     "data": {
      "application/vnd.microsoft.datawrangler.viewer.v0+json": {
       "columns": [
        {
         "name": "index",
         "rawType": "int64",
         "type": "integer"
        },
        {
         "name": "TR_ID",
         "rawType": "object",
         "type": "string"
        },
        {
         "name": "Product",
         "rawType": "object",
         "type": "string"
        },
        {
         "name": "Quantity",
         "rawType": "int64",
         "type": "integer"
        },
        {
         "name": "Purchase_price",
         "rawType": "int64",
         "type": "integer"
        },
        {
         "name": "Sale_price",
         "rawType": "int64",
         "type": "integer"
        },
        {
         "name": "Department",
         "rawType": "object",
         "type": "string"
        }
       ],
       "ref": "94242b37-c6b2-408d-a794-e0d8bf4a8ef0",
       "rows": [
        [
         "0",
         "C23",
         "Telephone",
         "420",
         "223",
         "300",
         "IT"
        ],
        [
         "1",
         "C24",
         "Monitors",
         "140",
         "344",
         "435",
         "IT"
        ],
        [
         "2",
         "C25",
         "Car",
         "234",
         "223",
         "329",
         "Transport"
        ],
        [
         "3",
         "C26",
         "Rent",
         "114",
         "169",
         "544",
         "Consultancy"
        ],
        [
         "4",
         "C27",
         "Services",
         "56",
         "169",
         "323",
         "Consultancy"
        ],
        [
         "5",
         "C28",
         "Training",
         "13",
         "223",
         "329",
         "Education"
        ]
       ],
       "shape": {
        "columns": 6,
        "rows": 6
       }
      },
      "text/html": [
       "<div>\n",
       "<style scoped>\n",
       "    .dataframe tbody tr th:only-of-type {\n",
       "        vertical-align: middle;\n",
       "    }\n",
       "\n",
       "    .dataframe tbody tr th {\n",
       "        vertical-align: top;\n",
       "    }\n",
       "\n",
       "    .dataframe thead th {\n",
       "        text-align: right;\n",
       "    }\n",
       "</style>\n",
       "<table border=\"1\" class=\"dataframe\">\n",
       "  <thead>\n",
       "    <tr style=\"text-align: right;\">\n",
       "      <th></th>\n",
       "      <th>TR_ID</th>\n",
       "      <th>Product</th>\n",
       "      <th>Quantity</th>\n",
       "      <th>Purchase_price</th>\n",
       "      <th>Sale_price</th>\n",
       "      <th>Department</th>\n",
       "    </tr>\n",
       "  </thead>\n",
       "  <tbody>\n",
       "    <tr>\n",
       "      <th>0</th>\n",
       "      <td>C23</td>\n",
       "      <td>Telephone</td>\n",
       "      <td>420</td>\n",
       "      <td>223</td>\n",
       "      <td>300</td>\n",
       "      <td>IT</td>\n",
       "    </tr>\n",
       "    <tr>\n",
       "      <th>1</th>\n",
       "      <td>C24</td>\n",
       "      <td>Monitors</td>\n",
       "      <td>140</td>\n",
       "      <td>344</td>\n",
       "      <td>435</td>\n",
       "      <td>IT</td>\n",
       "    </tr>\n",
       "    <tr>\n",
       "      <th>2</th>\n",
       "      <td>C25</td>\n",
       "      <td>Car</td>\n",
       "      <td>234</td>\n",
       "      <td>223</td>\n",
       "      <td>329</td>\n",
       "      <td>Transport</td>\n",
       "    </tr>\n",
       "    <tr>\n",
       "      <th>3</th>\n",
       "      <td>C26</td>\n",
       "      <td>Rent</td>\n",
       "      <td>114</td>\n",
       "      <td>169</td>\n",
       "      <td>544</td>\n",
       "      <td>Consultancy</td>\n",
       "    </tr>\n",
       "    <tr>\n",
       "      <th>4</th>\n",
       "      <td>C27</td>\n",
       "      <td>Services</td>\n",
       "      <td>56</td>\n",
       "      <td>169</td>\n",
       "      <td>323</td>\n",
       "      <td>Consultancy</td>\n",
       "    </tr>\n",
       "    <tr>\n",
       "      <th>5</th>\n",
       "      <td>C28</td>\n",
       "      <td>Training</td>\n",
       "      <td>13</td>\n",
       "      <td>223</td>\n",
       "      <td>329</td>\n",
       "      <td>Education</td>\n",
       "    </tr>\n",
       "  </tbody>\n",
       "</table>\n",
       "</div>"
      ],
      "text/plain": [
       "  TR_ID    Product  Quantity  Purchase_price  Sale_price   Department\n",
       "0   C23  Telephone       420             223         300           IT\n",
       "1   C24   Monitors       140             344         435           IT\n",
       "2   C25        Car       234             223         329    Transport\n",
       "3   C26       Rent       114             169         544  Consultancy\n",
       "4   C27   Services        56             169         323  Consultancy\n",
       "5   C28   Training        13             223         329    Education"
      ]
     },
     "execution_count": 36,
     "metadata": {},
     "output_type": "execute_result"
    }
   ],
   "source": [
    "# Add the Deaprtment column.\n",
    "product_frame.add_col(product_frame.dbase4, 'Department')\n",
    "product_frame.dbase4"
   ]
  },
  {
   "cell_type": "markdown",
   "id": "89a8b1c3",
   "metadata": {},
   "source": [
    "### f. Visualise the data by creating the plot: product by sale and purchase prices on the same plot.\n"
   ]
  },
  {
   "cell_type": "code",
   "execution_count": 37,
   "id": "e5e503b7",
   "metadata": {},
   "outputs": [
    {
     "data": {
      "text/plain": [
       "<Axes: xlabel='Purchase_price', ylabel='Sale_price'>"
      ]
     },
     "execution_count": 37,
     "metadata": {},
     "output_type": "execute_result"
    },
    {
     "data": {
      "image/png": "[encoded data removed]",
      "text/plain": [
       "<Figure size 640x480 with 1 Axes>"
      ]
     },
     "metadata": {},
     "output_type": "display_data"
    }
   ],
   "source": [
    "# Use seaborn to create a simple scatterplot.\n",
    "sns.scatterplot(data=product_frame.dbase4, x='Purchase_price', y='Sale_price')"
   ]
  },
  {
   "cell_type": "markdown",
   "id": "c04de40e",
   "metadata": {},
   "source": [
    "### g. After creating the single dataframe: Using DataFrame and Class or other method with the above corrected values: Calculate:\n",
    "\n",
    "Revenue = Quantity*Sale_price\n",
    "Cost= quantity*purchase_price\n",
    "Note if revenue > $55000 then a cashback of 5% is given so revenue is less by the 5% amount\n",
    "If revenue > $35000 and <= $550000 then cashback of %2 is given and revenue less the 2% amount But If revenue <=35000 then cashback of 1% amount is given\n",
    "The calculated total cost and total revenue Profit= total revenue – total cost. Report the TR_ID, product name, total revenue , total cost and profit.Check if final profit> 0 then print a message. If final profit = 0 then print a message If final profit < 0 then print a message\n"
   ]
  },
  {
   "cell_type": "code",
   "execution_count": 38,
   "id": "e904ffaf",
   "metadata": {},
   "outputs": [
    {
     "data": {
      "text/html": [
       "<style type=\"text/css\">\n",
       "</style>\n",
       "<table id=\"T_42d5a\">\n",
       "  <thead>\n",
       "    <tr>\n",
       "      <th class=\"blank level0\" >&nbsp;</th>\n",
       "      <th id=\"T_42d5a_level0_col0\" class=\"col_heading level0 col0\" >TR_ID</th>\n",
       "      <th id=\"T_42d5a_level0_col1\" class=\"col_heading level0 col1\" >Product</th>\n",
       "      <th id=\"T_42d5a_level0_col2\" class=\"col_heading level0 col2\" >Revenue</th>\n",
       "      <th id=\"T_42d5a_level0_col3\" class=\"col_heading level0 col3\" >Cost</th>\n",
       "      <th id=\"T_42d5a_level0_col4\" class=\"col_heading level0 col4\" >Profit</th>\n",
       "    </tr>\n",
       "  </thead>\n",
       "  <tbody>\n",
       "    <tr>\n",
       "      <th id=\"T_42d5a_level0_row0\" class=\"row_heading level0 row0\" >0</th>\n",
       "      <td id=\"T_42d5a_row0_col0\" class=\"data row0 col0\" >C23</td>\n",
       "      <td id=\"T_42d5a_row0_col1\" class=\"data row0 col1\" >Telephone</td>\n",
       "      <td id=\"T_42d5a_row0_col2\" class=\"data row0 col2\" >119700.00</td>\n",
       "      <td id=\"T_42d5a_row0_col3\" class=\"data row0 col3\" >93660</td>\n",
       "      <td id=\"T_42d5a_row0_col4\" class=\"data row0 col4\" >26040.00</td>\n",
       "    </tr>\n",
       "    <tr>\n",
       "      <th id=\"T_42d5a_level0_row1\" class=\"row_heading level0 row1\" >1</th>\n",
       "      <td id=\"T_42d5a_row1_col0\" class=\"data row1 col0\" >C24</td>\n",
       "      <td id=\"T_42d5a_row1_col1\" class=\"data row1 col1\" >Monitors</td>\n",
       "      <td id=\"T_42d5a_row1_col2\" class=\"data row1 col2\" >57855.00</td>\n",
       "      <td id=\"T_42d5a_row1_col3\" class=\"data row1 col3\" >48160</td>\n",
       "      <td id=\"T_42d5a_row1_col4\" class=\"data row1 col4\" >9695.00</td>\n",
       "    </tr>\n",
       "    <tr>\n",
       "      <th id=\"T_42d5a_level0_row2\" class=\"row_heading level0 row2\" >2</th>\n",
       "      <td id=\"T_42d5a_row2_col0\" class=\"data row2 col0\" >C25</td>\n",
       "      <td id=\"T_42d5a_row2_col1\" class=\"data row2 col1\" >Car</td>\n",
       "      <td id=\"T_42d5a_row2_col2\" class=\"data row2 col2\" >73136.70</td>\n",
       "      <td id=\"T_42d5a_row2_col3\" class=\"data row2 col3\" >52182</td>\n",
       "      <td id=\"T_42d5a_row2_col4\" class=\"data row2 col4\" >20954.70</td>\n",
       "    </tr>\n",
       "    <tr>\n",
       "      <th id=\"T_42d5a_level0_row3\" class=\"row_heading level0 row3\" >3</th>\n",
       "      <td id=\"T_42d5a_row3_col0\" class=\"data row3 col0\" >C26</td>\n",
       "      <td id=\"T_42d5a_row3_col1\" class=\"data row3 col1\" >Rent</td>\n",
       "      <td id=\"T_42d5a_row3_col2\" class=\"data row3 col2\" >58915.20</td>\n",
       "      <td id=\"T_42d5a_row3_col3\" class=\"data row3 col3\" >19266</td>\n",
       "      <td id=\"T_42d5a_row3_col4\" class=\"data row3 col4\" >39649.20</td>\n",
       "    </tr>\n",
       "    <tr>\n",
       "      <th id=\"T_42d5a_level0_row4\" class=\"row_heading level0 row4\" >4</th>\n",
       "      <td id=\"T_42d5a_row4_col0\" class=\"data row4 col0\" >C27</td>\n",
       "      <td id=\"T_42d5a_row4_col1\" class=\"data row4 col1\" >Services</td>\n",
       "      <td id=\"T_42d5a_row4_col2\" class=\"data row4 col2\" >17907.12</td>\n",
       "      <td id=\"T_42d5a_row4_col3\" class=\"data row4 col3\" >9464</td>\n",
       "      <td id=\"T_42d5a_row4_col4\" class=\"data row4 col4\" >8443.12</td>\n",
       "    </tr>\n",
       "    <tr>\n",
       "      <th id=\"T_42d5a_level0_row5\" class=\"row_heading level0 row5\" >5</th>\n",
       "      <td id=\"T_42d5a_row5_col0\" class=\"data row5 col0\" >C28</td>\n",
       "      <td id=\"T_42d5a_row5_col1\" class=\"data row5 col1\" >Training</td>\n",
       "      <td id=\"T_42d5a_row5_col2\" class=\"data row5 col2\" >4234.23</td>\n",
       "      <td id=\"T_42d5a_row5_col3\" class=\"data row5 col3\" >2899</td>\n",
       "      <td id=\"T_42d5a_row5_col4\" class=\"data row5 col4\" >1335.23</td>\n",
       "    </tr>\n",
       "  </tbody>\n",
       "</table>\n"
      ],
      "text/plain": [
       "<pandas.io.formats.style.Styler at 0x1b1f3bbd950>"
      ]
     },
     "execution_count": 38,
     "metadata": {},
     "output_type": "execute_result"
    }
   ],
   "source": [
    "# Create a new DataFrame with financial info.\n",
    "dbase4_finances = product_frame.create_finance_frame(product_frame.dbase4)\n",
    "# Format everything to two decimal places\n",
    "dbase4_finances.style.format({'Revenue': '{:.2f}', 'Profit': '{:.2f}'})"
   ]
  },
  {
   "cell_type": "code",
   "execution_count": 39,
   "id": "a8c65a76",
   "metadata": {},
   "outputs": [
    {
     "data": {
      "text/html": [
       "<style type=\"text/css\">\n",
       "#T_bfce7_row6_col0 {\n",
       "  background-color: orange;\n",
       "}\n",
       "#T_bfce7_row6_col2, #T_bfce7_row6_col4 {\n",
       "  background-color: green;\n",
       "}\n",
       "#T_bfce7_row6_col3 {\n",
       "  background-color: red;\n",
       "}\n",
       "</style>\n",
       "<table id=\"T_bfce7\">\n",
       "  <thead>\n",
       "    <tr>\n",
       "      <th class=\"blank level0\" >&nbsp;</th>\n",
       "      <th id=\"T_bfce7_level0_col0\" class=\"col_heading level0 col0\" >TR_ID</th>\n",
       "      <th id=\"T_bfce7_level0_col1\" class=\"col_heading level0 col1\" >Product</th>\n",
       "      <th id=\"T_bfce7_level0_col2\" class=\"col_heading level0 col2\" >Revenue</th>\n",
       "      <th id=\"T_bfce7_level0_col3\" class=\"col_heading level0 col3\" >Cost</th>\n",
       "      <th id=\"T_bfce7_level0_col4\" class=\"col_heading level0 col4\" >Profit</th>\n",
       "    </tr>\n",
       "  </thead>\n",
       "  <tbody>\n",
       "    <tr>\n",
       "      <th id=\"T_bfce7_level0_row0\" class=\"row_heading level0 row0\" >0</th>\n",
       "      <td id=\"T_bfce7_row0_col0\" class=\"data row0 col0\" >C23</td>\n",
       "      <td id=\"T_bfce7_row0_col1\" class=\"data row0 col1\" >Telephone</td>\n",
       "      <td id=\"T_bfce7_row0_col2\" class=\"data row0 col2\" >119700.00</td>\n",
       "      <td id=\"T_bfce7_row0_col3\" class=\"data row0 col3\" >93660.00</td>\n",
       "      <td id=\"T_bfce7_row0_col4\" class=\"data row0 col4\" >26040.00</td>\n",
       "    </tr>\n",
       "    <tr>\n",
       "      <th id=\"T_bfce7_level0_row1\" class=\"row_heading level0 row1\" >1</th>\n",
       "      <td id=\"T_bfce7_row1_col0\" class=\"data row1 col0\" >C24</td>\n",
       "      <td id=\"T_bfce7_row1_col1\" class=\"data row1 col1\" >Monitors</td>\n",
       "      <td id=\"T_bfce7_row1_col2\" class=\"data row1 col2\" >57855.00</td>\n",
       "      <td id=\"T_bfce7_row1_col3\" class=\"data row1 col3\" >48160.00</td>\n",
       "      <td id=\"T_bfce7_row1_col4\" class=\"data row1 col4\" >9695.00</td>\n",
       "    </tr>\n",
       "    <tr>\n",
       "      <th id=\"T_bfce7_level0_row2\" class=\"row_heading level0 row2\" >2</th>\n",
       "      <td id=\"T_bfce7_row2_col0\" class=\"data row2 col0\" >C25</td>\n",
       "      <td id=\"T_bfce7_row2_col1\" class=\"data row2 col1\" >Car</td>\n",
       "      <td id=\"T_bfce7_row2_col2\" class=\"data row2 col2\" >73136.70</td>\n",
       "      <td id=\"T_bfce7_row2_col3\" class=\"data row2 col3\" >52182.00</td>\n",
       "      <td id=\"T_bfce7_row2_col4\" class=\"data row2 col4\" >20954.70</td>\n",
       "    </tr>\n",
       "    <tr>\n",
       "      <th id=\"T_bfce7_level0_row3\" class=\"row_heading level0 row3\" >3</th>\n",
       "      <td id=\"T_bfce7_row3_col0\" class=\"data row3 col0\" >C26</td>\n",
       "      <td id=\"T_bfce7_row3_col1\" class=\"data row3 col1\" >Rent</td>\n",
       "      <td id=\"T_bfce7_row3_col2\" class=\"data row3 col2\" >58915.20</td>\n",
       "      <td id=\"T_bfce7_row3_col3\" class=\"data row3 col3\" >19266.00</td>\n",
       "      <td id=\"T_bfce7_row3_col4\" class=\"data row3 col4\" >39649.20</td>\n",
       "    </tr>\n",
       "    <tr>\n",
       "      <th id=\"T_bfce7_level0_row4\" class=\"row_heading level0 row4\" >4</th>\n",
       "      <td id=\"T_bfce7_row4_col0\" class=\"data row4 col0\" >C27</td>\n",
       "      <td id=\"T_bfce7_row4_col1\" class=\"data row4 col1\" >Services</td>\n",
       "      <td id=\"T_bfce7_row4_col2\" class=\"data row4 col2\" >17907.12</td>\n",
       "      <td id=\"T_bfce7_row4_col3\" class=\"data row4 col3\" >9464.00</td>\n",
       "      <td id=\"T_bfce7_row4_col4\" class=\"data row4 col4\" >8443.12</td>\n",
       "    </tr>\n",
       "    <tr>\n",
       "      <th id=\"T_bfce7_level0_row5\" class=\"row_heading level0 row5\" >5</th>\n",
       "      <td id=\"T_bfce7_row5_col0\" class=\"data row5 col0\" >C28</td>\n",
       "      <td id=\"T_bfce7_row5_col1\" class=\"data row5 col1\" >Training</td>\n",
       "      <td id=\"T_bfce7_row5_col2\" class=\"data row5 col2\" >4234.23</td>\n",
       "      <td id=\"T_bfce7_row5_col3\" class=\"data row5 col3\" >2899.00</td>\n",
       "      <td id=\"T_bfce7_row5_col4\" class=\"data row5 col4\" >1335.23</td>\n",
       "    </tr>\n",
       "    <tr>\n",
       "      <th id=\"T_bfce7_level0_row6\" class=\"row_heading level0 row6\" >6</th>\n",
       "      <td id=\"T_bfce7_row6_col0\" class=\"data row6 col0\" >Total</td>\n",
       "      <td id=\"T_bfce7_row6_col1\" class=\"data row6 col1\" >-----</td>\n",
       "      <td id=\"T_bfce7_row6_col2\" class=\"data row6 col2\" >331748.25</td>\n",
       "      <td id=\"T_bfce7_row6_col3\" class=\"data row6 col3\" >225631.00</td>\n",
       "      <td id=\"T_bfce7_row6_col4\" class=\"data row6 col4\" >106117.25</td>\n",
       "    </tr>\n",
       "  </tbody>\n",
       "</table>\n"
      ],
      "text/plain": [
       "<pandas.io.formats.style.Styler at 0x1b1f3edde50>"
      ]
     },
     "execution_count": 39,
     "metadata": {},
     "output_type": "execute_result"
    }
   ],
   "source": [
    "# Calculate the totals for each column.\n",
    "totals_dict = product_frame.calculate_total(dbase4_finances)\n",
    "# Format the numbers to two decimal places and give the columns colors.\n",
    "totals_dict.style.format(\n",
    "    {'Revenue': '{:.2f}', 'Cost': '{:.2f}', 'Profit': '{:.2f}'},\n",
    ").apply(\n",
    "    color_last_cell,\n",
    "    subset=['Revenue', 'Profit'],\n",
    "    color='green',\n",
    ").apply(color_last_cell, subset=['Cost'], color='red').apply(\n",
    "    color_last_cell, subset=['TR_ID'], color='orange',\n",
    ")"
   ]
  },
  {
   "cell_type": "code",
   "execution_count": 40,
   "id": "9d0598fc",
   "metadata": {},
   "outputs": [
    {
     "name": "stdout",
     "output_type": "stream",
     "text": [
      "\u001b[32mThe business is on it's way to success!\u001b[0m\n"
     ]
    }
   ],
   "source": [
    "# Display success message based on the final cell.\n",
    "product_frame.evaluation_message(totals_dict['Profit'].iloc[-1])"
   ]
  },
  {
   "cell_type": "markdown",
   "id": "cadf10be",
   "metadata": {},
   "source": [
    "## Question 2. Stock Transaction Program"
   ]
  },
  {
   "cell_type": "markdown",
   "id": "173b056b",
   "metadata": {},
   "source": [
    "Tom purchased some stock in DBS Software.\n",
    "\n",
    "Here are the details:\n",
    "\n",
    "1. The number of shares that Tom purchased was 5,000\n",
    "2. When Tom purchased the stock, he paid €40.0 per share.\n",
    "3. Tom paid his stockbroker a commission that amounted to 3% of the amount he paid for the stock.\n",
    "\n",
    "Two weeks later, Tom sold the stock. Here are the details:\n",
    "\n",
    "1. The number of shares that Tom sold was 2,000\n",
    "2. When Tom sold the stock , he sold for €42.75 per share.\n",
    "3. Tom paid his stockbroker another commission that amounted to 3% of the amount he received for the stock.\n",
    "\n",
    "Write a program that displays the following information.\n",
    "\n",
    "1. The amount of money Tom paid for the stock\n",
    "2. The amount of commission Tom paid his broker when he bought the stock.\n",
    "3. The amount for which Tom sold the stock\n",
    "4. The amount of commission Tom paid his broker when he sold the stock.\n",
    "5. Display the amount of money that Tom had left when he sold the stock and paid his broker(both times). If this amount is positive, then Tom made a profit. If the amount is negative, then Tom lost money."
   ]
  },
  {
   "cell_type": "markdown",
   "id": "df76184c",
   "metadata": {},
   "source": [
    "### StockCalculator"
   ]
  },
  {
   "cell_type": "markdown",
   "id": "04e6bf21",
   "metadata": {},
   "source": [
    "#### Flowchart\n",
    "![CA2-2nd.jpg](data:image/jpeg;base64,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)\n",
    "\n",
    "#### Code Explanation\n",
    "The `StockCalculator` class is a straightforward class that requires minimal input from the end user. It will accept a dictionary of values, do the calculations required, and output the results in an easily readable table. The table provides coloured feedback to highlight the results. The minimal amoount of input is specifically to aid in defensive design, so the user can't make mistakes. It has error handling that responds with a message if the dictionary contains non-number values. Editing the dictionary with diffierent values is easy. I also considered allowing input, but as the question specifies certain numbers I chose a dictionary instead. All methods except the `calculate_into_frame` method are simply one-line calculations that are callable, as such I won't explain them in detail. I designed the code this way to make it cleaner and easier to read. Previously, I had accessed the values with dictionaries in a single function but it was very unclear.\n",
    "\n",
    "- The `StockCalculator` class requires a dictionaries to initialise, storing the keys and values as attributes. \n",
    "- The `calculate_into_frame` method uses the other methods to calculate and store the values from the stock trade, storing them in a dicitionary. Once they have all been stored correctly, it returns a dataframe to be displayed. It has error handling to catch and non-number values, and displays an error message.\n"
   ]
  },
  {
   "cell_type": "code",
   "execution_count": 41,
   "id": "5eee9c00",
   "metadata": {},
   "outputs": [],
   "source": [
    "class StockCalculator:\n",
    "    \"\"\"Accept dictionary for stack trade values and calculate statistics.\"\"\"\n",
    "\n",
    "    def __init__(self, stock: dict[str, int | float]) -> None:\n",
    "        \"\"\"Accept dictionary with the defined keys and sets them as attributes.\n",
    "\n",
    "        'buy_shares': number of shares bought,\n",
    "        'sell_shares': number of shares sold,\n",
    "        'buy_price': cost per share purchased,\n",
    "        'sell_price': price per share sold,\n",
    "        'commission_percent': commission as a percentage, eg. 3,\n",
    "        \"\"\"\n",
    "        # Set each key and value in the dictionary as an attribute.\n",
    "        for key, value in stock.items():\n",
    "            setattr(self, key, value)\n",
    "\n",
    "    def calculate_purchase_cost(self) -> float:\n",
    "        \"\"\"Calculate total cost of purchasing shares.\n",
    "\n",
    "        Returns:\n",
    "            float: Total cost of purchase.\n",
    "\n",
    "        \"\"\"\n",
    "        return self.buy_shares * self.buy_price\n",
    "\n",
    "    def calculate_commission(self, cost: float) -> float:\n",
    "        \"\"\"Calculate cost of commission for purchase.\n",
    "\n",
    "        Args:\n",
    "            cost (float): Total purchase cost.\n",
    "\n",
    "        Returns:\n",
    "            float: Cost of commission.\n",
    "\n",
    "        \"\"\"\n",
    "        return cost * self.commission_percent / 100\n",
    "\n",
    "    def calculate_sale_total(self) -> float:\n",
    "        \"\"\"Calculate total income of sale.\n",
    "\n",
    "        Returns:\n",
    "            float: Income of sale.\n",
    "\n",
    "        \"\"\"\n",
    "        return self.sell_shares * self.sell_price\n",
    "\n",
    "    def calculate_into_frame(self) -> DataFrame:\n",
    "        \"\"\"Calculate final details and create a DataFrame.\n",
    "\n",
    "        Returns:\n",
    "            DataFrame: A small summary table of results.\n",
    "\n",
    "        \"\"\"\n",
    "        try:\n",
    "            # Use previously defined functions to do calculations.\n",
    "            purchase_cost = self.calculate_purchase_cost()\n",
    "            purchase_commission = self.calculate_commission(purchase_cost)\n",
    "            sale_total = self.calculate_sale_total()\n",
    "            sale_commission = self.calculate_commission(sale_total)\n",
    "\n",
    "            total_money = sale_total - purchase_commission - sale_commission\n",
    "            net_profit = total_money - purchase_cost\n",
    "\n",
    "            # Take the statistics and store as a dictionary.\n",
    "            stat_dict = {\n",
    "                'Purchase Cost': [purchase_cost],\n",
    "                'Purchase Commission': [purchase_commission],\n",
    "                'Sale Total': [sale_total],\n",
    "                'Sale Commission': [sale_commission],\n",
    "                'Net Sales': [total_money],\n",
    "                'Net Profit': [net_profit],\n",
    "            }\n",
    "        except TypeError as e:\n",
    "            print(\n",
    "                'Please ensure all your values are numbers,'\n",
    "                f' either ints or floats: {e}',\n",
    "            )\n",
    "        else:\n",
    "            # Return a dataframe.\n",
    "            return DataFrame(stat_dict)"
   ]
  },
  {
   "cell_type": "code",
   "execution_count": 42,
   "id": "8dc22379",
   "metadata": {},
   "outputs": [],
   "source": [
    "# Define dictionary to initalise the class with.\n",
    "toms_trade = {\n",
    "    'buy_shares': 5000,\n",
    "    'sell_shares': 2000,\n",
    "    'buy_price': 40.0,\n",
    "    'sell_price': 42.75,\n",
    "    'commission_percent': 3,\n",
    "}\n",
    "\n",
    "# Initialise the class.\n",
    "toms_calculator = StockCalculator(toms_trade)\n"
   ]
  },
  {
   "cell_type": "code",
   "execution_count": 43,
   "id": "96aee672",
   "metadata": {},
   "outputs": [
    {
     "data": {
      "text/html": [
       "<style type=\"text/css\">\n",
       "#T_21a8f_row0_col0, #T_21a8f_row0_col1, #T_21a8f_row0_col3, #T_21a8f_row0_col5 {\n",
       "  background-color: red;\n",
       "}\n",
       "#T_21a8f_row0_col2, #T_21a8f_row0_col4 {\n",
       "  background-color: green;\n",
       "}\n",
       "</style>\n",
       "<table id=\"T_21a8f\">\n",
       "  <thead>\n",
       "    <tr>\n",
       "      <th class=\"blank level0\" >&nbsp;</th>\n",
       "      <th id=\"T_21a8f_level0_col0\" class=\"col_heading level0 col0\" >Purchase Cost</th>\n",
       "      <th id=\"T_21a8f_level0_col1\" class=\"col_heading level0 col1\" >Purchase Commission</th>\n",
       "      <th id=\"T_21a8f_level0_col2\" class=\"col_heading level0 col2\" >Sale Total</th>\n",
       "      <th id=\"T_21a8f_level0_col3\" class=\"col_heading level0 col3\" >Sale Commission</th>\n",
       "      <th id=\"T_21a8f_level0_col4\" class=\"col_heading level0 col4\" >Net Sales</th>\n",
       "      <th id=\"T_21a8f_level0_col5\" class=\"col_heading level0 col5\" >Net Profit</th>\n",
       "    </tr>\n",
       "  </thead>\n",
       "  <tbody>\n",
       "    <tr>\n",
       "      <th id=\"T_21a8f_level0_row0\" class=\"row_heading level0 row0\" >0</th>\n",
       "      <td id=\"T_21a8f_row0_col0\" class=\"data row0 col0\" >200000.00</td>\n",
       "      <td id=\"T_21a8f_row0_col1\" class=\"data row0 col1\" >6000.00</td>\n",
       "      <td id=\"T_21a8f_row0_col2\" class=\"data row0 col2\" >85500.00</td>\n",
       "      <td id=\"T_21a8f_row0_col3\" class=\"data row0 col3\" >2565.00</td>\n",
       "      <td id=\"T_21a8f_row0_col4\" class=\"data row0 col4\" >76935.00</td>\n",
       "      <td id=\"T_21a8f_row0_col5\" class=\"data row0 col5\" >-123065.00</td>\n",
       "    </tr>\n",
       "  </tbody>\n",
       "</table>\n"
      ],
      "text/plain": [
       "<pandas.io.formats.style.Styler at 0x1b1f3bbc690>"
      ]
     },
     "execution_count": 43,
     "metadata": {},
     "output_type": "execute_result"
    }
   ],
   "source": [
    "# Calculate the statistics based on the info.\n",
    "stat_frame = toms_calculator.calculate_into_frame()\n",
    "\n",
    "# Display with colours, and two decimal point formatting.\n",
    "stat_frame.style.apply(\n",
    "    color_last_cell, subset=['Sale Total', 'Net Sales'], color='green',\n",
    ").apply(\n",
    "    color_last_cell,\n",
    "    subset=['Purchase Cost', 'Purchase Commission', 'Sale Commission'],\n",
    "    color='red',\n",
    ").apply(\n",
    "    color_on_value,\n",
    "    subset=['Net Profit'],\n",
    "    number=stat_frame['Net Profit'].iloc[-1],\n",
    ").format(dict.fromkeys(stat_frame.columns, '{:.2f}'))\n"
   ]
  }
 ],
 "metadata": {
  "kernelspec": {
   "display_name": ".venv",
   "language": "python",
   "name": "python3"
  },
  "language_info": {
   "codemirror_mode": {
    "name": "ipython",
    "version": 3
   },
   "file_extension": ".py",
   "mimetype": "text/x-python",
   "name": "python",
   "nbconvert_exporter": "python",
   "pygments_lexer": "ipython3",
   "version": "3.13.1"
  }
 },
 "nbformat": 4,
 "nbformat_minor": 5
}
