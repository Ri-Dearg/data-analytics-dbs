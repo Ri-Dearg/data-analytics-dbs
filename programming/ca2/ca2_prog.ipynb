{
 "cells": [
  {
   "cell_type": "markdown",
   "id": "68c9eb61",
   "metadata": {},
   "source": [
    "# CA2 Rory Sheridan\n"
   ]
  },
  {
   "cell_type": "code",
   "execution_count": 109,
   "id": "6f7d51a7",
   "metadata": {},
   "outputs": [],
   "source": [
    "import seaborn as sns\n",
    "from colorama import Fore, Style\n",
    "from pandas import DataFrame, concat\n"
   ]
  },
  {
   "cell_type": "markdown",
   "id": "c70af135",
   "metadata": {},
   "source": [
    "# Question 1\n",
    "\n",
    "Read in the below information of a company’s transactions for the year2022 into a python dictionary files.\n"
   ]
  },
  {
   "cell_type": "code",
   "execution_count": 110,
   "id": "ba90f52c",
   "metadata": {},
   "outputs": [],
   "source": [
    "class DataFrameManager:\n",
    "    \"\"\"Create dataframes from dictionaries and provide manage options.\"\"\"\n",
    "\n",
    "    # a. Convert each database into a dataframe in python.\n",
    "    def __init__(self, *args: dict[str, list]) -> None:\n",
    "        \"\"\"Accept dictionaries and store as attributes.\"\"\"\n",
    "        for i, db_dict in enumerate(args):\n",
    "            data_frame = DataFrame(db_dict)\n",
    "            setattr(self, f'dict_df_{i + 1}', data_frame)\n",
    "\n",
    "    def add_col(self, frame: DataFrame, col: str) -> DataFrame:\n",
    "        \"\"\"Add a column and generate values for it.\n",
    "\n",
    "        Args:\n",
    "            frame (DataFrame): the data frame to alter.\n",
    "            col (str): the column name to add.\n",
    "\n",
    "        Returns:\n",
    "            DataFrame: The altered frame.\n",
    "\n",
    "        \"\"\"\n",
    "        product_category = {\n",
    "            'Telephone': 'IT',\n",
    "            'Monitors': 'IT',\n",
    "            'Car': 'Transport',\n",
    "            'Rent': 'Consultancy',\n",
    "            'Services': 'Consultancy',\n",
    "            'Training': 'Education',\n",
    "        }\n",
    "\n",
    "        to_add = [\n",
    "            product_category.get(value, '') for value in frame['Product']\n",
    "        ]\n",
    "\n",
    "        frame[col] = to_add\n",
    "        return frame\n",
    "\n",
    "    def calculate_total(self, frame: DataFrame) -> None:\n",
    "        \"\"\"Calculate the total sales, cost and profit of products.\n",
    "\n",
    "        Args:\n",
    "            frame (DataFrame): The frame to use for calculations.\n",
    "\n",
    "        Returns:\n",
    "            _type_: A merged frame of the old with the total columns.\n",
    "\n",
    "        \"\"\"\n",
    "        totals_frame = (\n",
    "            frame.select_dtypes(include=['number']).sum().to_frame().T\n",
    "        )\n",
    "\n",
    "        totals_frame.insert(0, 'TR_ID', 'Total')\n",
    "        totals_frame.insert(1, 'Product', '-----')\n",
    "\n",
    "        return concat([frame, totals_frame], ignore_index=True)\n",
    "\n",
    "    def create_finance_frame(self, frame: DataFrame) -> DataFrame:\n",
    "        \"\"\"Create a new DataFrame with financial statistics.\n",
    "\n",
    "        Args:\n",
    "            frame (DataFrame): The dataframe containing the information.\n",
    "\n",
    "        Returns:\n",
    "            DataFrame: New dataframe with financial details.\n",
    "\n",
    "        \"\"\"\n",
    "        finance_frame = {'TR_ID': frame['TR_ID'], 'Product': frame['Product']}\n",
    "        revenue = []\n",
    "        cost = []\n",
    "        profit = []\n",
    "        for _index, row in frame.iterrows():\n",
    "            product_revenue = row['Quantity'] * row['Sale_price']\n",
    "            if product_revenue > 55000:\n",
    "                product_revenue *= 0.95\n",
    "            elif 35000 < product_revenue <= 55000:\n",
    "                product_revenue *= 0.98\n",
    "            else:\n",
    "                product_revenue *= 0.99\n",
    "\n",
    "            revenue.append(product_revenue)\n",
    "            product_cost = row['Quantity'] * row['Purchase_price']\n",
    "            cost.append(product_cost)\n",
    "            profit.append(product_revenue - product_cost)\n",
    "        finance_frame['Revenue'] = revenue\n",
    "        finance_frame['Cost'] = cost\n",
    "        finance_frame['Profit'] = profit\n",
    "        return DataFrame(finance_frame)\n",
    "\n",
    "    # b. Note that the databases and the corresponding column names with\n",
    "    # spelling differences. Correct this to have all column names without 's'\n",
    "    def clean_headings(self) -> None:\n",
    "        \"\"\"Remove the final s from the dataframe column names.\"\"\"\n",
    "        for value in vars(self).values():\n",
    "            new_columns = [col.removesuffix('s') for col in value.columns]\n",
    "            value.columns = new_columns\n",
    "\n",
    "    def clean_number(self, frame: DataFrame, num_cols: list[str]) -> None:\n",
    "        \"\"\"Check for strings in number column, replace with mean.\n",
    "\n",
    "        Args:\n",
    "            frame (DataFrame): The data frame to clean.\n",
    "            num_cols (list[str]): The names of the columns to clean.\n",
    "\n",
    "        \"\"\"\n",
    "        for col in num_cols:\n",
    "            num_vals = [\n",
    "                val if isinstance(val, (int, float)) else 0\n",
    "                for val in frame[col]\n",
    "            ]\n",
    "            mean = sum(num_vals) / len(num_vals)\n",
    "            for i in range(len(num_vals)):\n",
    "                if num_vals[i] == 0:\n",
    "                    num_vals[i] = round(mean)\n",
    "            frame[col] = num_vals\n",
    "\n",
    "    def delete_col(self, frame: DataFrame, col: str) -> DataFrame:\n",
    "        \"\"\"Delete a column from a frame.\n",
    "\n",
    "        Args:\n",
    "            frame (DataFrame): The frame to alter.\n",
    "            col (str): The column to delete.\n",
    "\n",
    "        Returns:\n",
    "            _type_: The altered data frame.\n",
    "\n",
    "        \"\"\"\n",
    "        frame.drop(col, axis=1, inplace=True)\n",
    "\n",
    "    def evaluation_message(self, number: int) -> None:\n",
    "        \"\"\"Respond with a message based on value.\n",
    "\n",
    "        Args:\n",
    "            number (int): the number to evaluate.\n",
    "\n",
    "        \"\"\"\n",
    "        if number > 0:\n",
    "            print(\n",
    "                Fore.GREEN\n",
    "                + \"The business is on it's way to success!\"\n",
    "                + Style.RESET_ALL,\n",
    "            )\n",
    "        if number == 0:\n",
    "            print(\n",
    "                Fore.YELLOW\n",
    "                + 'Just breaking even. Hang in there!'\n",
    "                + Style.RESET_ALL,\n",
    "            )\n",
    "        if number < 0:\n",
    "            print(Fore.RED + 'Time to revise your finances.' + Style.RESET_ALL)\n",
    "\n",
    "    def join_dataframes(self, attr_name: str) -> DataFrame:\n",
    "        \"\"\"Merge dataframes into a single table based on columns.\n",
    "\n",
    "        Args:\n",
    "            attr_name (str): The name for the new attribute.\n",
    "\n",
    "        Returns:\n",
    "            DataFrame: Single dataframe.\n",
    "\n",
    "        \"\"\"\n",
    "        try:\n",
    "            frame_list = list(vars(self).values())\n",
    "            merged_df = frame_list[0]\n",
    "            for df in frame_list[1:]:\n",
    "                matching_cols = [\n",
    "                    col for col in df.columns if col in merged_df.columns\n",
    "                ]\n",
    "                merged_df = merged_df.merge(df, on=matching_cols, how='outer')\n",
    "        except ValueError as e:\n",
    "            print(\n",
    "                'There is an issue with the dataset merging.'\n",
    "                f' Please check they have shared column: {e}',\n",
    "            )\n",
    "        else:\n",
    "            setattr(self, attr_name, merged_df)\n",
    "            return merged_df"
   ]
  },
  {
   "cell_type": "code",
   "execution_count": 111,
   "id": "92f8e02c",
   "metadata": {},
   "outputs": [],
   "source": [
    "# Declare data.\n",
    "dbase1_dict = {\n",
    "    'TR_ID': [\n",
    "        'C23',\n",
    "        'C24',\n",
    "        'C25',\n",
    "        'C26',\n",
    "        'C27',\n",
    "        'C28',\n",
    "    ],\n",
    "    'Product': [\n",
    "        'Telephone',\n",
    "        'Monitors',\n",
    "        'Car',\n",
    "        'Rent',\n",
    "        'Services',\n",
    "        'Training',\n",
    "    ],\n",
    "    'Quantitys': [\n",
    "        420,\n",
    "        'Ten',\n",
    "        234,\n",
    "        114,\n",
    "        56,\n",
    "        13,\n",
    "    ],\n",
    "    'Purchase_prices': [\n",
    "        223,\n",
    "        344,\n",
    "        223,\n",
    "        'Tenn',\n",
    "        'Two',\n",
    "        223,\n",
    "    ],\n",
    "}\n",
    "dbase2_dict = {\n",
    "    'TR_ID': [\n",
    "        'C23',\n",
    "        'C24',\n",
    "        'C25',\n",
    "        'C26',\n",
    "        'C27',\n",
    "        'C28',\n",
    "    ],\n",
    "    'Products': [\n",
    "        'Telephone',\n",
    "        'Monitors',\n",
    "        'Car',\n",
    "        'Rent',\n",
    "        'Services',\n",
    "        'Training',\n",
    "    ],\n",
    "    'Sale_price': [\n",
    "        300,\n",
    "        435,\n",
    "        329,\n",
    "        544,\n",
    "        'thirty',\n",
    "        329,\n",
    "    ],\n",
    "    'Debit': [\n",
    "        2,\n",
    "        2,\n",
    "        2,\n",
    "        2,\n",
    "        2,\n",
    "        2,\n",
    "    ],\n",
    "}\n",
    "\n",
    "dbase3_dict = {\n",
    "    'TR_ID': ['C28'],\n",
    "    'Product': ['Training'],\n",
    "    'Quantity': [13],\n",
    "    'Purchase_price': [223],\n",
    "    'Sale_price': [329],\n",
    "}"
   ]
  },
  {
   "cell_type": "markdown",
   "id": "52ff8352",
   "metadata": {},
   "source": [
    "## a. Convert each database into a dataframe in python.\n"
   ]
  },
  {
   "cell_type": "code",
   "execution_count": 112,
   "id": "d1142ec2",
   "metadata": {},
   "outputs": [
    {
     "data": {
      "application/vnd.microsoft.datawrangler.viewer.v0+json": {
       "columns": [
        {
         "name": "index",
         "rawType": "int64",
         "type": "integer"
        },
        {
         "name": "TR_ID",
         "rawType": "object",
         "type": "string"
        },
        {
         "name": "Product",
         "rawType": "object",
         "type": "string"
        },
        {
         "name": "Quantitys",
         "rawType": "object",
         "type": "unknown"
        },
        {
         "name": "Purchase_prices",
         "rawType": "object",
         "type": "unknown"
        }
       ],
       "ref": "2813be69-7798-4a65-a446-a91ce96fdcda",
       "rows": [
        [
         "0",
         "C23",
         "Telephone",
         "420",
         "223"
        ],
        [
         "1",
         "C24",
         "Monitors",
         "Ten",
         "344"
        ],
        [
         "2",
         "C25",
         "Car",
         "234",
         "223"
        ],
        [
         "3",
         "C26",
         "Rent",
         "114",
         "Tenn"
        ],
        [
         "4",
         "C27",
         "Services",
         "56",
         "Two"
        ],
        [
         "5",
         "C28",
         "Training",
         "13",
         "223"
        ]
       ],
       "shape": {
        "columns": 4,
        "rows": 6
       }
      },
      "text/html": [
       "<div>\n",
       "<style scoped>\n",
       "    .dataframe tbody tr th:only-of-type {\n",
       "        vertical-align: middle;\n",
       "    }\n",
       "\n",
       "    .dataframe tbody tr th {\n",
       "        vertical-align: top;\n",
       "    }\n",
       "\n",
       "    .dataframe thead th {\n",
       "        text-align: right;\n",
       "    }\n",
       "</style>\n",
       "<table border=\"1\" class=\"dataframe\">\n",
       "  <thead>\n",
       "    <tr style=\"text-align: right;\">\n",
       "      <th></th>\n",
       "      <th>TR_ID</th>\n",
       "      <th>Product</th>\n",
       "      <th>Quantitys</th>\n",
       "      <th>Purchase_prices</th>\n",
       "    </tr>\n",
       "  </thead>\n",
       "  <tbody>\n",
       "    <tr>\n",
       "      <th>0</th>\n",
       "      <td>C23</td>\n",
       "      <td>Telephone</td>\n",
       "      <td>420</td>\n",
       "      <td>223</td>\n",
       "    </tr>\n",
       "    <tr>\n",
       "      <th>1</th>\n",
       "      <td>C24</td>\n",
       "      <td>Monitors</td>\n",
       "      <td>Ten</td>\n",
       "      <td>344</td>\n",
       "    </tr>\n",
       "    <tr>\n",
       "      <th>2</th>\n",
       "      <td>C25</td>\n",
       "      <td>Car</td>\n",
       "      <td>234</td>\n",
       "      <td>223</td>\n",
       "    </tr>\n",
       "    <tr>\n",
       "      <th>3</th>\n",
       "      <td>C26</td>\n",
       "      <td>Rent</td>\n",
       "      <td>114</td>\n",
       "      <td>Tenn</td>\n",
       "    </tr>\n",
       "    <tr>\n",
       "      <th>4</th>\n",
       "      <td>C27</td>\n",
       "      <td>Services</td>\n",
       "      <td>56</td>\n",
       "      <td>Two</td>\n",
       "    </tr>\n",
       "    <tr>\n",
       "      <th>5</th>\n",
       "      <td>C28</td>\n",
       "      <td>Training</td>\n",
       "      <td>13</td>\n",
       "      <td>223</td>\n",
       "    </tr>\n",
       "  </tbody>\n",
       "</table>\n",
       "</div>"
      ],
      "text/plain": [
       "  TR_ID    Product Quantitys Purchase_prices\n",
       "0   C23  Telephone       420             223\n",
       "1   C24   Monitors       Ten             344\n",
       "2   C25        Car       234             223\n",
       "3   C26       Rent       114            Tenn\n",
       "4   C27   Services        56             Two\n",
       "5   C28   Training        13             223"
      ]
     },
     "execution_count": 112,
     "metadata": {},
     "output_type": "execute_result"
    }
   ],
   "source": [
    "# Accepts dictionaries and stores the data frames as attributes.\n",
    "dict_df_db = DataFrameManager(dbase1_dict, dbase2_dict, dbase3_dict)\n",
    "\n",
    "dict_df_db.dict_df_1"
   ]
  },
  {
   "cell_type": "code",
   "execution_count": 113,
   "id": "2044da18",
   "metadata": {},
   "outputs": [
    {
     "data": {
      "application/vnd.microsoft.datawrangler.viewer.v0+json": {
       "columns": [
        {
         "name": "index",
         "rawType": "int64",
         "type": "integer"
        },
        {
         "name": "TR_ID",
         "rawType": "object",
         "type": "string"
        },
        {
         "name": "Products",
         "rawType": "object",
         "type": "string"
        },
        {
         "name": "Sale_price",
         "rawType": "object",
         "type": "unknown"
        },
        {
         "name": "Debit",
         "rawType": "int64",
         "type": "integer"
        }
       ],
       "ref": "9837bf4a-de36-4e11-97d4-89bef7ee6d5b",
       "rows": [
        [
         "0",
         "C23",
         "Telephone",
         "300",
         "2"
        ],
        [
         "1",
         "C24",
         "Monitors",
         "435",
         "2"
        ],
        [
         "2",
         "C25",
         "Car",
         "329",
         "2"
        ],
        [
         "3",
         "C26",
         "Rent",
         "544",
         "2"
        ],
        [
         "4",
         "C27",
         "Services",
         "thirty",
         "2"
        ],
        [
         "5",
         "C28",
         "Training",
         "329",
         "2"
        ]
       ],
       "shape": {
        "columns": 4,
        "rows": 6
       }
      },
      "text/html": [
       "<div>\n",
       "<style scoped>\n",
       "    .dataframe tbody tr th:only-of-type {\n",
       "        vertical-align: middle;\n",
       "    }\n",
       "\n",
       "    .dataframe tbody tr th {\n",
       "        vertical-align: top;\n",
       "    }\n",
       "\n",
       "    .dataframe thead th {\n",
       "        text-align: right;\n",
       "    }\n",
       "</style>\n",
       "<table border=\"1\" class=\"dataframe\">\n",
       "  <thead>\n",
       "    <tr style=\"text-align: right;\">\n",
       "      <th></th>\n",
       "      <th>TR_ID</th>\n",
       "      <th>Products</th>\n",
       "      <th>Sale_price</th>\n",
       "      <th>Debit</th>\n",
       "    </tr>\n",
       "  </thead>\n",
       "  <tbody>\n",
       "    <tr>\n",
       "      <th>0</th>\n",
       "      <td>C23</td>\n",
       "      <td>Telephone</td>\n",
       "      <td>300</td>\n",
       "      <td>2</td>\n",
       "    </tr>\n",
       "    <tr>\n",
       "      <th>1</th>\n",
       "      <td>C24</td>\n",
       "      <td>Monitors</td>\n",
       "      <td>435</td>\n",
       "      <td>2</td>\n",
       "    </tr>\n",
       "    <tr>\n",
       "      <th>2</th>\n",
       "      <td>C25</td>\n",
       "      <td>Car</td>\n",
       "      <td>329</td>\n",
       "      <td>2</td>\n",
       "    </tr>\n",
       "    <tr>\n",
       "      <th>3</th>\n",
       "      <td>C26</td>\n",
       "      <td>Rent</td>\n",
       "      <td>544</td>\n",
       "      <td>2</td>\n",
       "    </tr>\n",
       "    <tr>\n",
       "      <th>4</th>\n",
       "      <td>C27</td>\n",
       "      <td>Services</td>\n",
       "      <td>thirty</td>\n",
       "      <td>2</td>\n",
       "    </tr>\n",
       "    <tr>\n",
       "      <th>5</th>\n",
       "      <td>C28</td>\n",
       "      <td>Training</td>\n",
       "      <td>329</td>\n",
       "      <td>2</td>\n",
       "    </tr>\n",
       "  </tbody>\n",
       "</table>\n",
       "</div>"
      ],
      "text/plain": [
       "  TR_ID   Products Sale_price  Debit\n",
       "0   C23  Telephone        300      2\n",
       "1   C24   Monitors        435      2\n",
       "2   C25        Car        329      2\n",
       "3   C26       Rent        544      2\n",
       "4   C27   Services     thirty      2\n",
       "5   C28   Training        329      2"
      ]
     },
     "execution_count": 113,
     "metadata": {},
     "output_type": "execute_result"
    }
   ],
   "source": [
    "dict_df_db.dict_df_2"
   ]
  },
  {
   "cell_type": "code",
   "execution_count": 114,
   "id": "5b3c73c3",
   "metadata": {},
   "outputs": [
    {
     "data": {
      "application/vnd.microsoft.datawrangler.viewer.v0+json": {
       "columns": [
        {
         "name": "index",
         "rawType": "int64",
         "type": "integer"
        },
        {
         "name": "TR_ID",
         "rawType": "object",
         "type": "string"
        },
        {
         "name": "Product",
         "rawType": "object",
         "type": "string"
        },
        {
         "name": "Quantity",
         "rawType": "int64",
         "type": "integer"
        },
        {
         "name": "Purchase_price",
         "rawType": "int64",
         "type": "integer"
        },
        {
         "name": "Sale_price",
         "rawType": "int64",
         "type": "integer"
        }
       ],
       "ref": "5f822f4f-94ce-42d0-8836-075b25c214b3",
       "rows": [
        [
         "0",
         "C28",
         "Training",
         "13",
         "223",
         "329"
        ]
       ],
       "shape": {
        "columns": 5,
        "rows": 1
       }
      },
      "text/html": [
       "<div>\n",
       "<style scoped>\n",
       "    .dataframe tbody tr th:only-of-type {\n",
       "        vertical-align: middle;\n",
       "    }\n",
       "\n",
       "    .dataframe tbody tr th {\n",
       "        vertical-align: top;\n",
       "    }\n",
       "\n",
       "    .dataframe thead th {\n",
       "        text-align: right;\n",
       "    }\n",
       "</style>\n",
       "<table border=\"1\" class=\"dataframe\">\n",
       "  <thead>\n",
       "    <tr style=\"text-align: right;\">\n",
       "      <th></th>\n",
       "      <th>TR_ID</th>\n",
       "      <th>Product</th>\n",
       "      <th>Quantity</th>\n",
       "      <th>Purchase_price</th>\n",
       "      <th>Sale_price</th>\n",
       "    </tr>\n",
       "  </thead>\n",
       "  <tbody>\n",
       "    <tr>\n",
       "      <th>0</th>\n",
       "      <td>C28</td>\n",
       "      <td>Training</td>\n",
       "      <td>13</td>\n",
       "      <td>223</td>\n",
       "      <td>329</td>\n",
       "    </tr>\n",
       "  </tbody>\n",
       "</table>\n",
       "</div>"
      ],
      "text/plain": [
       "  TR_ID   Product  Quantity  Purchase_price  Sale_price\n",
       "0   C28  Training        13             223         329"
      ]
     },
     "execution_count": 114,
     "metadata": {},
     "output_type": "execute_result"
    }
   ],
   "source": [
    "dict_df_db.dict_df_3"
   ]
  },
  {
   "cell_type": "markdown",
   "id": "acc4f333",
   "metadata": {},
   "source": [
    "## b. Note that the databases and the corresponding column names with spelling differences. Correct this to have all column names without ‘s’\n"
   ]
  },
  {
   "cell_type": "code",
   "execution_count": 115,
   "id": "6dd304fe",
   "metadata": {},
   "outputs": [
    {
     "data": {
      "application/vnd.microsoft.datawrangler.viewer.v0+json": {
       "columns": [
        {
         "name": "index",
         "rawType": "int64",
         "type": "integer"
        },
        {
         "name": "TR_ID",
         "rawType": "object",
         "type": "string"
        },
        {
         "name": "Product",
         "rawType": "object",
         "type": "string"
        },
        {
         "name": "Quantity",
         "rawType": "object",
         "type": "unknown"
        },
        {
         "name": "Purchase_price",
         "rawType": "object",
         "type": "unknown"
        }
       ],
       "ref": "35ed991e-3b29-42c8-84ea-af1d288ddfa3",
       "rows": [
        [
         "0",
         "C23",
         "Telephone",
         "420",
         "223"
        ],
        [
         "1",
         "C24",
         "Monitors",
         "Ten",
         "344"
        ],
        [
         "2",
         "C25",
         "Car",
         "234",
         "223"
        ],
        [
         "3",
         "C26",
         "Rent",
         "114",
         "Tenn"
        ],
        [
         "4",
         "C27",
         "Services",
         "56",
         "Two"
        ],
        [
         "5",
         "C28",
         "Training",
         "13",
         "223"
        ]
       ],
       "shape": {
        "columns": 4,
        "rows": 6
       }
      },
      "text/html": [
       "<div>\n",
       "<style scoped>\n",
       "    .dataframe tbody tr th:only-of-type {\n",
       "        vertical-align: middle;\n",
       "    }\n",
       "\n",
       "    .dataframe tbody tr th {\n",
       "        vertical-align: top;\n",
       "    }\n",
       "\n",
       "    .dataframe thead th {\n",
       "        text-align: right;\n",
       "    }\n",
       "</style>\n",
       "<table border=\"1\" class=\"dataframe\">\n",
       "  <thead>\n",
       "    <tr style=\"text-align: right;\">\n",
       "      <th></th>\n",
       "      <th>TR_ID</th>\n",
       "      <th>Product</th>\n",
       "      <th>Quantity</th>\n",
       "      <th>Purchase_price</th>\n",
       "    </tr>\n",
       "  </thead>\n",
       "  <tbody>\n",
       "    <tr>\n",
       "      <th>0</th>\n",
       "      <td>C23</td>\n",
       "      <td>Telephone</td>\n",
       "      <td>420</td>\n",
       "      <td>223</td>\n",
       "    </tr>\n",
       "    <tr>\n",
       "      <th>1</th>\n",
       "      <td>C24</td>\n",
       "      <td>Monitors</td>\n",
       "      <td>Ten</td>\n",
       "      <td>344</td>\n",
       "    </tr>\n",
       "    <tr>\n",
       "      <th>2</th>\n",
       "      <td>C25</td>\n",
       "      <td>Car</td>\n",
       "      <td>234</td>\n",
       "      <td>223</td>\n",
       "    </tr>\n",
       "    <tr>\n",
       "      <th>3</th>\n",
       "      <td>C26</td>\n",
       "      <td>Rent</td>\n",
       "      <td>114</td>\n",
       "      <td>Tenn</td>\n",
       "    </tr>\n",
       "    <tr>\n",
       "      <th>4</th>\n",
       "      <td>C27</td>\n",
       "      <td>Services</td>\n",
       "      <td>56</td>\n",
       "      <td>Two</td>\n",
       "    </tr>\n",
       "    <tr>\n",
       "      <th>5</th>\n",
       "      <td>C28</td>\n",
       "      <td>Training</td>\n",
       "      <td>13</td>\n",
       "      <td>223</td>\n",
       "    </tr>\n",
       "  </tbody>\n",
       "</table>\n",
       "</div>"
      ],
      "text/plain": [
       "  TR_ID    Product Quantity Purchase_price\n",
       "0   C23  Telephone      420            223\n",
       "1   C24   Monitors      Ten            344\n",
       "2   C25        Car      234            223\n",
       "3   C26       Rent      114           Tenn\n",
       "4   C27   Services       56            Two\n",
       "5   C28   Training       13            223"
      ]
     },
     "execution_count": 115,
     "metadata": {},
     "output_type": "execute_result"
    }
   ],
   "source": [
    "dict_df_db.clean_headings()\n",
    "dict_df_db.dict_df_1"
   ]
  },
  {
   "cell_type": "markdown",
   "id": "742f22a6",
   "metadata": {},
   "source": [
    "## c. Combine the above three databases into one single dataframe called ‘dbase4’ in python using the appropriate method and libraries.\n"
   ]
  },
  {
   "cell_type": "code",
   "execution_count": 116,
   "id": "ebf65008",
   "metadata": {},
   "outputs": [
    {
     "data": {
      "application/vnd.microsoft.datawrangler.viewer.v0+json": {
       "columns": [
        {
         "name": "index",
         "rawType": "int64",
         "type": "integer"
        },
        {
         "name": "TR_ID",
         "rawType": "object",
         "type": "string"
        },
        {
         "name": "Product",
         "rawType": "object",
         "type": "string"
        },
        {
         "name": "Quantity",
         "rawType": "object",
         "type": "unknown"
        },
        {
         "name": "Purchase_price",
         "rawType": "object",
         "type": "unknown"
        },
        {
         "name": "Sale_price",
         "rawType": "object",
         "type": "unknown"
        },
        {
         "name": "Debit",
         "rawType": "int64",
         "type": "integer"
        }
       ],
       "ref": "3faead1f-8bf6-44b3-a452-64ddb72eae43",
       "rows": [
        [
         "0",
         "C23",
         "Telephone",
         "420",
         "223",
         "300",
         "2"
        ],
        [
         "1",
         "C24",
         "Monitors",
         "Ten",
         "344",
         "435",
         "2"
        ],
        [
         "2",
         "C25",
         "Car",
         "234",
         "223",
         "329",
         "2"
        ],
        [
         "3",
         "C26",
         "Rent",
         "114",
         "Tenn",
         "544",
         "2"
        ],
        [
         "4",
         "C27",
         "Services",
         "56",
         "Two",
         "thirty",
         "2"
        ],
        [
         "5",
         "C28",
         "Training",
         "13",
         "223",
         "329",
         "2"
        ]
       ],
       "shape": {
        "columns": 6,
        "rows": 6
       }
      },
      "text/html": [
       "<div>\n",
       "<style scoped>\n",
       "    .dataframe tbody tr th:only-of-type {\n",
       "        vertical-align: middle;\n",
       "    }\n",
       "\n",
       "    .dataframe tbody tr th {\n",
       "        vertical-align: top;\n",
       "    }\n",
       "\n",
       "    .dataframe thead th {\n",
       "        text-align: right;\n",
       "    }\n",
       "</style>\n",
       "<table border=\"1\" class=\"dataframe\">\n",
       "  <thead>\n",
       "    <tr style=\"text-align: right;\">\n",
       "      <th></th>\n",
       "      <th>TR_ID</th>\n",
       "      <th>Product</th>\n",
       "      <th>Quantity</th>\n",
       "      <th>Purchase_price</th>\n",
       "      <th>Sale_price</th>\n",
       "      <th>Debit</th>\n",
       "    </tr>\n",
       "  </thead>\n",
       "  <tbody>\n",
       "    <tr>\n",
       "      <th>0</th>\n",
       "      <td>C23</td>\n",
       "      <td>Telephone</td>\n",
       "      <td>420</td>\n",
       "      <td>223</td>\n",
       "      <td>300</td>\n",
       "      <td>2</td>\n",
       "    </tr>\n",
       "    <tr>\n",
       "      <th>1</th>\n",
       "      <td>C24</td>\n",
       "      <td>Monitors</td>\n",
       "      <td>Ten</td>\n",
       "      <td>344</td>\n",
       "      <td>435</td>\n",
       "      <td>2</td>\n",
       "    </tr>\n",
       "    <tr>\n",
       "      <th>2</th>\n",
       "      <td>C25</td>\n",
       "      <td>Car</td>\n",
       "      <td>234</td>\n",
       "      <td>223</td>\n",
       "      <td>329</td>\n",
       "      <td>2</td>\n",
       "    </tr>\n",
       "    <tr>\n",
       "      <th>3</th>\n",
       "      <td>C26</td>\n",
       "      <td>Rent</td>\n",
       "      <td>114</td>\n",
       "      <td>Tenn</td>\n",
       "      <td>544</td>\n",
       "      <td>2</td>\n",
       "    </tr>\n",
       "    <tr>\n",
       "      <th>4</th>\n",
       "      <td>C27</td>\n",
       "      <td>Services</td>\n",
       "      <td>56</td>\n",
       "      <td>Two</td>\n",
       "      <td>thirty</td>\n",
       "      <td>2</td>\n",
       "    </tr>\n",
       "    <tr>\n",
       "      <th>5</th>\n",
       "      <td>C28</td>\n",
       "      <td>Training</td>\n",
       "      <td>13</td>\n",
       "      <td>223</td>\n",
       "      <td>329</td>\n",
       "      <td>2</td>\n",
       "    </tr>\n",
       "  </tbody>\n",
       "</table>\n",
       "</div>"
      ],
      "text/plain": [
       "  TR_ID    Product Quantity Purchase_price Sale_price  Debit\n",
       "0   C23  Telephone      420            223        300      2\n",
       "1   C24   Monitors      Ten            344        435      2\n",
       "2   C25        Car      234            223        329      2\n",
       "3   C26       Rent      114           Tenn        544      2\n",
       "4   C27   Services       56            Two     thirty      2\n",
       "5   C28   Training       13            223        329      2"
      ]
     },
     "execution_count": 116,
     "metadata": {},
     "output_type": "execute_result"
    }
   ],
   "source": [
    "dict_df_db.join_dataframes('dbase4')\n",
    "dict_df_db.dbase4"
   ]
  },
  {
   "cell_type": "markdown",
   "id": "e17387ed",
   "metadata": {},
   "source": [
    "## d. Consider the character values as error, remove these errors and replace with column’s mean.\n"
   ]
  },
  {
   "cell_type": "code",
   "execution_count": 117,
   "id": "0e6737d4",
   "metadata": {},
   "outputs": [
    {
     "data": {
      "application/vnd.microsoft.datawrangler.viewer.v0+json": {
       "columns": [
        {
         "name": "index",
         "rawType": "int64",
         "type": "integer"
        },
        {
         "name": "TR_ID",
         "rawType": "object",
         "type": "string"
        },
        {
         "name": "Product",
         "rawType": "object",
         "type": "string"
        },
        {
         "name": "Quantity",
         "rawType": "int64",
         "type": "integer"
        },
        {
         "name": "Purchase_price",
         "rawType": "int64",
         "type": "integer"
        },
        {
         "name": "Sale_price",
         "rawType": "int64",
         "type": "integer"
        },
        {
         "name": "Debit",
         "rawType": "int64",
         "type": "integer"
        }
       ],
       "ref": "186b016a-a7ad-4466-a070-93d814caa8ab",
       "rows": [
        [
         "0",
         "C23",
         "Telephone",
         "420",
         "223",
         "300",
         "2"
        ],
        [
         "1",
         "C24",
         "Monitors",
         "140",
         "344",
         "435",
         "2"
        ],
        [
         "2",
         "C25",
         "Car",
         "234",
         "223",
         "329",
         "2"
        ],
        [
         "3",
         "C26",
         "Rent",
         "114",
         "169",
         "544",
         "2"
        ],
        [
         "4",
         "C27",
         "Services",
         "56",
         "169",
         "323",
         "2"
        ],
        [
         "5",
         "C28",
         "Training",
         "13",
         "223",
         "329",
         "2"
        ]
       ],
       "shape": {
        "columns": 6,
        "rows": 6
       }
      },
      "text/html": [
       "<div>\n",
       "<style scoped>\n",
       "    .dataframe tbody tr th:only-of-type {\n",
       "        vertical-align: middle;\n",
       "    }\n",
       "\n",
       "    .dataframe tbody tr th {\n",
       "        vertical-align: top;\n",
       "    }\n",
       "\n",
       "    .dataframe thead th {\n",
       "        text-align: right;\n",
       "    }\n",
       "</style>\n",
       "<table border=\"1\" class=\"dataframe\">\n",
       "  <thead>\n",
       "    <tr style=\"text-align: right;\">\n",
       "      <th></th>\n",
       "      <th>TR_ID</th>\n",
       "      <th>Product</th>\n",
       "      <th>Quantity</th>\n",
       "      <th>Purchase_price</th>\n",
       "      <th>Sale_price</th>\n",
       "      <th>Debit</th>\n",
       "    </tr>\n",
       "  </thead>\n",
       "  <tbody>\n",
       "    <tr>\n",
       "      <th>0</th>\n",
       "      <td>C23</td>\n",
       "      <td>Telephone</td>\n",
       "      <td>420</td>\n",
       "      <td>223</td>\n",
       "      <td>300</td>\n",
       "      <td>2</td>\n",
       "    </tr>\n",
       "    <tr>\n",
       "      <th>1</th>\n",
       "      <td>C24</td>\n",
       "      <td>Monitors</td>\n",
       "      <td>140</td>\n",
       "      <td>344</td>\n",
       "      <td>435</td>\n",
       "      <td>2</td>\n",
       "    </tr>\n",
       "    <tr>\n",
       "      <th>2</th>\n",
       "      <td>C25</td>\n",
       "      <td>Car</td>\n",
       "      <td>234</td>\n",
       "      <td>223</td>\n",
       "      <td>329</td>\n",
       "      <td>2</td>\n",
       "    </tr>\n",
       "    <tr>\n",
       "      <th>3</th>\n",
       "      <td>C26</td>\n",
       "      <td>Rent</td>\n",
       "      <td>114</td>\n",
       "      <td>169</td>\n",
       "      <td>544</td>\n",
       "      <td>2</td>\n",
       "    </tr>\n",
       "    <tr>\n",
       "      <th>4</th>\n",
       "      <td>C27</td>\n",
       "      <td>Services</td>\n",
       "      <td>56</td>\n",
       "      <td>169</td>\n",
       "      <td>323</td>\n",
       "      <td>2</td>\n",
       "    </tr>\n",
       "    <tr>\n",
       "      <th>5</th>\n",
       "      <td>C28</td>\n",
       "      <td>Training</td>\n",
       "      <td>13</td>\n",
       "      <td>223</td>\n",
       "      <td>329</td>\n",
       "      <td>2</td>\n",
       "    </tr>\n",
       "  </tbody>\n",
       "</table>\n",
       "</div>"
      ],
      "text/plain": [
       "  TR_ID    Product  Quantity  Purchase_price  Sale_price  Debit\n",
       "0   C23  Telephone       420             223         300      2\n",
       "1   C24   Monitors       140             344         435      2\n",
       "2   C25        Car       234             223         329      2\n",
       "3   C26       Rent       114             169         544      2\n",
       "4   C27   Services        56             169         323      2\n",
       "5   C28   Training        13             223         329      2"
      ]
     },
     "execution_count": 117,
     "metadata": {},
     "output_type": "execute_result"
    }
   ],
   "source": [
    "dict_df_db.clean_number(\n",
    "    dict_df_db.dbase4,\n",
    "    ['Quantity', 'Purchase_price', 'Sale_price'],\n",
    ")\n",
    "dict_df_db.dbase4"
   ]
  },
  {
   "cell_type": "markdown",
   "id": "91c33176",
   "metadata": {},
   "source": [
    "## e. Delete the variable ‘Debit’ as not needed then add a column called‘Department’ and assign values from product column: Telphone, monitor -> IT, Car -> transport Rent, Services-> Consultancy Training -> Education\n"
   ]
  },
  {
   "cell_type": "code",
   "execution_count": 118,
   "id": "f1c6c594",
   "metadata": {},
   "outputs": [
    {
     "data": {
      "application/vnd.microsoft.datawrangler.viewer.v0+json": {
       "columns": [
        {
         "name": "index",
         "rawType": "int64",
         "type": "integer"
        },
        {
         "name": "TR_ID",
         "rawType": "object",
         "type": "string"
        },
        {
         "name": "Product",
         "rawType": "object",
         "type": "string"
        },
        {
         "name": "Quantity",
         "rawType": "int64",
         "type": "integer"
        },
        {
         "name": "Purchase_price",
         "rawType": "int64",
         "type": "integer"
        },
        {
         "name": "Sale_price",
         "rawType": "int64",
         "type": "integer"
        }
       ],
       "ref": "640756fc-3272-41bf-a1d9-aca0ff24b5f9",
       "rows": [
        [
         "0",
         "C23",
         "Telephone",
         "420",
         "223",
         "300"
        ],
        [
         "1",
         "C24",
         "Monitors",
         "140",
         "344",
         "435"
        ],
        [
         "2",
         "C25",
         "Car",
         "234",
         "223",
         "329"
        ],
        [
         "3",
         "C26",
         "Rent",
         "114",
         "169",
         "544"
        ],
        [
         "4",
         "C27",
         "Services",
         "56",
         "169",
         "323"
        ],
        [
         "5",
         "C28",
         "Training",
         "13",
         "223",
         "329"
        ]
       ],
       "shape": {
        "columns": 5,
        "rows": 6
       }
      },
      "text/html": [
       "<div>\n",
       "<style scoped>\n",
       "    .dataframe tbody tr th:only-of-type {\n",
       "        vertical-align: middle;\n",
       "    }\n",
       "\n",
       "    .dataframe tbody tr th {\n",
       "        vertical-align: top;\n",
       "    }\n",
       "\n",
       "    .dataframe thead th {\n",
       "        text-align: right;\n",
       "    }\n",
       "</style>\n",
       "<table border=\"1\" class=\"dataframe\">\n",
       "  <thead>\n",
       "    <tr style=\"text-align: right;\">\n",
       "      <th></th>\n",
       "      <th>TR_ID</th>\n",
       "      <th>Product</th>\n",
       "      <th>Quantity</th>\n",
       "      <th>Purchase_price</th>\n",
       "      <th>Sale_price</th>\n",
       "    </tr>\n",
       "  </thead>\n",
       "  <tbody>\n",
       "    <tr>\n",
       "      <th>0</th>\n",
       "      <td>C23</td>\n",
       "      <td>Telephone</td>\n",
       "      <td>420</td>\n",
       "      <td>223</td>\n",
       "      <td>300</td>\n",
       "    </tr>\n",
       "    <tr>\n",
       "      <th>1</th>\n",
       "      <td>C24</td>\n",
       "      <td>Monitors</td>\n",
       "      <td>140</td>\n",
       "      <td>344</td>\n",
       "      <td>435</td>\n",
       "    </tr>\n",
       "    <tr>\n",
       "      <th>2</th>\n",
       "      <td>C25</td>\n",
       "      <td>Car</td>\n",
       "      <td>234</td>\n",
       "      <td>223</td>\n",
       "      <td>329</td>\n",
       "    </tr>\n",
       "    <tr>\n",
       "      <th>3</th>\n",
       "      <td>C26</td>\n",
       "      <td>Rent</td>\n",
       "      <td>114</td>\n",
       "      <td>169</td>\n",
       "      <td>544</td>\n",
       "    </tr>\n",
       "    <tr>\n",
       "      <th>4</th>\n",
       "      <td>C27</td>\n",
       "      <td>Services</td>\n",
       "      <td>56</td>\n",
       "      <td>169</td>\n",
       "      <td>323</td>\n",
       "    </tr>\n",
       "    <tr>\n",
       "      <th>5</th>\n",
       "      <td>C28</td>\n",
       "      <td>Training</td>\n",
       "      <td>13</td>\n",
       "      <td>223</td>\n",
       "      <td>329</td>\n",
       "    </tr>\n",
       "  </tbody>\n",
       "</table>\n",
       "</div>"
      ],
      "text/plain": [
       "  TR_ID    Product  Quantity  Purchase_price  Sale_price\n",
       "0   C23  Telephone       420             223         300\n",
       "1   C24   Monitors       140             344         435\n",
       "2   C25        Car       234             223         329\n",
       "3   C26       Rent       114             169         544\n",
       "4   C27   Services        56             169         323\n",
       "5   C28   Training        13             223         329"
      ]
     },
     "execution_count": 118,
     "metadata": {},
     "output_type": "execute_result"
    }
   ],
   "source": [
    "dict_df_db.delete_col(dict_df_db.dbase4, 'Debit')\n",
    "dict_df_db.dbase4"
   ]
  },
  {
   "cell_type": "code",
   "execution_count": 119,
   "id": "c5ce753c",
   "metadata": {},
   "outputs": [
    {
     "data": {
      "application/vnd.microsoft.datawrangler.viewer.v0+json": {
       "columns": [
        {
         "name": "index",
         "rawType": "int64",
         "type": "integer"
        },
        {
         "name": "TR_ID",
         "rawType": "object",
         "type": "string"
        },
        {
         "name": "Product",
         "rawType": "object",
         "type": "string"
        },
        {
         "name": "Quantity",
         "rawType": "int64",
         "type": "integer"
        },
        {
         "name": "Purchase_price",
         "rawType": "int64",
         "type": "integer"
        },
        {
         "name": "Sale_price",
         "rawType": "int64",
         "type": "integer"
        },
        {
         "name": "Department",
         "rawType": "object",
         "type": "string"
        }
       ],
       "ref": "fd85dd39-8eef-47e9-8af9-21259c0c93a1",
       "rows": [
        [
         "0",
         "C23",
         "Telephone",
         "420",
         "223",
         "300",
         "IT"
        ],
        [
         "1",
         "C24",
         "Monitors",
         "140",
         "344",
         "435",
         "IT"
        ],
        [
         "2",
         "C25",
         "Car",
         "234",
         "223",
         "329",
         "Transport"
        ],
        [
         "3",
         "C26",
         "Rent",
         "114",
         "169",
         "544",
         "Consultancy"
        ],
        [
         "4",
         "C27",
         "Services",
         "56",
         "169",
         "323",
         "Consultancy"
        ],
        [
         "5",
         "C28",
         "Training",
         "13",
         "223",
         "329",
         "Education"
        ]
       ],
       "shape": {
        "columns": 6,
        "rows": 6
       }
      },
      "text/html": [
       "<div>\n",
       "<style scoped>\n",
       "    .dataframe tbody tr th:only-of-type {\n",
       "        vertical-align: middle;\n",
       "    }\n",
       "\n",
       "    .dataframe tbody tr th {\n",
       "        vertical-align: top;\n",
       "    }\n",
       "\n",
       "    .dataframe thead th {\n",
       "        text-align: right;\n",
       "    }\n",
       "</style>\n",
       "<table border=\"1\" class=\"dataframe\">\n",
       "  <thead>\n",
       "    <tr style=\"text-align: right;\">\n",
       "      <th></th>\n",
       "      <th>TR_ID</th>\n",
       "      <th>Product</th>\n",
       "      <th>Quantity</th>\n",
       "      <th>Purchase_price</th>\n",
       "      <th>Sale_price</th>\n",
       "      <th>Department</th>\n",
       "    </tr>\n",
       "  </thead>\n",
       "  <tbody>\n",
       "    <tr>\n",
       "      <th>0</th>\n",
       "      <td>C23</td>\n",
       "      <td>Telephone</td>\n",
       "      <td>420</td>\n",
       "      <td>223</td>\n",
       "      <td>300</td>\n",
       "      <td>IT</td>\n",
       "    </tr>\n",
       "    <tr>\n",
       "      <th>1</th>\n",
       "      <td>C24</td>\n",
       "      <td>Monitors</td>\n",
       "      <td>140</td>\n",
       "      <td>344</td>\n",
       "      <td>435</td>\n",
       "      <td>IT</td>\n",
       "    </tr>\n",
       "    <tr>\n",
       "      <th>2</th>\n",
       "      <td>C25</td>\n",
       "      <td>Car</td>\n",
       "      <td>234</td>\n",
       "      <td>223</td>\n",
       "      <td>329</td>\n",
       "      <td>Transport</td>\n",
       "    </tr>\n",
       "    <tr>\n",
       "      <th>3</th>\n",
       "      <td>C26</td>\n",
       "      <td>Rent</td>\n",
       "      <td>114</td>\n",
       "      <td>169</td>\n",
       "      <td>544</td>\n",
       "      <td>Consultancy</td>\n",
       "    </tr>\n",
       "    <tr>\n",
       "      <th>4</th>\n",
       "      <td>C27</td>\n",
       "      <td>Services</td>\n",
       "      <td>56</td>\n",
       "      <td>169</td>\n",
       "      <td>323</td>\n",
       "      <td>Consultancy</td>\n",
       "    </tr>\n",
       "    <tr>\n",
       "      <th>5</th>\n",
       "      <td>C28</td>\n",
       "      <td>Training</td>\n",
       "      <td>13</td>\n",
       "      <td>223</td>\n",
       "      <td>329</td>\n",
       "      <td>Education</td>\n",
       "    </tr>\n",
       "  </tbody>\n",
       "</table>\n",
       "</div>"
      ],
      "text/plain": [
       "  TR_ID    Product  Quantity  Purchase_price  Sale_price   Department\n",
       "0   C23  Telephone       420             223         300           IT\n",
       "1   C24   Monitors       140             344         435           IT\n",
       "2   C25        Car       234             223         329    Transport\n",
       "3   C26       Rent       114             169         544  Consultancy\n",
       "4   C27   Services        56             169         323  Consultancy\n",
       "5   C28   Training        13             223         329    Education"
      ]
     },
     "execution_count": 119,
     "metadata": {},
     "output_type": "execute_result"
    }
   ],
   "source": [
    "dict_df_db.add_col(dict_df_db.dbase4, 'Department')\n",
    "dict_df_db.dbase4"
   ]
  },
  {
   "cell_type": "markdown",
   "id": "89a8b1c3",
   "metadata": {},
   "source": [
    "## f. Visualise the data by creating the plot: product by sale and purchase prices on the same plot.\n"
   ]
  },
  {
   "cell_type": "code",
   "execution_count": 120,
   "id": "e5e503b7",
   "metadata": {},
   "outputs": [
    {
     "data": {
      "text/plain": [
       "<Axes: xlabel='Purchase_price', ylabel='Sale_price'>"
      ]
     },
     "execution_count": 120,
     "metadata": {},
     "output_type": "execute_result"
    },
    {
     "data": {
      "image/png": "[encoded data removed]",
      "text/plain": [
       "<Figure size 640x480 with 1 Axes>"
      ]
     },
     "metadata": {},
     "output_type": "display_data"
    }
   ],
   "source": [
    "sns.scatterplot(data=dict_df_db.dbase4, x='Purchase_price', y='Sale_price')"
   ]
  },
  {
   "cell_type": "markdown",
   "id": "c04de40e",
   "metadata": {},
   "source": [
    "## g. After creating the single dataframe: Using DataFrame and Class or other method with the above corrected values: Calculate:\n",
    "\n",
    "Revenue = Quantity*Sale_price\n",
    "Cost= quantity*purchase_price\n",
    "Note if revenue > $55000 then a cashback of 5% is given so revenue is less by the 5% amount\n",
    "If revenue > $35000 and <= $550000 then cashback of %2 is given and revenue less the 2% amount But If revenue <=35000 then cashback of 1% amount is given\n",
    "The calculated total cost and total revenue Profit= total revenue – total cost. Report the TR_ID, product name, total revenue , total cost and profit.Check if final profit> 0 then print a message. If final profit = 0 then print a message If final profit < 0 then print a message\n"
   ]
  },
  {
   "cell_type": "code",
   "execution_count": 121,
   "id": "e904ffaf",
   "metadata": {},
   "outputs": [
    {
     "data": {
      "text/html": [
       "<style type=\"text/css\">\n",
       "</style>\n",
       "<table id=\"T_9fb6a\">\n",
       "  <thead>\n",
       "    <tr>\n",
       "      <th class=\"blank level0\" >&nbsp;</th>\n",
       "      <th id=\"T_9fb6a_level0_col0\" class=\"col_heading level0 col0\" >TR_ID</th>\n",
       "      <th id=\"T_9fb6a_level0_col1\" class=\"col_heading level0 col1\" >Product</th>\n",
       "      <th id=\"T_9fb6a_level0_col2\" class=\"col_heading level0 col2\" >Revenue</th>\n",
       "      <th id=\"T_9fb6a_level0_col3\" class=\"col_heading level0 col3\" >Cost</th>\n",
       "      <th id=\"T_9fb6a_level0_col4\" class=\"col_heading level0 col4\" >Profit</th>\n",
       "    </tr>\n",
       "  </thead>\n",
       "  <tbody>\n",
       "    <tr>\n",
       "      <th id=\"T_9fb6a_level0_row0\" class=\"row_heading level0 row0\" >0</th>\n",
       "      <td id=\"T_9fb6a_row0_col0\" class=\"data row0 col0\" >C23</td>\n",
       "      <td id=\"T_9fb6a_row0_col1\" class=\"data row0 col1\" >Telephone</td>\n",
       "      <td id=\"T_9fb6a_row0_col2\" class=\"data row0 col2\" >119700.00</td>\n",
       "      <td id=\"T_9fb6a_row0_col3\" class=\"data row0 col3\" >93660</td>\n",
       "      <td id=\"T_9fb6a_row0_col4\" class=\"data row0 col4\" >26040.00</td>\n",
       "    </tr>\n",
       "    <tr>\n",
       "      <th id=\"T_9fb6a_level0_row1\" class=\"row_heading level0 row1\" >1</th>\n",
       "      <td id=\"T_9fb6a_row1_col0\" class=\"data row1 col0\" >C24</td>\n",
       "      <td id=\"T_9fb6a_row1_col1\" class=\"data row1 col1\" >Monitors</td>\n",
       "      <td id=\"T_9fb6a_row1_col2\" class=\"data row1 col2\" >57855.00</td>\n",
       "      <td id=\"T_9fb6a_row1_col3\" class=\"data row1 col3\" >48160</td>\n",
       "      <td id=\"T_9fb6a_row1_col4\" class=\"data row1 col4\" >9695.00</td>\n",
       "    </tr>\n",
       "    <tr>\n",
       "      <th id=\"T_9fb6a_level0_row2\" class=\"row_heading level0 row2\" >2</th>\n",
       "      <td id=\"T_9fb6a_row2_col0\" class=\"data row2 col0\" >C25</td>\n",
       "      <td id=\"T_9fb6a_row2_col1\" class=\"data row2 col1\" >Car</td>\n",
       "      <td id=\"T_9fb6a_row2_col2\" class=\"data row2 col2\" >73136.70</td>\n",
       "      <td id=\"T_9fb6a_row2_col3\" class=\"data row2 col3\" >52182</td>\n",
       "      <td id=\"T_9fb6a_row2_col4\" class=\"data row2 col4\" >20954.70</td>\n",
       "    </tr>\n",
       "    <tr>\n",
       "      <th id=\"T_9fb6a_level0_row3\" class=\"row_heading level0 row3\" >3</th>\n",
       "      <td id=\"T_9fb6a_row3_col0\" class=\"data row3 col0\" >C26</td>\n",
       "      <td id=\"T_9fb6a_row3_col1\" class=\"data row3 col1\" >Rent</td>\n",
       "      <td id=\"T_9fb6a_row3_col2\" class=\"data row3 col2\" >58915.20</td>\n",
       "      <td id=\"T_9fb6a_row3_col3\" class=\"data row3 col3\" >19266</td>\n",
       "      <td id=\"T_9fb6a_row3_col4\" class=\"data row3 col4\" >39649.20</td>\n",
       "    </tr>\n",
       "    <tr>\n",
       "      <th id=\"T_9fb6a_level0_row4\" class=\"row_heading level0 row4\" >4</th>\n",
       "      <td id=\"T_9fb6a_row4_col0\" class=\"data row4 col0\" >C27</td>\n",
       "      <td id=\"T_9fb6a_row4_col1\" class=\"data row4 col1\" >Services</td>\n",
       "      <td id=\"T_9fb6a_row4_col2\" class=\"data row4 col2\" >17907.12</td>\n",
       "      <td id=\"T_9fb6a_row4_col3\" class=\"data row4 col3\" >9464</td>\n",
       "      <td id=\"T_9fb6a_row4_col4\" class=\"data row4 col4\" >8443.12</td>\n",
       "    </tr>\n",
       "    <tr>\n",
       "      <th id=\"T_9fb6a_level0_row5\" class=\"row_heading level0 row5\" >5</th>\n",
       "      <td id=\"T_9fb6a_row5_col0\" class=\"data row5 col0\" >C28</td>\n",
       "      <td id=\"T_9fb6a_row5_col1\" class=\"data row5 col1\" >Training</td>\n",
       "      <td id=\"T_9fb6a_row5_col2\" class=\"data row5 col2\" >4234.23</td>\n",
       "      <td id=\"T_9fb6a_row5_col3\" class=\"data row5 col3\" >2899</td>\n",
       "      <td id=\"T_9fb6a_row5_col4\" class=\"data row5 col4\" >1335.23</td>\n",
       "    </tr>\n",
       "  </tbody>\n",
       "</table>\n"
      ],
      "text/plain": [
       "<pandas.io.formats.style.Styler at 0x1f4cc5b5e50>"
      ]
     },
     "execution_count": 121,
     "metadata": {},
     "output_type": "execute_result"
    }
   ],
   "source": [
    "dbase4_finances = dict_df_db.create_finance_frame(dict_df_db.dbase4)\n",
    "dbase4_finances.style.format({'Revenue': '{:.2f}', 'Profit': '{:.2f}'})"
   ]
  },
  {
   "cell_type": "code",
   "execution_count": 122,
   "id": "a8c65a76",
   "metadata": {},
   "outputs": [
    {
     "data": {
      "text/html": [
       "<style type=\"text/css\">\n",
       "</style>\n",
       "<table id=\"T_55c4d\">\n",
       "  <thead>\n",
       "    <tr>\n",
       "      <th class=\"blank level0\" >&nbsp;</th>\n",
       "      <th id=\"T_55c4d_level0_col0\" class=\"col_heading level0 col0\" >TR_ID</th>\n",
       "      <th id=\"T_55c4d_level0_col1\" class=\"col_heading level0 col1\" >Product</th>\n",
       "      <th id=\"T_55c4d_level0_col2\" class=\"col_heading level0 col2\" >Revenue</th>\n",
       "      <th id=\"T_55c4d_level0_col3\" class=\"col_heading level0 col3\" >Cost</th>\n",
       "      <th id=\"T_55c4d_level0_col4\" class=\"col_heading level0 col4\" >Profit</th>\n",
       "    </tr>\n",
       "  </thead>\n",
       "  <tbody>\n",
       "    <tr>\n",
       "      <th id=\"T_55c4d_level0_row0\" class=\"row_heading level0 row0\" >0</th>\n",
       "      <td id=\"T_55c4d_row0_col0\" class=\"data row0 col0\" >C23</td>\n",
       "      <td id=\"T_55c4d_row0_col1\" class=\"data row0 col1\" >Telephone</td>\n",
       "      <td id=\"T_55c4d_row0_col2\" class=\"data row0 col2\" >119700.00</td>\n",
       "      <td id=\"T_55c4d_row0_col3\" class=\"data row0 col3\" >93660.00</td>\n",
       "      <td id=\"T_55c4d_row0_col4\" class=\"data row0 col4\" >26040.00</td>\n",
       "    </tr>\n",
       "    <tr>\n",
       "      <th id=\"T_55c4d_level0_row1\" class=\"row_heading level0 row1\" >1</th>\n",
       "      <td id=\"T_55c4d_row1_col0\" class=\"data row1 col0\" >C24</td>\n",
       "      <td id=\"T_55c4d_row1_col1\" class=\"data row1 col1\" >Monitors</td>\n",
       "      <td id=\"T_55c4d_row1_col2\" class=\"data row1 col2\" >57855.00</td>\n",
       "      <td id=\"T_55c4d_row1_col3\" class=\"data row1 col3\" >48160.00</td>\n",
       "      <td id=\"T_55c4d_row1_col4\" class=\"data row1 col4\" >9695.00</td>\n",
       "    </tr>\n",
       "    <tr>\n",
       "      <th id=\"T_55c4d_level0_row2\" class=\"row_heading level0 row2\" >2</th>\n",
       "      <td id=\"T_55c4d_row2_col0\" class=\"data row2 col0\" >C25</td>\n",
       "      <td id=\"T_55c4d_row2_col1\" class=\"data row2 col1\" >Car</td>\n",
       "      <td id=\"T_55c4d_row2_col2\" class=\"data row2 col2\" >73136.70</td>\n",
       "      <td id=\"T_55c4d_row2_col3\" class=\"data row2 col3\" >52182.00</td>\n",
       "      <td id=\"T_55c4d_row2_col4\" class=\"data row2 col4\" >20954.70</td>\n",
       "    </tr>\n",
       "    <tr>\n",
       "      <th id=\"T_55c4d_level0_row3\" class=\"row_heading level0 row3\" >3</th>\n",
       "      <td id=\"T_55c4d_row3_col0\" class=\"data row3 col0\" >C26</td>\n",
       "      <td id=\"T_55c4d_row3_col1\" class=\"data row3 col1\" >Rent</td>\n",
       "      <td id=\"T_55c4d_row3_col2\" class=\"data row3 col2\" >58915.20</td>\n",
       "      <td id=\"T_55c4d_row3_col3\" class=\"data row3 col3\" >19266.00</td>\n",
       "      <td id=\"T_55c4d_row3_col4\" class=\"data row3 col4\" >39649.20</td>\n",
       "    </tr>\n",
       "    <tr>\n",
       "      <th id=\"T_55c4d_level0_row4\" class=\"row_heading level0 row4\" >4</th>\n",
       "      <td id=\"T_55c4d_row4_col0\" class=\"data row4 col0\" >C27</td>\n",
       "      <td id=\"T_55c4d_row4_col1\" class=\"data row4 col1\" >Services</td>\n",
       "      <td id=\"T_55c4d_row4_col2\" class=\"data row4 col2\" >17907.12</td>\n",
       "      <td id=\"T_55c4d_row4_col3\" class=\"data row4 col3\" >9464.00</td>\n",
       "      <td id=\"T_55c4d_row4_col4\" class=\"data row4 col4\" >8443.12</td>\n",
       "    </tr>\n",
       "    <tr>\n",
       "      <th id=\"T_55c4d_level0_row5\" class=\"row_heading level0 row5\" >5</th>\n",
       "      <td id=\"T_55c4d_row5_col0\" class=\"data row5 col0\" >C28</td>\n",
       "      <td id=\"T_55c4d_row5_col1\" class=\"data row5 col1\" >Training</td>\n",
       "      <td id=\"T_55c4d_row5_col2\" class=\"data row5 col2\" >4234.23</td>\n",
       "      <td id=\"T_55c4d_row5_col3\" class=\"data row5 col3\" >2899.00</td>\n",
       "      <td id=\"T_55c4d_row5_col4\" class=\"data row5 col4\" >1335.23</td>\n",
       "    </tr>\n",
       "    <tr>\n",
       "      <th id=\"T_55c4d_level0_row6\" class=\"row_heading level0 row6\" >6</th>\n",
       "      <td id=\"T_55c4d_row6_col0\" class=\"data row6 col0\" >Total</td>\n",
       "      <td id=\"T_55c4d_row6_col1\" class=\"data row6 col1\" >-----</td>\n",
       "      <td id=\"T_55c4d_row6_col2\" class=\"data row6 col2\" >331748.25</td>\n",
       "      <td id=\"T_55c4d_row6_col3\" class=\"data row6 col3\" >225631.00</td>\n",
       "      <td id=\"T_55c4d_row6_col4\" class=\"data row6 col4\" >106117.25</td>\n",
       "    </tr>\n",
       "  </tbody>\n",
       "</table>\n"
      ],
      "text/plain": [
       "<pandas.io.formats.style.Styler at 0x1f4cc4451d0>"
      ]
     },
     "execution_count": 122,
     "metadata": {},
     "output_type": "execute_result"
    }
   ],
   "source": [
    "totals_dict = dict_df_db.calculate_total(dbase4_finances)\n",
    "totals_dict.style.format(\n",
    "    {'Revenue': '{:.2f}', 'Cost': '{:.2f}', 'Profit': '{:.2f}'},\n",
    ")"
   ]
  },
  {
   "cell_type": "code",
   "execution_count": 123,
   "id": "9d0598fc",
   "metadata": {},
   "outputs": [
    {
     "name": "stdout",
     "output_type": "stream",
     "text": [
      "\u001b[32mThe business is on it's way to success!\u001b[0m\n"
     ]
    }
   ],
   "source": [
    "dict_df_db.evaluation_message(totals_dict['Profit'].iloc[-1])"
   ]
  },
  {
   "cell_type": "markdown",
   "id": "cadf10be",
   "metadata": {},
   "source": [
    "# Question 2. Stock Transaction Program"
   ]
  },
  {
   "cell_type": "markdown",
   "id": "173b056b",
   "metadata": {},
   "source": [
    "Tom purchased some stock in DBS Software.\n",
    "\n",
    "Here are the details:\n",
    "\n",
    "1. The number of shares that Tom purchased was 5,000\n",
    "2. When Tom purchased the stock, he paid €40.0 per share.\n",
    "3. Tom paid his stockbroker a commission that amounted to 3% of the amount he paid for the stock.\n",
    "\n",
    "Two weeks later, Tom sold the stock. Here are the details:\n",
    "\n",
    "1. The number of shares that Tom sold was 2,000\n",
    "2. When Tom sold the stock , he sold for €42.75 per share.\n",
    "3. Tom paid his stockbroker another commission that amounted to 3% of the amount he received for the stock.\n",
    "\n",
    "Write a program that displays the following information.\n",
    "\n",
    "1. The amount of money Tom paid for the stock\n",
    "2. The amount of commission Tom paid his broker when he bought the stock.\n",
    "3. The amount for which Tom sold the stock\n",
    "4. The amount of commission Tom paid his broker when he sold the stock.\n",
    "5. Display the amount of money that Tom had left when he sold the stock and paid his broker(both times). If this amount is positive, then Tom made a profit. If the amount is negative, then Tom lost money."
   ]
  },
  {
   "cell_type": "code",
   "execution_count": 134,
   "id": "5eee9c00",
   "metadata": {},
   "outputs": [],
   "source": [
    "class StockCalculator:\n",
    "    def __init__(self, stock: dict[str, int | float]) -> None:\n",
    "        for key, value in stock.items():\n",
    "            setattr(self, key, value)\n",
    "\n",
    "    def calculate_purchase_cost(self) -> float:\n",
    "        return self.buy_shares * self.buy_price\n",
    "\n",
    "    def calculate_commission(self, cost: float) -> float:\n",
    "        return cost * self.commission_percent / 100\n",
    "\n",
    "    def calculate_sale_total(self) -> float:\n",
    "        return self.sell_shares * self.sell_price\n",
    "\n",
    "    def calculate_into_frame(self) -> DataFrame:\n",
    "        purchase_cost = self.calculate_purchase_cost()\n",
    "        purchase_commission = self.calculate_commission(purchase_cost)\n",
    "        sale_total = self.calculate_sale_total()\n",
    "        sale_commission = self.calculate_commission(sale_total)\n",
    "\n",
    "        total_money = sale_total - purchase_commission - sale_commission\n",
    "        net_profit = total_money - purchase_cost\n",
    "\n",
    "        stat_dict = {\n",
    "            'Purchase Cost': [purchase_cost],\n",
    "            'Purchase Commission': [purchase_commission],\n",
    "            'Sale Total': [sale_total],\n",
    "            'Sale Commission': [sale_commission],\n",
    "            'Total Money': [total_money],\n",
    "            'Net Profit': [net_profit]\n",
    "        }\n",
    "\n",
    "        return DataFrame(stat_dict)"
   ]
  },
  {
   "cell_type": "code",
   "execution_count": 135,
   "id": "8dc22379",
   "metadata": {},
   "outputs": [],
   "source": [
    "toms_trade = {\n",
    "    'buy_shares': 5000,\n",
    "    'sell_shares': 2000,\n",
    "    'buy_price': 40.0,\n",
    "    'sell_price': 42.75,\n",
    "    'commission_percent': 3,\n",
    "}\n",
    "\n",
    "toms_calculator = StockCalculator(toms_trade)\n"
   ]
  },
  {
   "cell_type": "code",
   "execution_count": 136,
   "id": "96aee672",
   "metadata": {},
   "outputs": [
    {
     "data": {
      "text/html": [
       "<style type=\"text/css\">\n",
       "</style>\n",
       "<table id=\"T_72632\">\n",
       "  <thead>\n",
       "    <tr>\n",
       "      <th class=\"blank level0\" >&nbsp;</th>\n",
       "      <th id=\"T_72632_level0_col0\" class=\"col_heading level0 col0\" >Purchase Cost</th>\n",
       "      <th id=\"T_72632_level0_col1\" class=\"col_heading level0 col1\" >Purchase Commission</th>\n",
       "      <th id=\"T_72632_level0_col2\" class=\"col_heading level0 col2\" >Sale Total</th>\n",
       "      <th id=\"T_72632_level0_col3\" class=\"col_heading level0 col3\" >Sale Commission</th>\n",
       "      <th id=\"T_72632_level0_col4\" class=\"col_heading level0 col4\" >Total Money</th>\n",
       "      <th id=\"T_72632_level0_col5\" class=\"col_heading level0 col5\" >Net Profit</th>\n",
       "    </tr>\n",
       "  </thead>\n",
       "  <tbody>\n",
       "    <tr>\n",
       "      <th id=\"T_72632_level0_row0\" class=\"row_heading level0 row0\" >0</th>\n",
       "      <td id=\"T_72632_row0_col0\" class=\"data row0 col0\" >200000.00</td>\n",
       "      <td id=\"T_72632_row0_col1\" class=\"data row0 col1\" >6000.00</td>\n",
       "      <td id=\"T_72632_row0_col2\" class=\"data row0 col2\" >85500.00</td>\n",
       "      <td id=\"T_72632_row0_col3\" class=\"data row0 col3\" >2565.00</td>\n",
       "      <td id=\"T_72632_row0_col4\" class=\"data row0 col4\" >76935.00</td>\n",
       "      <td id=\"T_72632_row0_col5\" class=\"data row0 col5\" >-123065.00</td>\n",
       "    </tr>\n",
       "  </tbody>\n",
       "</table>\n"
      ],
      "text/plain": [
       "<pandas.io.formats.style.Styler at 0x1f4cc447890>"
      ]
     },
     "execution_count": 136,
     "metadata": {},
     "output_type": "execute_result"
    }
   ],
   "source": [
    "stat_frame = toms_calculator.calculate_into_frame()\n",
    "stat_frame.style.format(dict.fromkeys(stat_frame.columns, '{:.2f}'))"
   ]
  }
 ],
 "metadata": {
  "kernelspec": {
   "display_name": ".venv",
   "language": "python",
   "name": "python3"
  },
  "language_info": {
   "codemirror_mode": {
    "name": "ipython",
    "version": 3
   },
   "file_extension": ".py",
   "mimetype": "text/x-python",
   "name": "python",
   "nbconvert_exporter": "python",
   "pygments_lexer": "ipython3",
   "version": "3.13.1"
  }
 },
 "nbformat": 4,
 "nbformat_minor": 5
}
