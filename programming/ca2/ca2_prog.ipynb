{
 "cells": [
  {
   "cell_type": "markdown",
   "id": "68c9eb61",
   "metadata": {},
   "source": [
    "# CA2 Rory Sheridan"
   ]
  },
  {
   "cell_type": "markdown",
   "id": "c70af135",
   "metadata": {},
   "source": [
    "# Question 1\n",
    "Read in the below information of a company’s transactions for the year2022 into a python dictionary files."
   ]
  },
  {
   "cell_type": "markdown",
   "id": "52ff8352",
   "metadata": {},
   "source": [
    "### a. Convert each database into a dataframe in python."
   ]
  },
  {
   "cell_type": "code",
   "execution_count": 15,
   "id": "6f7d51a7",
   "metadata": {},
   "outputs": [],
   "source": [
    "import pandas as pd"
   ]
  },
  {
   "cell_type": "code",
   "execution_count": 16,
   "id": "92f8e02c",
   "metadata": {},
   "outputs": [],
   "source": [
    "# Declare data.\n",
    "dbase1_dict = {\n",
    "    'TR_ID': [\n",
    "        'C23',\n",
    "        'C24',\n",
    "        'C25',\n",
    "        'C26',\n",
    "        'C27',\n",
    "        'C28',\n",
    "    ],\n",
    "    'Product': [\n",
    "        'Telephone',\n",
    "        'Monitors',\n",
    "        'Car',\n",
    "        'Rent',\n",
    "        'Services',\n",
    "        'Training',\n",
    "    ],\n",
    "    'Quantitys': [\n",
    "        420,\n",
    "        'Ten',\n",
    "        234,\n",
    "        114,\n",
    "        56,\n",
    "        13,\n",
    "    ],\n",
    "    'Purchase_prices': [\n",
    "        223,\n",
    "        344,\n",
    "        223,\n",
    "        'Tenn',\n",
    "        'Two',\n",
    "        223,\n",
    "    ],\n",
    "}\n",
    "dbase2_dict = {\n",
    "    'TR_ID': [\n",
    "        'C23',\n",
    "        'C24',\n",
    "        'C25',\n",
    "        'C26',\n",
    "        'C27',\n",
    "        'C28',\n",
    "    ],\n",
    "    'Products': [\n",
    "        'Telephone',\n",
    "        'Monitors',\n",
    "        'Car',\n",
    "        'Rent',\n",
    "        'Services',\n",
    "        'Training',\n",
    "    ],\n",
    "    'Sale_price': [\n",
    "        300,\n",
    "        435,\n",
    "        329,\n",
    "        544,\n",
    "        'thirty',\n",
    "        329,\n",
    "    ],\n",
    "    'Debit': [\n",
    "        2,\n",
    "        2,\n",
    "        2,\n",
    "        2,\n",
    "        2,\n",
    "        2,\n",
    "    ],\n",
    "}\n",
    "\n",
    "dbase3_dict = {\n",
    "    'TR_ID': ['C28'],\n",
    "    'Product': ['Training'],\n",
    "    'Quantity': [13],\n",
    "    'Purchase_price': [223],\n",
    "    'Sale_price': [329],\n",
    "}"
   ]
  },
  {
   "cell_type": "code",
   "execution_count": 17,
   "id": "00fb1484",
   "metadata": {},
   "outputs": [
    {
     "data": {
      "application/vnd.microsoft.datawrangler.viewer.v0+json": {
       "columns": [
        {
         "name": "index",
         "rawType": "int64",
         "type": "integer"
        },
        {
         "name": "TR_ID",
         "rawType": "object",
         "type": "string"
        },
        {
         "name": "Product",
         "rawType": "object",
         "type": "string"
        },
        {
         "name": "Quantitys",
         "rawType": "object",
         "type": "unknown"
        },
        {
         "name": "Purchase_prices",
         "rawType": "object",
         "type": "unknown"
        }
       ],
       "ref": "8bb26c04-9772-407c-8246-d58d2916a6d0",
       "rows": [
        [
         "0",
         "C23",
         "Telephone",
         "420",
         "223"
        ],
        [
         "1",
         "C24",
         "Monitors",
         "Ten",
         "344"
        ],
        [
         "2",
         "C25",
         "Car",
         "234",
         "223"
        ],
        [
         "3",
         "C26",
         "Rent",
         "114",
         "Tenn"
        ],
        [
         "4",
         "C27",
         "Services",
         "56",
         "Two"
        ],
        [
         "5",
         "C28",
         "Training",
         "13",
         "223"
        ]
       ],
       "shape": {
        "columns": 4,
        "rows": 6
       }
      },
      "text/html": [
       "<div>\n",
       "<style scoped>\n",
       "    .dataframe tbody tr th:only-of-type {\n",
       "        vertical-align: middle;\n",
       "    }\n",
       "\n",
       "    .dataframe tbody tr th {\n",
       "        vertical-align: top;\n",
       "    }\n",
       "\n",
       "    .dataframe thead th {\n",
       "        text-align: right;\n",
       "    }\n",
       "</style>\n",
       "<table border=\"1\" class=\"dataframe\">\n",
       "  <thead>\n",
       "    <tr style=\"text-align: right;\">\n",
       "      <th></th>\n",
       "      <th>TR_ID</th>\n",
       "      <th>Product</th>\n",
       "      <th>Quantitys</th>\n",
       "      <th>Purchase_prices</th>\n",
       "    </tr>\n",
       "  </thead>\n",
       "  <tbody>\n",
       "    <tr>\n",
       "      <th>0</th>\n",
       "      <td>C23</td>\n",
       "      <td>Telephone</td>\n",
       "      <td>420</td>\n",
       "      <td>223</td>\n",
       "    </tr>\n",
       "    <tr>\n",
       "      <th>1</th>\n",
       "      <td>C24</td>\n",
       "      <td>Monitors</td>\n",
       "      <td>Ten</td>\n",
       "      <td>344</td>\n",
       "    </tr>\n",
       "    <tr>\n",
       "      <th>2</th>\n",
       "      <td>C25</td>\n",
       "      <td>Car</td>\n",
       "      <td>234</td>\n",
       "      <td>223</td>\n",
       "    </tr>\n",
       "    <tr>\n",
       "      <th>3</th>\n",
       "      <td>C26</td>\n",
       "      <td>Rent</td>\n",
       "      <td>114</td>\n",
       "      <td>Tenn</td>\n",
       "    </tr>\n",
       "    <tr>\n",
       "      <th>4</th>\n",
       "      <td>C27</td>\n",
       "      <td>Services</td>\n",
       "      <td>56</td>\n",
       "      <td>Two</td>\n",
       "    </tr>\n",
       "    <tr>\n",
       "      <th>5</th>\n",
       "      <td>C28</td>\n",
       "      <td>Training</td>\n",
       "      <td>13</td>\n",
       "      <td>223</td>\n",
       "    </tr>\n",
       "  </tbody>\n",
       "</table>\n",
       "</div>"
      ],
      "text/plain": [
       "  TR_ID    Product Quantitys Purchase_prices\n",
       "0   C23  Telephone       420             223\n",
       "1   C24   Monitors       Ten             344\n",
       "2   C25        Car       234             223\n",
       "3   C26       Rent       114            Tenn\n",
       "4   C27   Services        56             Two\n",
       "5   C28   Training        13             223"
      ]
     },
     "execution_count": 17,
     "metadata": {},
     "output_type": "execute_result"
    }
   ],
   "source": [
    "dbase1 = pd.DataFrame(dbase1_dict)\n",
    "dbase1"
   ]
  },
  {
   "cell_type": "code",
   "execution_count": 18,
   "id": "43db3fa1",
   "metadata": {},
   "outputs": [
    {
     "data": {
      "application/vnd.microsoft.datawrangler.viewer.v0+json": {
       "columns": [
        {
         "name": "index",
         "rawType": "int64",
         "type": "integer"
        },
        {
         "name": "TR_ID",
         "rawType": "object",
         "type": "string"
        },
        {
         "name": "Products",
         "rawType": "object",
         "type": "string"
        },
        {
         "name": "Sale_price",
         "rawType": "object",
         "type": "unknown"
        },
        {
         "name": "Debit",
         "rawType": "int64",
         "type": "integer"
        }
       ],
       "ref": "8067fa40-19d2-466f-bf8b-1b50d0b88ec7",
       "rows": [
        [
         "0",
         "C23",
         "Telephone",
         "300",
         "2"
        ],
        [
         "1",
         "C24",
         "Monitors",
         "435",
         "2"
        ],
        [
         "2",
         "C25",
         "Car",
         "329",
         "2"
        ],
        [
         "3",
         "C26",
         "Rent",
         "544",
         "2"
        ],
        [
         "4",
         "C27",
         "Services",
         "thirty",
         "2"
        ],
        [
         "5",
         "C28",
         "Training",
         "329",
         "2"
        ]
       ],
       "shape": {
        "columns": 4,
        "rows": 6
       }
      },
      "text/html": [
       "<div>\n",
       "<style scoped>\n",
       "    .dataframe tbody tr th:only-of-type {\n",
       "        vertical-align: middle;\n",
       "    }\n",
       "\n",
       "    .dataframe tbody tr th {\n",
       "        vertical-align: top;\n",
       "    }\n",
       "\n",
       "    .dataframe thead th {\n",
       "        text-align: right;\n",
       "    }\n",
       "</style>\n",
       "<table border=\"1\" class=\"dataframe\">\n",
       "  <thead>\n",
       "    <tr style=\"text-align: right;\">\n",
       "      <th></th>\n",
       "      <th>TR_ID</th>\n",
       "      <th>Products</th>\n",
       "      <th>Sale_price</th>\n",
       "      <th>Debit</th>\n",
       "    </tr>\n",
       "  </thead>\n",
       "  <tbody>\n",
       "    <tr>\n",
       "      <th>0</th>\n",
       "      <td>C23</td>\n",
       "      <td>Telephone</td>\n",
       "      <td>300</td>\n",
       "      <td>2</td>\n",
       "    </tr>\n",
       "    <tr>\n",
       "      <th>1</th>\n",
       "      <td>C24</td>\n",
       "      <td>Monitors</td>\n",
       "      <td>435</td>\n",
       "      <td>2</td>\n",
       "    </tr>\n",
       "    <tr>\n",
       "      <th>2</th>\n",
       "      <td>C25</td>\n",
       "      <td>Car</td>\n",
       "      <td>329</td>\n",
       "      <td>2</td>\n",
       "    </tr>\n",
       "    <tr>\n",
       "      <th>3</th>\n",
       "      <td>C26</td>\n",
       "      <td>Rent</td>\n",
       "      <td>544</td>\n",
       "      <td>2</td>\n",
       "    </tr>\n",
       "    <tr>\n",
       "      <th>4</th>\n",
       "      <td>C27</td>\n",
       "      <td>Services</td>\n",
       "      <td>thirty</td>\n",
       "      <td>2</td>\n",
       "    </tr>\n",
       "    <tr>\n",
       "      <th>5</th>\n",
       "      <td>C28</td>\n",
       "      <td>Training</td>\n",
       "      <td>329</td>\n",
       "      <td>2</td>\n",
       "    </tr>\n",
       "  </tbody>\n",
       "</table>\n",
       "</div>"
      ],
      "text/plain": [
       "  TR_ID   Products Sale_price  Debit\n",
       "0   C23  Telephone        300      2\n",
       "1   C24   Monitors        435      2\n",
       "2   C25        Car        329      2\n",
       "3   C26       Rent        544      2\n",
       "4   C27   Services     thirty      2\n",
       "5   C28   Training        329      2"
      ]
     },
     "execution_count": 18,
     "metadata": {},
     "output_type": "execute_result"
    }
   ],
   "source": [
    "dbase2 = pd.DataFrame(dbase2_dict)\n",
    "dbase2"
   ]
  },
  {
   "cell_type": "code",
   "execution_count": 19,
   "id": "3a25428b",
   "metadata": {},
   "outputs": [
    {
     "data": {
      "application/vnd.microsoft.datawrangler.viewer.v0+json": {
       "columns": [
        {
         "name": "index",
         "rawType": "int64",
         "type": "integer"
        },
        {
         "name": "TR_ID",
         "rawType": "object",
         "type": "string"
        },
        {
         "name": "Product",
         "rawType": "object",
         "type": "string"
        },
        {
         "name": "Quantity",
         "rawType": "int64",
         "type": "integer"
        },
        {
         "name": "Purchase_price",
         "rawType": "int64",
         "type": "integer"
        },
        {
         "name": "Sale_price",
         "rawType": "int64",
         "type": "integer"
        }
       ],
       "ref": "de7ef374-2cab-42e9-be8b-b256ea0522af",
       "rows": [
        [
         "0",
         "C28",
         "Training",
         "13",
         "223",
         "329"
        ]
       ],
       "shape": {
        "columns": 5,
        "rows": 1
       }
      },
      "text/html": [
       "<div>\n",
       "<style scoped>\n",
       "    .dataframe tbody tr th:only-of-type {\n",
       "        vertical-align: middle;\n",
       "    }\n",
       "\n",
       "    .dataframe tbody tr th {\n",
       "        vertical-align: top;\n",
       "    }\n",
       "\n",
       "    .dataframe thead th {\n",
       "        text-align: right;\n",
       "    }\n",
       "</style>\n",
       "<table border=\"1\" class=\"dataframe\">\n",
       "  <thead>\n",
       "    <tr style=\"text-align: right;\">\n",
       "      <th></th>\n",
       "      <th>TR_ID</th>\n",
       "      <th>Product</th>\n",
       "      <th>Quantity</th>\n",
       "      <th>Purchase_price</th>\n",
       "      <th>Sale_price</th>\n",
       "    </tr>\n",
       "  </thead>\n",
       "  <tbody>\n",
       "    <tr>\n",
       "      <th>0</th>\n",
       "      <td>C28</td>\n",
       "      <td>Training</td>\n",
       "      <td>13</td>\n",
       "      <td>223</td>\n",
       "      <td>329</td>\n",
       "    </tr>\n",
       "  </tbody>\n",
       "</table>\n",
       "</div>"
      ],
      "text/plain": [
       "  TR_ID   Product  Quantity  Purchase_price  Sale_price\n",
       "0   C28  Training        13             223         329"
      ]
     },
     "execution_count": 19,
     "metadata": {},
     "output_type": "execute_result"
    }
   ],
   "source": [
    "dbase3 = pd.DataFrame(dbase3_dict)\n",
    "dbase3"
   ]
  }
 ],
 "metadata": {
  "kernelspec": {
   "display_name": ".venv",
   "language": "python",
   "name": "python3"
  },
  "language_info": {
   "codemirror_mode": {
    "name": "ipython",
    "version": 3
   },
   "file_extension": ".py",
   "mimetype": "text/x-python",
   "name": "python",
   "nbconvert_exporter": "python",
   "pygments_lexer": "ipython3",
   "version": "3.13.1"
  }
 },
 "nbformat": 4,
 "nbformat_minor": 5
}
