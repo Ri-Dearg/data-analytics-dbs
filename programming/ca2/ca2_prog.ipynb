{
 "cells": [
  {
   "cell_type": "markdown",
   "id": "68c9eb61",
   "metadata": {},
   "source": [
    "# CA2 Rory Sheridan\n"
   ]
  },
  {
   "cell_type": "code",
   "execution_count": 1,
   "id": "6f7d51a7",
   "metadata": {},
   "outputs": [],
   "source": [
    "import pandas as pd"
   ]
  },
  {
   "cell_type": "markdown",
   "id": "c70af135",
   "metadata": {},
   "source": [
    "# Question 1\n",
    "\n",
    "Read in the below information of a company’s transactions for the year2022 into a python dictionary files.\n"
   ]
  },
  {
   "cell_type": "code",
   "execution_count": 2,
   "id": "ba90f52c",
   "metadata": {},
   "outputs": [],
   "source": [
    "class DataFrameManager:\n",
    "    \"\"\"Create dataframes from dictionaries and provide manage options.\"\"\"\n",
    "\n",
    "    # a. Convert each database into a dataframe in python.\n",
    "    def __init__(self, *args: dict[str, list]) -> None:\n",
    "        \"\"\"Accept dictionaries and store as attributes.\"\"\"\n",
    "        for i, db_dict in enumerate(args):\n",
    "            data_frame = pd.DataFrame(db_dict)\n",
    "            setattr(self, f'dict_df_{i + 1}', data_frame)\n",
    "\n",
    "    def add_col(self, frame: object, col: str) -> object:\n",
    "        \"\"\"Add a column and generate values for it.\n",
    "\n",
    "        Args:\n",
    "            frame (object): the data frame to alter.\n",
    "            col (str): the column name to add.\n",
    "\n",
    "        Returns:\n",
    "            object: The altered frame.\n",
    "\n",
    "        \"\"\"\n",
    "        product_category = {\n",
    "            'Telephone': 'IT',\n",
    "            'Monitors': 'IT',\n",
    "            'Car': 'Transport',\n",
    "            'Rent': 'Consultancy',\n",
    "            'Services': 'Consultancy',\n",
    "            'Training': 'Education',\n",
    "        }\n",
    "\n",
    "        to_add = [\n",
    "            product_category.get(value, '') for value in frame['Product']\n",
    "        ]\n",
    "\n",
    "        frame[col] = to_add\n",
    "        return frame\n",
    "\n",
    "    # b. Note that the databases and the corresponding column names with\n",
    "    # spelling differences. Correct this to have all column names without 's'\n",
    "    def clean_headings(self) -> None:\n",
    "        \"\"\"Remove the final s from the dataframe column names.\"\"\"\n",
    "        for value in vars(self).values():\n",
    "            new_columns = [col.removesuffix('s') for col in value.columns]\n",
    "            value.columns = new_columns\n",
    "\n",
    "    def clean_number(self, frame: object, num_cols: list[str]) -> None:\n",
    "        \"\"\"Check for strings in number column, replace with mean.\n",
    "\n",
    "        Args:\n",
    "            frame (object): The data frame to clean.\n",
    "            num_cols (list[str]): The names of the columns to clean.\n",
    "\n",
    "        \"\"\"\n",
    "        for col in num_cols:\n",
    "            num_vals = [\n",
    "                val if isinstance(val, (int, float)) else 0\n",
    "                for val in frame[col]\n",
    "            ]\n",
    "            mean = sum(num_vals) / len(num_vals)\n",
    "            for i in range(len(num_vals)):\n",
    "                if num_vals[i] == 0:\n",
    "                    num_vals[i] = round(mean)\n",
    "            frame[col] = num_vals\n",
    "\n",
    "    def delete_col(self, frame: object, col: str) -> object:\n",
    "        \"\"\"Delete a column from a frame.\n",
    "\n",
    "        Args:\n",
    "            frame (object): The frame to alter.\n",
    "            col (str): The column to delete.\n",
    "\n",
    "        Returns:\n",
    "            _type_: The altered data frame.\n",
    "\n",
    "        \"\"\"\n",
    "        return frame.drop(col, axis=1)\n",
    "\n",
    "    def join_dataframes(self) -> object:\n",
    "        \"\"\"Merge dataframes into a single table based on columns.\n",
    "\n",
    "        Returns:\n",
    "            object: Single dataframe.\n",
    "\n",
    "        \"\"\"\n",
    "        try:\n",
    "            frame_list = list(vars(self).values())\n",
    "            merged_df = frame_list[0]\n",
    "            for df in frame_list[1:]:\n",
    "                matching_cols = [\n",
    "                    col for col in df.columns if col in merged_df.columns\n",
    "                ]\n",
    "                merged_df = merged_df.merge(df, on=matching_cols, how='outer')\n",
    "        except ValueError as e:\n",
    "            print(\n",
    "                'There is an issue with the dataset merging.'\n",
    "                f' Please check they have shared column: {e}',\n",
    "            )\n",
    "        else:\n",
    "            return merged_df"
   ]
  },
  {
   "cell_type": "code",
   "execution_count": 3,
   "id": "92f8e02c",
   "metadata": {},
   "outputs": [],
   "source": [
    "# Declare data.\n",
    "dbase1_dict = {\n",
    "    'TR_ID': [\n",
    "        'C23',\n",
    "        'C24',\n",
    "        'C25',\n",
    "        'C26',\n",
    "        'C27',\n",
    "        'C28',\n",
    "    ],\n",
    "    'Product': [\n",
    "        'Telephone',\n",
    "        'Monitors',\n",
    "        'Car',\n",
    "        'Rent',\n",
    "        'Services',\n",
    "        'Training',\n",
    "    ],\n",
    "    'Quantitys': [\n",
    "        420,\n",
    "        'Ten',\n",
    "        234,\n",
    "        114,\n",
    "        56,\n",
    "        13,\n",
    "    ],\n",
    "    'Purchase_prices': [\n",
    "        223,\n",
    "        344,\n",
    "        223,\n",
    "        'Tenn',\n",
    "        'Two',\n",
    "        223,\n",
    "    ],\n",
    "}\n",
    "dbase2_dict = {\n",
    "    'TR_ID': [\n",
    "        'C23',\n",
    "        'C24',\n",
    "        'C25',\n",
    "        'C26',\n",
    "        'C27',\n",
    "        'C28',\n",
    "    ],\n",
    "    'Products': [\n",
    "        'Telephone',\n",
    "        'Monitors',\n",
    "        'Car',\n",
    "        'Rent',\n",
    "        'Services',\n",
    "        'Training',\n",
    "    ],\n",
    "    'Sale_price': [\n",
    "        300,\n",
    "        435,\n",
    "        329,\n",
    "        544,\n",
    "        'thirty',\n",
    "        329,\n",
    "    ],\n",
    "    'Debit': [\n",
    "        2,\n",
    "        2,\n",
    "        2,\n",
    "        2,\n",
    "        2,\n",
    "        2,\n",
    "    ],\n",
    "}\n",
    "\n",
    "dbase3_dict = {\n",
    "    'TR_ID': ['C28'],\n",
    "    'Product': ['Training'],\n",
    "    'Quantity': [13],\n",
    "    'Purchase_price': [223],\n",
    "    'Sale_price': [329],\n",
    "}"
   ]
  },
  {
   "cell_type": "markdown",
   "id": "52ff8352",
   "metadata": {},
   "source": [
    "## a. Convert each database into a dataframe in python.\n"
   ]
  },
  {
   "cell_type": "code",
   "execution_count": 4,
   "id": "d1142ec2",
   "metadata": {},
   "outputs": [
    {
     "data": {
      "application/vnd.microsoft.datawrangler.viewer.v0+json": {
       "columns": [
        {
         "name": "index",
         "rawType": "int64",
         "type": "integer"
        },
        {
         "name": "TR_ID",
         "rawType": "object",
         "type": "string"
        },
        {
         "name": "Product",
         "rawType": "object",
         "type": "string"
        },
        {
         "name": "Quantitys",
         "rawType": "object",
         "type": "unknown"
        },
        {
         "name": "Purchase_prices",
         "rawType": "object",
         "type": "unknown"
        }
       ],
       "ref": "e9c5bae0-26e2-4693-ae0e-9e906195d592",
       "rows": [
        [
         "0",
         "C23",
         "Telephone",
         "420",
         "223"
        ],
        [
         "1",
         "C24",
         "Monitors",
         "Ten",
         "344"
        ],
        [
         "2",
         "C25",
         "Car",
         "234",
         "223"
        ],
        [
         "3",
         "C26",
         "Rent",
         "114",
         "Tenn"
        ],
        [
         "4",
         "C27",
         "Services",
         "56",
         "Two"
        ],
        [
         "5",
         "C28",
         "Training",
         "13",
         "223"
        ]
       ],
       "shape": {
        "columns": 4,
        "rows": 6
       }
      },
      "text/html": [
       "<div>\n",
       "<style scoped>\n",
       "    .dataframe tbody tr th:only-of-type {\n",
       "        vertical-align: middle;\n",
       "    }\n",
       "\n",
       "    .dataframe tbody tr th {\n",
       "        vertical-align: top;\n",
       "    }\n",
       "\n",
       "    .dataframe thead th {\n",
       "        text-align: right;\n",
       "    }\n",
       "</style>\n",
       "<table border=\"1\" class=\"dataframe\">\n",
       "  <thead>\n",
       "    <tr style=\"text-align: right;\">\n",
       "      <th></th>\n",
       "      <th>TR_ID</th>\n",
       "      <th>Product</th>\n",
       "      <th>Quantitys</th>\n",
       "      <th>Purchase_prices</th>\n",
       "    </tr>\n",
       "  </thead>\n",
       "  <tbody>\n",
       "    <tr>\n",
       "      <th>0</th>\n",
       "      <td>C23</td>\n",
       "      <td>Telephone</td>\n",
       "      <td>420</td>\n",
       "      <td>223</td>\n",
       "    </tr>\n",
       "    <tr>\n",
       "      <th>1</th>\n",
       "      <td>C24</td>\n",
       "      <td>Monitors</td>\n",
       "      <td>Ten</td>\n",
       "      <td>344</td>\n",
       "    </tr>\n",
       "    <tr>\n",
       "      <th>2</th>\n",
       "      <td>C25</td>\n",
       "      <td>Car</td>\n",
       "      <td>234</td>\n",
       "      <td>223</td>\n",
       "    </tr>\n",
       "    <tr>\n",
       "      <th>3</th>\n",
       "      <td>C26</td>\n",
       "      <td>Rent</td>\n",
       "      <td>114</td>\n",
       "      <td>Tenn</td>\n",
       "    </tr>\n",
       "    <tr>\n",
       "      <th>4</th>\n",
       "      <td>C27</td>\n",
       "      <td>Services</td>\n",
       "      <td>56</td>\n",
       "      <td>Two</td>\n",
       "    </tr>\n",
       "    <tr>\n",
       "      <th>5</th>\n",
       "      <td>C28</td>\n",
       "      <td>Training</td>\n",
       "      <td>13</td>\n",
       "      <td>223</td>\n",
       "    </tr>\n",
       "  </tbody>\n",
       "</table>\n",
       "</div>"
      ],
      "text/plain": [
       "  TR_ID    Product Quantitys Purchase_prices\n",
       "0   C23  Telephone       420             223\n",
       "1   C24   Monitors       Ten             344\n",
       "2   C25        Car       234             223\n",
       "3   C26       Rent       114            Tenn\n",
       "4   C27   Services        56             Two\n",
       "5   C28   Training        13             223"
      ]
     },
     "execution_count": 4,
     "metadata": {},
     "output_type": "execute_result"
    }
   ],
   "source": [
    "# Accepts dictionaries and stores the data frames as attributes.\n",
    "dict_df_db = DataFrameManager(dbase1_dict, dbase2_dict, dbase3_dict)\n",
    "\n",
    "dict_df_db.dict_df_1"
   ]
  },
  {
   "cell_type": "code",
   "execution_count": 5,
   "id": "2044da18",
   "metadata": {},
   "outputs": [
    {
     "data": {
      "application/vnd.microsoft.datawrangler.viewer.v0+json": {
       "columns": [
        {
         "name": "index",
         "rawType": "int64",
         "type": "integer"
        },
        {
         "name": "TR_ID",
         "rawType": "object",
         "type": "string"
        },
        {
         "name": "Products",
         "rawType": "object",
         "type": "string"
        },
        {
         "name": "Sale_price",
         "rawType": "object",
         "type": "unknown"
        },
        {
         "name": "Debit",
         "rawType": "int64",
         "type": "integer"
        }
       ],
       "ref": "c42b4704-2ef4-405e-af93-a762977448c2",
       "rows": [
        [
         "0",
         "C23",
         "Telephone",
         "300",
         "2"
        ],
        [
         "1",
         "C24",
         "Monitors",
         "435",
         "2"
        ],
        [
         "2",
         "C25",
         "Car",
         "329",
         "2"
        ],
        [
         "3",
         "C26",
         "Rent",
         "544",
         "2"
        ],
        [
         "4",
         "C27",
         "Services",
         "thirty",
         "2"
        ],
        [
         "5",
         "C28",
         "Training",
         "329",
         "2"
        ]
       ],
       "shape": {
        "columns": 4,
        "rows": 6
       }
      },
      "text/html": [
       "<div>\n",
       "<style scoped>\n",
       "    .dataframe tbody tr th:only-of-type {\n",
       "        vertical-align: middle;\n",
       "    }\n",
       "\n",
       "    .dataframe tbody tr th {\n",
       "        vertical-align: top;\n",
       "    }\n",
       "\n",
       "    .dataframe thead th {\n",
       "        text-align: right;\n",
       "    }\n",
       "</style>\n",
       "<table border=\"1\" class=\"dataframe\">\n",
       "  <thead>\n",
       "    <tr style=\"text-align: right;\">\n",
       "      <th></th>\n",
       "      <th>TR_ID</th>\n",
       "      <th>Products</th>\n",
       "      <th>Sale_price</th>\n",
       "      <th>Debit</th>\n",
       "    </tr>\n",
       "  </thead>\n",
       "  <tbody>\n",
       "    <tr>\n",
       "      <th>0</th>\n",
       "      <td>C23</td>\n",
       "      <td>Telephone</td>\n",
       "      <td>300</td>\n",
       "      <td>2</td>\n",
       "    </tr>\n",
       "    <tr>\n",
       "      <th>1</th>\n",
       "      <td>C24</td>\n",
       "      <td>Monitors</td>\n",
       "      <td>435</td>\n",
       "      <td>2</td>\n",
       "    </tr>\n",
       "    <tr>\n",
       "      <th>2</th>\n",
       "      <td>C25</td>\n",
       "      <td>Car</td>\n",
       "      <td>329</td>\n",
       "      <td>2</td>\n",
       "    </tr>\n",
       "    <tr>\n",
       "      <th>3</th>\n",
       "      <td>C26</td>\n",
       "      <td>Rent</td>\n",
       "      <td>544</td>\n",
       "      <td>2</td>\n",
       "    </tr>\n",
       "    <tr>\n",
       "      <th>4</th>\n",
       "      <td>C27</td>\n",
       "      <td>Services</td>\n",
       "      <td>thirty</td>\n",
       "      <td>2</td>\n",
       "    </tr>\n",
       "    <tr>\n",
       "      <th>5</th>\n",
       "      <td>C28</td>\n",
       "      <td>Training</td>\n",
       "      <td>329</td>\n",
       "      <td>2</td>\n",
       "    </tr>\n",
       "  </tbody>\n",
       "</table>\n",
       "</div>"
      ],
      "text/plain": [
       "  TR_ID   Products Sale_price  Debit\n",
       "0   C23  Telephone        300      2\n",
       "1   C24   Monitors        435      2\n",
       "2   C25        Car        329      2\n",
       "3   C26       Rent        544      2\n",
       "4   C27   Services     thirty      2\n",
       "5   C28   Training        329      2"
      ]
     },
     "execution_count": 5,
     "metadata": {},
     "output_type": "execute_result"
    }
   ],
   "source": [
    "dict_df_db.dict_df_2"
   ]
  },
  {
   "cell_type": "code",
   "execution_count": 6,
   "id": "5b3c73c3",
   "metadata": {},
   "outputs": [
    {
     "data": {
      "application/vnd.microsoft.datawrangler.viewer.v0+json": {
       "columns": [
        {
         "name": "index",
         "rawType": "int64",
         "type": "integer"
        },
        {
         "name": "TR_ID",
         "rawType": "object",
         "type": "string"
        },
        {
         "name": "Product",
         "rawType": "object",
         "type": "string"
        },
        {
         "name": "Quantity",
         "rawType": "int64",
         "type": "integer"
        },
        {
         "name": "Purchase_price",
         "rawType": "int64",
         "type": "integer"
        },
        {
         "name": "Sale_price",
         "rawType": "int64",
         "type": "integer"
        }
       ],
       "ref": "b1542892-3794-410d-af2a-bf0c4d45a23f",
       "rows": [
        [
         "0",
         "C28",
         "Training",
         "13",
         "223",
         "329"
        ]
       ],
       "shape": {
        "columns": 5,
        "rows": 1
       }
      },
      "text/html": [
       "<div>\n",
       "<style scoped>\n",
       "    .dataframe tbody tr th:only-of-type {\n",
       "        vertical-align: middle;\n",
       "    }\n",
       "\n",
       "    .dataframe tbody tr th {\n",
       "        vertical-align: top;\n",
       "    }\n",
       "\n",
       "    .dataframe thead th {\n",
       "        text-align: right;\n",
       "    }\n",
       "</style>\n",
       "<table border=\"1\" class=\"dataframe\">\n",
       "  <thead>\n",
       "    <tr style=\"text-align: right;\">\n",
       "      <th></th>\n",
       "      <th>TR_ID</th>\n",
       "      <th>Product</th>\n",
       "      <th>Quantity</th>\n",
       "      <th>Purchase_price</th>\n",
       "      <th>Sale_price</th>\n",
       "    </tr>\n",
       "  </thead>\n",
       "  <tbody>\n",
       "    <tr>\n",
       "      <th>0</th>\n",
       "      <td>C28</td>\n",
       "      <td>Training</td>\n",
       "      <td>13</td>\n",
       "      <td>223</td>\n",
       "      <td>329</td>\n",
       "    </tr>\n",
       "  </tbody>\n",
       "</table>\n",
       "</div>"
      ],
      "text/plain": [
       "  TR_ID   Product  Quantity  Purchase_price  Sale_price\n",
       "0   C28  Training        13             223         329"
      ]
     },
     "execution_count": 6,
     "metadata": {},
     "output_type": "execute_result"
    }
   ],
   "source": [
    "dict_df_db.dict_df_3"
   ]
  },
  {
   "cell_type": "markdown",
   "id": "acc4f333",
   "metadata": {},
   "source": [
    "## b. Note that the databases and the corresponding column names with spelling differences. Correct this to have all column names without ‘s’\n"
   ]
  },
  {
   "cell_type": "code",
   "execution_count": 7,
   "id": "6dd304fe",
   "metadata": {},
   "outputs": [
    {
     "data": {
      "application/vnd.microsoft.datawrangler.viewer.v0+json": {
       "columns": [
        {
         "name": "index",
         "rawType": "int64",
         "type": "integer"
        },
        {
         "name": "TR_ID",
         "rawType": "object",
         "type": "string"
        },
        {
         "name": "Product",
         "rawType": "object",
         "type": "string"
        },
        {
         "name": "Quantity",
         "rawType": "object",
         "type": "unknown"
        },
        {
         "name": "Purchase_price",
         "rawType": "object",
         "type": "unknown"
        }
       ],
       "ref": "f0e71fd0-45ac-438a-bb2a-b9e7e3ba1df2",
       "rows": [
        [
         "0",
         "C23",
         "Telephone",
         "420",
         "223"
        ],
        [
         "1",
         "C24",
         "Monitors",
         "Ten",
         "344"
        ],
        [
         "2",
         "C25",
         "Car",
         "234",
         "223"
        ],
        [
         "3",
         "C26",
         "Rent",
         "114",
         "Tenn"
        ],
        [
         "4",
         "C27",
         "Services",
         "56",
         "Two"
        ],
        [
         "5",
         "C28",
         "Training",
         "13",
         "223"
        ]
       ],
       "shape": {
        "columns": 4,
        "rows": 6
       }
      },
      "text/html": [
       "<div>\n",
       "<style scoped>\n",
       "    .dataframe tbody tr th:only-of-type {\n",
       "        vertical-align: middle;\n",
       "    }\n",
       "\n",
       "    .dataframe tbody tr th {\n",
       "        vertical-align: top;\n",
       "    }\n",
       "\n",
       "    .dataframe thead th {\n",
       "        text-align: right;\n",
       "    }\n",
       "</style>\n",
       "<table border=\"1\" class=\"dataframe\">\n",
       "  <thead>\n",
       "    <tr style=\"text-align: right;\">\n",
       "      <th></th>\n",
       "      <th>TR_ID</th>\n",
       "      <th>Product</th>\n",
       "      <th>Quantity</th>\n",
       "      <th>Purchase_price</th>\n",
       "    </tr>\n",
       "  </thead>\n",
       "  <tbody>\n",
       "    <tr>\n",
       "      <th>0</th>\n",
       "      <td>C23</td>\n",
       "      <td>Telephone</td>\n",
       "      <td>420</td>\n",
       "      <td>223</td>\n",
       "    </tr>\n",
       "    <tr>\n",
       "      <th>1</th>\n",
       "      <td>C24</td>\n",
       "      <td>Monitors</td>\n",
       "      <td>Ten</td>\n",
       "      <td>344</td>\n",
       "    </tr>\n",
       "    <tr>\n",
       "      <th>2</th>\n",
       "      <td>C25</td>\n",
       "      <td>Car</td>\n",
       "      <td>234</td>\n",
       "      <td>223</td>\n",
       "    </tr>\n",
       "    <tr>\n",
       "      <th>3</th>\n",
       "      <td>C26</td>\n",
       "      <td>Rent</td>\n",
       "      <td>114</td>\n",
       "      <td>Tenn</td>\n",
       "    </tr>\n",
       "    <tr>\n",
       "      <th>4</th>\n",
       "      <td>C27</td>\n",
       "      <td>Services</td>\n",
       "      <td>56</td>\n",
       "      <td>Two</td>\n",
       "    </tr>\n",
       "    <tr>\n",
       "      <th>5</th>\n",
       "      <td>C28</td>\n",
       "      <td>Training</td>\n",
       "      <td>13</td>\n",
       "      <td>223</td>\n",
       "    </tr>\n",
       "  </tbody>\n",
       "</table>\n",
       "</div>"
      ],
      "text/plain": [
       "  TR_ID    Product Quantity Purchase_price\n",
       "0   C23  Telephone      420            223\n",
       "1   C24   Monitors      Ten            344\n",
       "2   C25        Car      234            223\n",
       "3   C26       Rent      114           Tenn\n",
       "4   C27   Services       56            Two\n",
       "5   C28   Training       13            223"
      ]
     },
     "execution_count": 7,
     "metadata": {},
     "output_type": "execute_result"
    }
   ],
   "source": [
    "dict_df_db.clean_headings()\n",
    "dict_df_db.dict_df_1"
   ]
  },
  {
   "cell_type": "markdown",
   "id": "742f22a6",
   "metadata": {},
   "source": [
    "## c. Combine the above three databases into one single dataframe called ‘dbase4’ in python using the appropriate method and libraries.\n"
   ]
  },
  {
   "cell_type": "code",
   "execution_count": 8,
   "id": "ebf65008",
   "metadata": {},
   "outputs": [
    {
     "data": {
      "application/vnd.microsoft.datawrangler.viewer.v0+json": {
       "columns": [
        {
         "name": "index",
         "rawType": "int64",
         "type": "integer"
        },
        {
         "name": "TR_ID",
         "rawType": "object",
         "type": "string"
        },
        {
         "name": "Product",
         "rawType": "object",
         "type": "string"
        },
        {
         "name": "Quantity",
         "rawType": "object",
         "type": "unknown"
        },
        {
         "name": "Purchase_price",
         "rawType": "object",
         "type": "unknown"
        },
        {
         "name": "Sale_price",
         "rawType": "object",
         "type": "unknown"
        },
        {
         "name": "Debit",
         "rawType": "int64",
         "type": "integer"
        }
       ],
       "ref": "72c3a892-bcbd-417c-9458-3459b75e62d5",
       "rows": [
        [
         "0",
         "C23",
         "Telephone",
         "420",
         "223",
         "300",
         "2"
        ],
        [
         "1",
         "C24",
         "Monitors",
         "Ten",
         "344",
         "435",
         "2"
        ],
        [
         "2",
         "C25",
         "Car",
         "234",
         "223",
         "329",
         "2"
        ],
        [
         "3",
         "C26",
         "Rent",
         "114",
         "Tenn",
         "544",
         "2"
        ],
        [
         "4",
         "C27",
         "Services",
         "56",
         "Two",
         "thirty",
         "2"
        ],
        [
         "5",
         "C28",
         "Training",
         "13",
         "223",
         "329",
         "2"
        ]
       ],
       "shape": {
        "columns": 6,
        "rows": 6
       }
      },
      "text/html": [
       "<div>\n",
       "<style scoped>\n",
       "    .dataframe tbody tr th:only-of-type {\n",
       "        vertical-align: middle;\n",
       "    }\n",
       "\n",
       "    .dataframe tbody tr th {\n",
       "        vertical-align: top;\n",
       "    }\n",
       "\n",
       "    .dataframe thead th {\n",
       "        text-align: right;\n",
       "    }\n",
       "</style>\n",
       "<table border=\"1\" class=\"dataframe\">\n",
       "  <thead>\n",
       "    <tr style=\"text-align: right;\">\n",
       "      <th></th>\n",
       "      <th>TR_ID</th>\n",
       "      <th>Product</th>\n",
       "      <th>Quantity</th>\n",
       "      <th>Purchase_price</th>\n",
       "      <th>Sale_price</th>\n",
       "      <th>Debit</th>\n",
       "    </tr>\n",
       "  </thead>\n",
       "  <tbody>\n",
       "    <tr>\n",
       "      <th>0</th>\n",
       "      <td>C23</td>\n",
       "      <td>Telephone</td>\n",
       "      <td>420</td>\n",
       "      <td>223</td>\n",
       "      <td>300</td>\n",
       "      <td>2</td>\n",
       "    </tr>\n",
       "    <tr>\n",
       "      <th>1</th>\n",
       "      <td>C24</td>\n",
       "      <td>Monitors</td>\n",
       "      <td>Ten</td>\n",
       "      <td>344</td>\n",
       "      <td>435</td>\n",
       "      <td>2</td>\n",
       "    </tr>\n",
       "    <tr>\n",
       "      <th>2</th>\n",
       "      <td>C25</td>\n",
       "      <td>Car</td>\n",
       "      <td>234</td>\n",
       "      <td>223</td>\n",
       "      <td>329</td>\n",
       "      <td>2</td>\n",
       "    </tr>\n",
       "    <tr>\n",
       "      <th>3</th>\n",
       "      <td>C26</td>\n",
       "      <td>Rent</td>\n",
       "      <td>114</td>\n",
       "      <td>Tenn</td>\n",
       "      <td>544</td>\n",
       "      <td>2</td>\n",
       "    </tr>\n",
       "    <tr>\n",
       "      <th>4</th>\n",
       "      <td>C27</td>\n",
       "      <td>Services</td>\n",
       "      <td>56</td>\n",
       "      <td>Two</td>\n",
       "      <td>thirty</td>\n",
       "      <td>2</td>\n",
       "    </tr>\n",
       "    <tr>\n",
       "      <th>5</th>\n",
       "      <td>C28</td>\n",
       "      <td>Training</td>\n",
       "      <td>13</td>\n",
       "      <td>223</td>\n",
       "      <td>329</td>\n",
       "      <td>2</td>\n",
       "    </tr>\n",
       "  </tbody>\n",
       "</table>\n",
       "</div>"
      ],
      "text/plain": [
       "  TR_ID    Product Quantity Purchase_price Sale_price  Debit\n",
       "0   C23  Telephone      420            223        300      2\n",
       "1   C24   Monitors      Ten            344        435      2\n",
       "2   C25        Car      234            223        329      2\n",
       "3   C26       Rent      114           Tenn        544      2\n",
       "4   C27   Services       56            Two     thirty      2\n",
       "5   C28   Training       13            223        329      2"
      ]
     },
     "execution_count": 8,
     "metadata": {},
     "output_type": "execute_result"
    }
   ],
   "source": [
    "dbase4 = dict_df_db.join_dataframes()\n",
    "dbase4"
   ]
  },
  {
   "cell_type": "markdown",
   "id": "e17387ed",
   "metadata": {},
   "source": [
    "## d. Consider the character values as error, remove these errors and replace with column’s mean.\n"
   ]
  },
  {
   "cell_type": "code",
   "execution_count": 9,
   "id": "0e6737d4",
   "metadata": {},
   "outputs": [
    {
     "data": {
      "application/vnd.microsoft.datawrangler.viewer.v0+json": {
       "columns": [
        {
         "name": "index",
         "rawType": "int64",
         "type": "integer"
        },
        {
         "name": "TR_ID",
         "rawType": "object",
         "type": "string"
        },
        {
         "name": "Product",
         "rawType": "object",
         "type": "string"
        },
        {
         "name": "Quantity",
         "rawType": "int64",
         "type": "integer"
        },
        {
         "name": "Purchase_price",
         "rawType": "int64",
         "type": "integer"
        },
        {
         "name": "Sale_price",
         "rawType": "int64",
         "type": "integer"
        },
        {
         "name": "Debit",
         "rawType": "int64",
         "type": "integer"
        }
       ],
       "ref": "5d4700fa-ca24-408b-bd5d-7b0ec2925e14",
       "rows": [
        [
         "0",
         "C23",
         "Telephone",
         "420",
         "223",
         "300",
         "2"
        ],
        [
         "1",
         "C24",
         "Monitors",
         "140",
         "344",
         "435",
         "2"
        ],
        [
         "2",
         "C25",
         "Car",
         "234",
         "223",
         "329",
         "2"
        ],
        [
         "3",
         "C26",
         "Rent",
         "114",
         "169",
         "544",
         "2"
        ],
        [
         "4",
         "C27",
         "Services",
         "56",
         "169",
         "323",
         "2"
        ],
        [
         "5",
         "C28",
         "Training",
         "13",
         "223",
         "329",
         "2"
        ]
       ],
       "shape": {
        "columns": 6,
        "rows": 6
       }
      },
      "text/html": [
       "<div>\n",
       "<style scoped>\n",
       "    .dataframe tbody tr th:only-of-type {\n",
       "        vertical-align: middle;\n",
       "    }\n",
       "\n",
       "    .dataframe tbody tr th {\n",
       "        vertical-align: top;\n",
       "    }\n",
       "\n",
       "    .dataframe thead th {\n",
       "        text-align: right;\n",
       "    }\n",
       "</style>\n",
       "<table border=\"1\" class=\"dataframe\">\n",
       "  <thead>\n",
       "    <tr style=\"text-align: right;\">\n",
       "      <th></th>\n",
       "      <th>TR_ID</th>\n",
       "      <th>Product</th>\n",
       "      <th>Quantity</th>\n",
       "      <th>Purchase_price</th>\n",
       "      <th>Sale_price</th>\n",
       "      <th>Debit</th>\n",
       "    </tr>\n",
       "  </thead>\n",
       "  <tbody>\n",
       "    <tr>\n",
       "      <th>0</th>\n",
       "      <td>C23</td>\n",
       "      <td>Telephone</td>\n",
       "      <td>420</td>\n",
       "      <td>223</td>\n",
       "      <td>300</td>\n",
       "      <td>2</td>\n",
       "    </tr>\n",
       "    <tr>\n",
       "      <th>1</th>\n",
       "      <td>C24</td>\n",
       "      <td>Monitors</td>\n",
       "      <td>140</td>\n",
       "      <td>344</td>\n",
       "      <td>435</td>\n",
       "      <td>2</td>\n",
       "    </tr>\n",
       "    <tr>\n",
       "      <th>2</th>\n",
       "      <td>C25</td>\n",
       "      <td>Car</td>\n",
       "      <td>234</td>\n",
       "      <td>223</td>\n",
       "      <td>329</td>\n",
       "      <td>2</td>\n",
       "    </tr>\n",
       "    <tr>\n",
       "      <th>3</th>\n",
       "      <td>C26</td>\n",
       "      <td>Rent</td>\n",
       "      <td>114</td>\n",
       "      <td>169</td>\n",
       "      <td>544</td>\n",
       "      <td>2</td>\n",
       "    </tr>\n",
       "    <tr>\n",
       "      <th>4</th>\n",
       "      <td>C27</td>\n",
       "      <td>Services</td>\n",
       "      <td>56</td>\n",
       "      <td>169</td>\n",
       "      <td>323</td>\n",
       "      <td>2</td>\n",
       "    </tr>\n",
       "    <tr>\n",
       "      <th>5</th>\n",
       "      <td>C28</td>\n",
       "      <td>Training</td>\n",
       "      <td>13</td>\n",
       "      <td>223</td>\n",
       "      <td>329</td>\n",
       "      <td>2</td>\n",
       "    </tr>\n",
       "  </tbody>\n",
       "</table>\n",
       "</div>"
      ],
      "text/plain": [
       "  TR_ID    Product  Quantity  Purchase_price  Sale_price  Debit\n",
       "0   C23  Telephone       420             223         300      2\n",
       "1   C24   Monitors       140             344         435      2\n",
       "2   C25        Car       234             223         329      2\n",
       "3   C26       Rent       114             169         544      2\n",
       "4   C27   Services        56             169         323      2\n",
       "5   C28   Training        13             223         329      2"
      ]
     },
     "execution_count": 9,
     "metadata": {},
     "output_type": "execute_result"
    }
   ],
   "source": [
    "dict_df_db.clean_number(dbase4, ['Quantity', 'Purchase_price', 'Sale_price'])\n",
    "dbase4"
   ]
  },
  {
   "cell_type": "markdown",
   "id": "91c33176",
   "metadata": {},
   "source": [
    "## e. Delete the variable ‘Debit’ as not needed then add a column called‘Department’ and assign values from product column: Telphone, monitor -> IT, Car -> transport Rent, Services-> Consultancy Training -> Education\n"
   ]
  },
  {
   "cell_type": "code",
   "execution_count": 10,
   "id": "f1c6c594",
   "metadata": {},
   "outputs": [
    {
     "data": {
      "application/vnd.microsoft.datawrangler.viewer.v0+json": {
       "columns": [
        {
         "name": "index",
         "rawType": "int64",
         "type": "integer"
        },
        {
         "name": "TR_ID",
         "rawType": "object",
         "type": "string"
        },
        {
         "name": "Product",
         "rawType": "object",
         "type": "string"
        },
        {
         "name": "Quantity",
         "rawType": "int64",
         "type": "integer"
        },
        {
         "name": "Purchase_price",
         "rawType": "int64",
         "type": "integer"
        },
        {
         "name": "Sale_price",
         "rawType": "int64",
         "type": "integer"
        }
       ],
       "ref": "dba20b72-f19e-4134-aa54-61f9625c5c23",
       "rows": [
        [
         "0",
         "C23",
         "Telephone",
         "420",
         "223",
         "300"
        ],
        [
         "1",
         "C24",
         "Monitors",
         "140",
         "344",
         "435"
        ],
        [
         "2",
         "C25",
         "Car",
         "234",
         "223",
         "329"
        ],
        [
         "3",
         "C26",
         "Rent",
         "114",
         "169",
         "544"
        ],
        [
         "4",
         "C27",
         "Services",
         "56",
         "169",
         "323"
        ],
        [
         "5",
         "C28",
         "Training",
         "13",
         "223",
         "329"
        ]
       ],
       "shape": {
        "columns": 5,
        "rows": 6
       }
      },
      "text/html": [
       "<div>\n",
       "<style scoped>\n",
       "    .dataframe tbody tr th:only-of-type {\n",
       "        vertical-align: middle;\n",
       "    }\n",
       "\n",
       "    .dataframe tbody tr th {\n",
       "        vertical-align: top;\n",
       "    }\n",
       "\n",
       "    .dataframe thead th {\n",
       "        text-align: right;\n",
       "    }\n",
       "</style>\n",
       "<table border=\"1\" class=\"dataframe\">\n",
       "  <thead>\n",
       "    <tr style=\"text-align: right;\">\n",
       "      <th></th>\n",
       "      <th>TR_ID</th>\n",
       "      <th>Product</th>\n",
       "      <th>Quantity</th>\n",
       "      <th>Purchase_price</th>\n",
       "      <th>Sale_price</th>\n",
       "    </tr>\n",
       "  </thead>\n",
       "  <tbody>\n",
       "    <tr>\n",
       "      <th>0</th>\n",
       "      <td>C23</td>\n",
       "      <td>Telephone</td>\n",
       "      <td>420</td>\n",
       "      <td>223</td>\n",
       "      <td>300</td>\n",
       "    </tr>\n",
       "    <tr>\n",
       "      <th>1</th>\n",
       "      <td>C24</td>\n",
       "      <td>Monitors</td>\n",
       "      <td>140</td>\n",
       "      <td>344</td>\n",
       "      <td>435</td>\n",
       "    </tr>\n",
       "    <tr>\n",
       "      <th>2</th>\n",
       "      <td>C25</td>\n",
       "      <td>Car</td>\n",
       "      <td>234</td>\n",
       "      <td>223</td>\n",
       "      <td>329</td>\n",
       "    </tr>\n",
       "    <tr>\n",
       "      <th>3</th>\n",
       "      <td>C26</td>\n",
       "      <td>Rent</td>\n",
       "      <td>114</td>\n",
       "      <td>169</td>\n",
       "      <td>544</td>\n",
       "    </tr>\n",
       "    <tr>\n",
       "      <th>4</th>\n",
       "      <td>C27</td>\n",
       "      <td>Services</td>\n",
       "      <td>56</td>\n",
       "      <td>169</td>\n",
       "      <td>323</td>\n",
       "    </tr>\n",
       "    <tr>\n",
       "      <th>5</th>\n",
       "      <td>C28</td>\n",
       "      <td>Training</td>\n",
       "      <td>13</td>\n",
       "      <td>223</td>\n",
       "      <td>329</td>\n",
       "    </tr>\n",
       "  </tbody>\n",
       "</table>\n",
       "</div>"
      ],
      "text/plain": [
       "  TR_ID    Product  Quantity  Purchase_price  Sale_price\n",
       "0   C23  Telephone       420             223         300\n",
       "1   C24   Monitors       140             344         435\n",
       "2   C25        Car       234             223         329\n",
       "3   C26       Rent       114             169         544\n",
       "4   C27   Services        56             169         323\n",
       "5   C28   Training        13             223         329"
      ]
     },
     "execution_count": 10,
     "metadata": {},
     "output_type": "execute_result"
    }
   ],
   "source": [
    "dbase5 = dict_df_db.delete_col(dbase4, 'Debit')\n",
    "dbase5"
   ]
  },
  {
   "cell_type": "code",
   "execution_count": 11,
   "id": "c5ce753c",
   "metadata": {},
   "outputs": [
    {
     "data": {
      "application/vnd.microsoft.datawrangler.viewer.v0+json": {
       "columns": [
        {
         "name": "index",
         "rawType": "int64",
         "type": "integer"
        },
        {
         "name": "TR_ID",
         "rawType": "object",
         "type": "string"
        },
        {
         "name": "Product",
         "rawType": "object",
         "type": "string"
        },
        {
         "name": "Quantity",
         "rawType": "int64",
         "type": "integer"
        },
        {
         "name": "Purchase_price",
         "rawType": "int64",
         "type": "integer"
        },
        {
         "name": "Sale_price",
         "rawType": "int64",
         "type": "integer"
        },
        {
         "name": "Department",
         "rawType": "object",
         "type": "string"
        }
       ],
       "ref": "fb5dcb72-5f4f-4fc7-b25d-8dc5f25de30a",
       "rows": [
        [
         "0",
         "C23",
         "Telephone",
         "420",
         "223",
         "300",
         "IT"
        ],
        [
         "1",
         "C24",
         "Monitors",
         "140",
         "344",
         "435",
         "IT"
        ],
        [
         "2",
         "C25",
         "Car",
         "234",
         "223",
         "329",
         "Transport"
        ],
        [
         "3",
         "C26",
         "Rent",
         "114",
         "169",
         "544",
         "Consultancy"
        ],
        [
         "4",
         "C27",
         "Services",
         "56",
         "169",
         "323",
         "Consultancy"
        ],
        [
         "5",
         "C28",
         "Training",
         "13",
         "223",
         "329",
         "Education"
        ]
       ],
       "shape": {
        "columns": 6,
        "rows": 6
       }
      },
      "text/html": [
       "<div>\n",
       "<style scoped>\n",
       "    .dataframe tbody tr th:only-of-type {\n",
       "        vertical-align: middle;\n",
       "    }\n",
       "\n",
       "    .dataframe tbody tr th {\n",
       "        vertical-align: top;\n",
       "    }\n",
       "\n",
       "    .dataframe thead th {\n",
       "        text-align: right;\n",
       "    }\n",
       "</style>\n",
       "<table border=\"1\" class=\"dataframe\">\n",
       "  <thead>\n",
       "    <tr style=\"text-align: right;\">\n",
       "      <th></th>\n",
       "      <th>TR_ID</th>\n",
       "      <th>Product</th>\n",
       "      <th>Quantity</th>\n",
       "      <th>Purchase_price</th>\n",
       "      <th>Sale_price</th>\n",
       "      <th>Department</th>\n",
       "    </tr>\n",
       "  </thead>\n",
       "  <tbody>\n",
       "    <tr>\n",
       "      <th>0</th>\n",
       "      <td>C23</td>\n",
       "      <td>Telephone</td>\n",
       "      <td>420</td>\n",
       "      <td>223</td>\n",
       "      <td>300</td>\n",
       "      <td>IT</td>\n",
       "    </tr>\n",
       "    <tr>\n",
       "      <th>1</th>\n",
       "      <td>C24</td>\n",
       "      <td>Monitors</td>\n",
       "      <td>140</td>\n",
       "      <td>344</td>\n",
       "      <td>435</td>\n",
       "      <td>IT</td>\n",
       "    </tr>\n",
       "    <tr>\n",
       "      <th>2</th>\n",
       "      <td>C25</td>\n",
       "      <td>Car</td>\n",
       "      <td>234</td>\n",
       "      <td>223</td>\n",
       "      <td>329</td>\n",
       "      <td>Transport</td>\n",
       "    </tr>\n",
       "    <tr>\n",
       "      <th>3</th>\n",
       "      <td>C26</td>\n",
       "      <td>Rent</td>\n",
       "      <td>114</td>\n",
       "      <td>169</td>\n",
       "      <td>544</td>\n",
       "      <td>Consultancy</td>\n",
       "    </tr>\n",
       "    <tr>\n",
       "      <th>4</th>\n",
       "      <td>C27</td>\n",
       "      <td>Services</td>\n",
       "      <td>56</td>\n",
       "      <td>169</td>\n",
       "      <td>323</td>\n",
       "      <td>Consultancy</td>\n",
       "    </tr>\n",
       "    <tr>\n",
       "      <th>5</th>\n",
       "      <td>C28</td>\n",
       "      <td>Training</td>\n",
       "      <td>13</td>\n",
       "      <td>223</td>\n",
       "      <td>329</td>\n",
       "      <td>Education</td>\n",
       "    </tr>\n",
       "  </tbody>\n",
       "</table>\n",
       "</div>"
      ],
      "text/plain": [
       "  TR_ID    Product  Quantity  Purchase_price  Sale_price   Department\n",
       "0   C23  Telephone       420             223         300           IT\n",
       "1   C24   Monitors       140             344         435           IT\n",
       "2   C25        Car       234             223         329    Transport\n",
       "3   C26       Rent       114             169         544  Consultancy\n",
       "4   C27   Services        56             169         323  Consultancy\n",
       "5   C28   Training        13             223         329    Education"
      ]
     },
     "execution_count": 11,
     "metadata": {},
     "output_type": "execute_result"
    }
   ],
   "source": [
    "dbase6 = dict_df_db.add_col(dbase5, 'Department')\n",
    "dbase6"
   ]
  }
 ],
 "metadata": {
  "kernelspec": {
   "display_name": ".venv",
   "language": "python",
   "name": "python3"
  },
  "language_info": {
   "codemirror_mode": {
    "name": "ipython",
    "version": 3
   },
   "file_extension": ".py",
   "mimetype": "text/x-python",
   "name": "python",
   "nbconvert_exporter": "python",
   "pygments_lexer": "ipython3",
   "version": "3.13.1"
  }
 },
 "nbformat": 4,
 "nbformat_minor": 5
}
