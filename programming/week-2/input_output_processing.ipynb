{
 "cells": [
  {
   "cell_type": "markdown",
   "metadata": {},
   "source": [
    "# Questions - Input, Output, and Processing"
   ]
  },
  {
   "cell_type": "markdown",
   "metadata": {},
   "source": [
    "## 1. Personal Information\n",
    "Write a program that displays the following information:\n",
    "\n",
    " 1. Your Name \n",
    " 2. Your Address, with City, County, and ZIP CODE\n",
    " 3. Your telephone number\n",
    " 4. Your College degree"
   ]
  },
  {
   "cell_type": "code",
   "execution_count": null,
   "metadata": {},
   "outputs": [],
   "source": [
    "def get_details() -> None:\n",
    "    \"\"\"Take user input for details.\"\"\"\n",
    "    # Details to request from user\n",
    "    questions = [\n",
    "        'Full Name:',\n",
    "        'Street Address:',\n",
    "        'City:',\n",
    "        'County:',\n",
    "        'Zip Code:',\n",
    "        'Telephone Number:',\n",
    "        'Qualifications:',\n",
    "    ]\n",
    "\n",
    "    # String comprehension to take input for requested info\n",
    "    print('Please input the following info:')\n",
    "    personal_details = [input(question) for question in questions]\n",
    "\n",
    "    # Print user data with info titles\n",
    "    for question, item in zip(questions, personal_details, strict=True):\n",
    "        print(f'{question} {item}')"
   ]
  },
  {
   "cell_type": "code",
   "execution_count": 19,
   "metadata": {},
   "outputs": [
    {
     "name": "stdout",
     "output_type": "stream",
     "text": [
      "Please input the following info:\n",
      "Full Name: Jacob Shen\n",
      "Street Address: 123 Sesame St.\n",
      "City: Dublin 8\n",
      "County: Dublin\n",
      "Zip Code: V89 S3N4\n",
      "Telephone Number: 0855555555\n",
      "Qualifications: Computer Science\n"
     ]
    }
   ],
   "source": [
    "get_details()"
   ]
  },
  {
   "cell_type": "markdown",
   "metadata": {},
   "source": [
    "## 2. Total Purchase\n",
    "A customer in a store is purchasing five items. Write a program that asks for the price of each item, then display the subtotal of the sales, the amount of sales tax, and the total. \n",
    "\n",
    "Assume sales tax is 7%. "
   ]
  },
  {
   "cell_type": "code",
   "execution_count": null,
   "metadata": {},
   "outputs": [],
   "source": [
    "def calculate_total(num_items:int=5) -> None:\n",
    "    \"\"\"Take input of item prices and calculate total sales cost.\n",
    "\n",
    "    Args:\n",
    "        num_items (int, optional): number of purchase items. Defaults to 5.\n",
    "\n",
    "    \"\"\"\n",
    "    prices = []\n",
    "    print(\n",
    "        'Please input item prices with two decimal points, ex. 12.95.'\n",
    "        '\\nLong decimals will be rounded to two decimal points.',\n",
    "    )\n",
    "\n",
    "    # Ask for item prices for as many items are requested\n",
    "    for num in range(num_items):\n",
    "        # Loop that checks the item info is correctly input.\n",
    "        while True:\n",
    "            try:\n",
    "                item = round(float(input(f'Price of item {num + 1}:')), 2)\n",
    "                prices.append(item)\n",
    "                break\n",
    "            except ValueError:\n",
    "                print(\n",
    "                    'Please input only numbers with two decimal points'\n",
    "                    ', ex. 12.95.',\n",
    "                )\n"
   ]
  },
  {
   "cell_type": "code",
   "execution_count": null,
   "metadata": {},
   "outputs": [
    {
     "name": "stdout",
     "output_type": "stream",
     "text": [
      "Please input item prices with two decimal points, ex. 12.95.\n",
      "Longer decimals will be rounded to two.\n",
      "[12.0, 123232.0, 231.12, 23.0, 23.32]\n"
     ]
    }
   ],
   "source": []
  }
 ],
 "metadata": {
  "kernelspec": {
   "display_name": ".venv",
   "language": "python",
   "name": "python3"
  },
  "language_info": {
   "codemirror_mode": {
    "name": "ipython",
    "version": 3
   },
   "file_extension": ".py",
   "mimetype": "text/x-python",
   "name": "python",
   "nbconvert_exporter": "python",
   "pygments_lexer": "ipython3",
   "version": "3.13.1"
  }
 },
 "nbformat": 4,
 "nbformat_minor": 2
}
