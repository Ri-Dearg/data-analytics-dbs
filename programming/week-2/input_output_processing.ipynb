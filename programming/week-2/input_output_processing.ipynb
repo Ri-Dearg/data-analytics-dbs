{
 "cells": [
  {
   "cell_type": "markdown",
   "metadata": {},
   "source": [
    "# Questions - Input, Output, and Processing\n"
   ]
  },
  {
   "cell_type": "code",
   "execution_count": 29,
   "metadata": {},
   "outputs": [],
   "source": [
    "from colorama import Fore, Style"
   ]
  },
  {
   "cell_type": "markdown",
   "metadata": {},
   "source": [
    "### Utilities\n"
   ]
  },
  {
   "cell_type": "code",
   "execution_count": 46,
   "metadata": {},
   "outputs": [],
   "source": [
    "def positive_number_validation(num: float) -> None:\n",
    "    \"\"\"Ensure number is positive.\"\"\"\n",
    "    if num < 0:\n",
    "        raise ValueError\n",
    "\n",
    "\n",
    "def validate_input_num(prompt: str, err_msg: str, is_int=True) -> str:\n",
    "    \"\"\"Validate inputs to check that they are positive numbers.\n",
    "\n",
    "    Args:\n",
    "        prompt (str): prompt for the input.\n",
    "        err_msg (str): error message to display on failure.\n",
    "\n",
    "    Returns:\n",
    "        str: return the prompt if everything passes.\n",
    "\n",
    "    \"\"\"\n",
    "    while True:\n",
    "        try:\n",
    "            value = input(prompt)\n",
    "            test_num = int(value) if is_int else float(value)\n",
    "            positive_number_validation(test_num)\n",
    "        except ValueError:\n",
    "            print(Fore.RED + err_msg + Style.RESET_ALL)\n",
    "        else:\n",
    "            return value\n"
   ]
  },
  {
   "cell_type": "markdown",
   "metadata": {},
   "source": [
    "## 1. Personal Information\n",
    "\n",
    "Write a program that displays the following information:\n",
    "\n",
    "1.  Your Name\n",
    "2.  Your Address, with City, County, and ZIP CODE\n",
    "3.  Your telephone number\n",
    "4.  Your College degree\n"
   ]
  },
  {
   "cell_type": "code",
   "execution_count": 22,
   "metadata": {},
   "outputs": [],
   "source": [
    "def get_details() -> None:\n",
    "    \"\"\"Take user input for details.\"\"\"\n",
    "    # Details to request from user\n",
    "    questions = [\n",
    "        'Full Name:',\n",
    "        'Street Address:',\n",
    "        'City:',\n",
    "        'County:',\n",
    "        'Zip Code:',\n",
    "        'Telephone Number:',\n",
    "        'Qualifications:',\n",
    "    ]\n",
    "\n",
    "    # String comprehension to take input for requested info\n",
    "    print('Please input the following info:')\n",
    "    personal_details = [input(question) for question in questions]\n",
    "\n",
    "    # Print user data with info titles\n",
    "    for question, item in zip(questions, personal_details, strict=True):\n",
    "        print(f'{question} {item}')"
   ]
  },
  {
   "cell_type": "code",
   "execution_count": 23,
   "metadata": {},
   "outputs": [
    {
     "name": "stdout",
     "output_type": "stream",
     "text": [
      "Please input the following info:\n",
      "Full Name: \n",
      "Street Address: \n",
      "City: \n",
      "County: \n",
      "Zip Code: \n",
      "Telephone Number: \n",
      "Qualifications: \n"
     ]
    }
   ],
   "source": [
    "get_details()"
   ]
  },
  {
   "cell_type": "markdown",
   "metadata": {},
   "source": [
    "## 2. Total Purchase\n",
    "\n",
    "A customer in a store is purchasing five items. Write a program that asks for the price of each item, then display the subtotal of the sales, the amount of sales tax, and the total.\n",
    "\n",
    "Assume sales tax is 7%.\n"
   ]
  },
  {
   "cell_type": "code",
   "execution_count": 51,
   "metadata": {},
   "outputs": [],
   "source": [
    "def calculate_total(num_items: int = 5) -> None:\n",
    "    \"\"\"Take input of item prices and calculate total sales cost.\n",
    "\n",
    "    Args:\n",
    "        num_items (int, optional): number of purchase items. Defaults to 5.\n",
    "\n",
    "    \"\"\"\n",
    "    print(\n",
    "        'Please input item prices with two decimal points, ex. 12.95.'\n",
    "        '\\nLong decimals will be rounded to two decimal points.',\n",
    "    )\n",
    "\n",
    "    prices = []\n",
    "    err_msg = 'Please input positive numbers with two decimals, ex.12.95.'\n",
    "\n",
    "    # Ask for item prices for as many items are requested\n",
    "    for num in range(num_items):\n",
    "        prompt = f'Price of item {num + 1}:'\n",
    "        # Loop that checks the item info is correctly input.\n",
    "        value = validate_input_num(prompt, err_msg, is_int=False)\n",
    "        item = round(float(value), 2)\n",
    "        prices.append(item)\n",
    "\n",
    "    subtotal = 0\n",
    "    for price in prices:\n",
    "        subtotal += price\n",
    "\n",
    "    sales_tax = round(subtotal * 7 / 100, 2)\n",
    "    grand_total = subtotal + sales_tax\n",
    "\n",
    "    print(f'Subtotal: {subtotal:.2f}')\n",
    "    print(Fore.YELLOW + f'7% Sales Tax: {sales_tax:.2f}' + Style.RESET_ALL)\n",
    "    print(Fore.GREEN + f'Grand Total: {grand_total:.2f}' + Style.RESET_ALL)"
   ]
  },
  {
   "cell_type": "code",
   "execution_count": 52,
   "metadata": {},
   "outputs": [
    {
     "name": "stdout",
     "output_type": "stream",
     "text": [
      "Please input item prices with two decimal points, ex. 12.95.\n",
      "Long decimals will be rounded to two decimal points.\n",
      "\u001b[31mPlease input positive numbers with two decimals, ex.12.95.\u001b[0m\n",
      "\u001b[31mPlease input positive numbers with two decimals, ex.12.95.\u001b[0m\n",
      "Subtotal: 63.96\n",
      "\u001b[33m7% Sales Tax: 4.48\u001b[0m\n",
      "\u001b[32mGrand Total: 68.44\u001b[0m\n"
     ]
    }
   ],
   "source": [
    "calculate_total()"
   ]
  },
  {
   "cell_type": "markdown",
   "metadata": {},
   "source": [
    "## 3. Distance Travelled\n",
    "\n",
    "The distance a car drives down the interstate can be calculated with the formula:\n",
    "Distance = Speed x Time\n",
    "\n",
    "A car travels at 70mph. Write a program that displays the following:\n",
    "\n",
    "1. The distance the car will travel in 6 hours\n",
    "2. The distance the car will travel in 10 hours\n",
    "3. The distance the car will travel in 15hours\n"
   ]
  },
  {
   "cell_type": "code",
   "execution_count": 42,
   "metadata": {},
   "outputs": [],
   "source": [
    "from multiprocessing import Value\n",
    "\n",
    "\n",
    "def calc_distance(speed=70) -> None:\n",
    "    \"\"\"Calculate the distance of a car traveling at a set speed.\"\"\"\n",
    "    # The following version requests input for the desired time\n",
    "    print(\n",
    "        'A car is traveling at 70mph.\\n'\n",
    "        'This app will calculate the distance based on the time input.',\n",
    "    )\n",
    "    prompt = 'Time in hours:'\n",
    "    err_msg = 'Please input positive whole numbers, ex. 12.'\n",
    "    value = validate_input_num(prompt, err_msg)\n",
    "    time = int(value)\n",
    "\n",
    "    distance = time * 70\n",
    "    print(f'The car will travel {distance} miles in {time} hours.')\n",
    "\n",
    "    times = [6, 10, 15]\n",
    "    for hrs in times:\n",
    "        distance = hrs * speed\n",
    "        print(f'The car will travel {distance} miles in {hrs} hours.')"
   ]
  },
  {
   "cell_type": "code",
   "execution_count": 44,
   "metadata": {},
   "outputs": [
    {
     "name": "stdout",
     "output_type": "stream",
     "text": [
      "A car is traveling at 70mph.\n",
      "This app will calculate the distance based on the time input.\n",
      "\u001b[31mPlease input positive whole numbers, ex. 12.\u001b[0m\n",
      "\u001b[31mPlease input positive whole numbers, ex. 12.\u001b[0m\n",
      "\u001b[31mPlease input positive whole numbers, ex. 12.\u001b[0m\n",
      "\u001b[31mPlease input positive whole numbers, ex. 12.\u001b[0m\n",
      "The car will travel 140 miles in 2 hours.\n",
      "The car will travel 420 miles in 6 hours.\n",
      "The car will travel 700 miles in 10 hours.\n",
      "The car will travel 1050 miles in 15 hours.\n"
     ]
    }
   ],
   "source": [
    "calc_distance()"
   ]
  },
  {
   "cell_type": "markdown",
   "metadata": {},
   "source": [
    "## 4. Miles per Gallons\n",
    "\n",
    "A cars MPG can be calculated with the following formula\n",
    "\n",
    "MPG = Miles Driven / Gallons of Diesel used\n",
    "\n",
    "Write a program that asks the user for the number of miles driven and gallons of diesel used.\n",
    "It should calculate the car's MPG and display the result.\n"
   ]
  },
  {
   "cell_type": "code",
   "execution_count": null,
   "metadata": {},
   "outputs": [],
   "source": [
    "def calculate_mpg():\n",
    "    \"\"\"Requests user input to calculate Miles Per Gallon.\"\"\"\n",
    "    print('This app calculates the miles per gallon of a vehicle.')\n",
    "    # while True:\n",
    "    #     try:"
   ]
  }
 ],
 "metadata": {
  "kernelspec": {
   "display_name": ".venv",
   "language": "python",
   "name": "python3"
  },
  "language_info": {
   "codemirror_mode": {
    "name": "ipython",
    "version": 3
   },
   "file_extension": ".py",
   "mimetype": "text/x-python",
   "name": "python",
   "nbconvert_exporter": "python",
   "pygments_lexer": "ipython3",
   "version": "3.13.1"
  }
 },
 "nbformat": 4,
 "nbformat_minor": 2
}
