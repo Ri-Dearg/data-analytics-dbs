{
 "cells": [
  {
   "cell_type": "markdown",
   "metadata": {},
   "source": [
    "# Questions - Input, Output, and Processing"
   ]
  },
  {
   "cell_type": "markdown",
   "metadata": {},
   "source": [
    "## 1. Personal Information\n",
    "Write a program that displays the following information:\n",
    "\n",
    " 1. Your Name \n",
    " 2. Your Address, with City, County, and ZIP CODE\n",
    " 3. Your telephone number\n",
    " 4. Your College degree"
   ]
  },
  {
   "cell_type": "code",
   "execution_count": null,
   "metadata": {},
   "outputs": [],
   "source": [
    "def get_details() -> None:\n",
    "    \"\"\"Take user input for details.\"\"\"\n",
    "    # Details to request from user\n",
    "    questions = [\n",
    "        'Full Name:',\n",
    "        'Street Address:',\n",
    "        'City:',\n",
    "        'County:',\n",
    "        'Zip Code:',\n",
    "        'Telephone Number:',\n",
    "        'Qualifications:',\n",
    "    ]\n",
    "\n",
    "    # String comprehension to take input for requested info\n",
    "    print('Please input the following info:')\n",
    "    personal_details = [input(question) for question in questions]\n",
    "\n",
    "    # Print user data with info titles\n",
    "    for question, item in zip(questions, personal_details, strict=True):\n",
    "        print(f'{question} {item}')"
   ]
  },
  {
   "cell_type": "code",
   "execution_count": 19,
   "metadata": {},
   "outputs": [
    {
     "name": "stdout",
     "output_type": "stream",
     "text": [
      "Please input the following info:\n",
      "Full Name: Jacob Shen\n",
      "Street Address: 123 Sesame St.\n",
      "City: Dublin 8\n",
      "County: Dublin\n",
      "Zip Code: V89 S3N4\n",
      "Telephone Number: 0855555555\n",
      "Qualifications: Computer Science\n"
     ]
    }
   ],
   "source": [
    "get_details()"
   ]
  },
  {
   "cell_type": "markdown",
   "metadata": {},
   "source": [
    "## 2. Total Purchase\n",
    "A customer in a store is purchasing five items. Write a program that asks for the price of each item, then display the subtotal of the sales, the amount of sales tax, and the total. \n",
    "\n",
    "Assume sales tax is 7%. "
   ]
  },
  {
   "cell_type": "code",
   "execution_count": 43,
   "metadata": {},
   "outputs": [],
   "source": [
    "from colorama import Fore, Style"
   ]
  },
  {
   "cell_type": "code",
   "execution_count": 47,
   "metadata": {},
   "outputs": [],
   "source": [
    "def calculate_total(num_items: int = 5) -> None:\n",
    "    \"\"\"Take input of item prices and calculate total sales cost.\n",
    "\n",
    "    Args:\n",
    "        num_items (int, optional): number of purchase items. Defaults to 5.\n",
    "\n",
    "    \"\"\"\n",
    "    print(\n",
    "        'Please input item prices with two decimal points, ex. 12.95.'\n",
    "        '\\nLong decimals will be rounded to two decimal points.',\n",
    "    )\n",
    "\n",
    "    prices = []\n",
    "    # Ask for item prices for as many items are requested\n",
    "    for num in range(num_items):\n",
    "        # Loop that checks the item info is correctly input.\n",
    "        while True:\n",
    "            try:\n",
    "                item = round(float(input(f'Price of item {num + 1}:')), 2)\n",
    "                if item < 0:\n",
    "                    print(\n",
    "                        Fore.RED\n",
    "                        + 'Please input only positive numbers.'\n",
    "                        + Style.RESET_ALL,\n",
    "                    )\n",
    "                    continue\n",
    "                prices.append(item)\n",
    "                break\n",
    "            except ValueError:\n",
    "                print(\n",
    "                    Fore.RED\n",
    "                    + 'Please input positive numbers with two decimal points'\n",
    "                    ', ex. 12.95.' + Style.RESET_ALL,\n",
    "                )\n",
    "    subtotal = 0\n",
    "    for price in prices:\n",
    "        subtotal += price\n",
    "\n",
    "    sales_tax = round(subtotal * 7 / 100, 2)\n",
    "    grand_total = subtotal + sales_tax\n",
    "\n",
    "    print(f'Subtotal: {subtotal:.2f}')\n",
    "    print(Fore.YELLOW + f'7% Sales Tax: {sales_tax:.2f}' + Style.RESET_ALL)\n",
    "    print(Fore.GREEN + f'Grand Total: {grand_total:.2f}' + Style.RESET_ALL)"
   ]
  },
  {
   "cell_type": "code",
   "execution_count": 48,
   "metadata": {},
   "outputs": [
    {
     "name": "stdout",
     "output_type": "stream",
     "text": [
      "Please input item prices with two decimal points, ex. 12.95.\n",
      "Long decimals will be rounded to two decimal points.\n",
      "Subtotal: 15.00\n",
      "7% Sales Tax: 1.05\n",
      "Grand Total: 16.05\n"
     ]
    }
   ],
   "source": [
    "calculate_total()"
   ]
  },
  {
   "cell_type": "code",
   "execution_count": null,
   "metadata": {},
   "outputs": [],
   "source": []
  }
 ],
 "metadata": {
  "kernelspec": {
   "display_name": ".venv",
   "language": "python",
   "name": "python3"
  },
  "language_info": {
   "codemirror_mode": {
    "name": "ipython",
    "version": 3
   },
   "file_extension": ".py",
   "mimetype": "text/x-python",
   "name": "python",
   "nbconvert_exporter": "python",
   "pygments_lexer": "ipython3",
   "version": "3.13.1"
  }
 },
 "nbformat": 4,
 "nbformat_minor": 2
}
