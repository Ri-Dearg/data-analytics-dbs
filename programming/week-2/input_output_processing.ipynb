{
 "cells": [
  {
   "cell_type": "markdown",
   "metadata": {},
   "source": [
    "# Questions - Input, Output, and Processing"
   ]
  },
  {
   "cell_type": "markdown",
   "metadata": {},
   "source": [
    "## 1. Personal Information\n",
    "Write a program that displays the following information:\n",
    "\n",
    " 1. Your Name \n",
    " 2. Your Address, with City, County, and ZIP CODE\n",
    " 3. Your telephone number\n",
    " 4. Your College degree"
   ]
  },
  {
   "cell_type": "code",
   "execution_count": null,
   "metadata": {},
   "outputs": [],
   "source": [
    "def get_details() -> None:\n",
    "    \"\"\"Take user input for details.\"\"\"\n",
    "    questions = [\n",
    "        'Full Name:',\n",
    "        'Street Address:',\n",
    "        'City:',\n",
    "        'County:',\n",
    "        'Zip Code:',\n",
    "        'Telephone Number:',\n",
    "        'Qualifications:',\n",
    "    ]\n",
    "\n",
    "    print('Please input the following info:')\n",
    "    personal_details = [input(question) for question in questions]\n",
    "\n",
    "    for question, item in zip(questions, personal_details, strict=True):\n",
    "        print(f'{question} {item}')"
   ]
  },
  {
   "cell_type": "code",
   "execution_count": 16,
   "metadata": {},
   "outputs": [
    {
     "name": "stdout",
     "output_type": "stream",
     "text": [
      "Please input the following info:\n",
      "Name: RPS\n",
      "Street Address: d\n",
      "City: d\n",
      "County: d\n",
      "Zip Code: d\n",
      "Telephone Number: d\n",
      "Qualifications: d\n"
     ]
    }
   ],
   "source": [
    "get_details()"
   ]
  }
 ],
 "metadata": {
  "kernelspec": {
   "display_name": ".venv",
   "language": "python",
   "name": "python3"
  },
  "language_info": {
   "codemirror_mode": {
    "name": "ipython",
    "version": 3
   },
   "file_extension": ".py",
   "mimetype": "text/x-python",
   "name": "python",
   "nbconvert_exporter": "python",
   "pygments_lexer": "ipython3",
   "version": "3.13.1"
  }
 },
 "nbformat": 4,
 "nbformat_minor": 2
}
