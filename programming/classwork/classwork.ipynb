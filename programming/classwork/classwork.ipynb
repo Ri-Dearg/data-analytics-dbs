{
 "cells": [
  {
   "cell_type": "markdown",
   "id": "2889dea3",
   "metadata": {},
   "source": [
    "## Dataframes\n"
   ]
  },
  {
   "cell_type": "code",
   "execution_count": 14,
   "id": "bd61e196",
   "metadata": {},
   "outputs": [],
   "source": [
    "import pandas as pd"
   ]
  },
  {
   "cell_type": "code",
   "execution_count": 15,
   "id": "ca45ae4f",
   "metadata": {},
   "outputs": [
    {
     "name": "stdout",
     "output_type": "stream",
     "text": [
      "      Names  Breakfast  Lunch  Dinner\n",
      "0      John       25.2   21.9    90.5\n",
      "1  Kingsley       36.0   19.8    52.1\n",
      "2    Thomas        9.8   72.4    68.1\n"
     ]
    }
   ],
   "source": [
    "feeding = {\n",
    "    'Names': ['John', 'Kingsley', 'Thomas'],\n",
    "    'Breakfast': [25.2, 36.0, 9.8],\n",
    "    'Lunch': [21.9, 19.8, 72.4],\n",
    "    'Dinner': [90.5, 52.1, 68.1],\n",
    "}\n",
    "\n",
    "food_table = pd.DataFrame(data=feeding)\n",
    "\n",
    "print(food_table)"
   ]
  },
  {
   "cell_type": "code",
   "execution_count": 16,
   "id": "a1e962fb",
   "metadata": {},
   "outputs": [
    {
     "data": {
      "text/html": [
       "<div>\n",
       "<style scoped>\n",
       "    .dataframe tbody tr th:only-of-type {\n",
       "        vertical-align: middle;\n",
       "    }\n",
       "\n",
       "    .dataframe tbody tr th {\n",
       "        vertical-align: top;\n",
       "    }\n",
       "\n",
       "    .dataframe thead th {\n",
       "        text-align: right;\n",
       "    }\n",
       "</style>\n",
       "<table border=\"1\" class=\"dataframe\">\n",
       "  <thead>\n",
       "    <tr style=\"text-align: right;\">\n",
       "      <th></th>\n",
       "      <th>Names</th>\n",
       "      <th>Breakfast</th>\n",
       "      <th>Lunch</th>\n",
       "      <th>Dinner</th>\n",
       "    </tr>\n",
       "  </thead>\n",
       "  <tbody>\n",
       "    <tr>\n",
       "      <th>0</th>\n",
       "      <td>John</td>\n",
       "      <td>25.2</td>\n",
       "      <td>21.9</td>\n",
       "      <td>90.5</td>\n",
       "    </tr>\n",
       "    <tr>\n",
       "      <th>1</th>\n",
       "      <td>Kingsley</td>\n",
       "      <td>36.0</td>\n",
       "      <td>19.8</td>\n",
       "      <td>52.1</td>\n",
       "    </tr>\n",
       "    <tr>\n",
       "      <th>2</th>\n",
       "      <td>Thomas</td>\n",
       "      <td>9.8</td>\n",
       "      <td>72.4</td>\n",
       "      <td>68.1</td>\n",
       "    </tr>\n",
       "  </tbody>\n",
       "</table>\n",
       "</div>"
      ],
      "text/plain": [
       "      Names  Breakfast  Lunch  Dinner\n",
       "0      John       25.2   21.9    90.5\n",
       "1  Kingsley       36.0   19.8    52.1\n",
       "2    Thomas        9.8   72.4    68.1"
      ]
     },
     "execution_count": 16,
     "metadata": {},
     "output_type": "execute_result"
    }
   ],
   "source": [
    "food_table"
   ]
  },
  {
   "cell_type": "markdown",
   "id": "24cf470a",
   "metadata": {},
   "source": [
    "class question:\n",
    "\n",
    "Enhance the Company class to:\n",
    "\n",
    "Include a method calculate_tax() that:\n",
    "\n",
    "Applies 20% tax if revenue > 100,000\n",
    "\n",
    "Applies 10% tax otherwise\n",
    "\n",
    "Update the calculate_profit() method to subtract tax from profit\n",
    "\n",
    "Use display_summary() to print revenue, tax, expenditure, and final profit\n"
   ]
  },
  {
   "cell_type": "code",
   "execution_count": 7,
   "id": "ff85f0d8",
   "metadata": {},
   "outputs": [
    {
     "name": "stdout",
     "output_type": "stream",
     "text": [
      "Total sales:         $100000.00\n",
      "Total expenditure:   $50000.00\n",
      "Total revenue:       $50000.00\n",
      "Total tax:           $5000.00\n",
      "Total profit:        $45000.00\n",
      "\n"
     ]
    }
   ],
   "source": [
    "class Company:\n",
    "    def __init__(self, sales, expenditure):\n",
    "        self.sales = sales\n",
    "        self.expenditure = expenditure\n",
    "\n",
    "    def calculate_tax(self, revenue):\n",
    "        return revenue * 0.2 if revenue > 100000 else revenue * 0.1\n",
    "\n",
    "    def calculate_profit(self):\n",
    "        revenue = self.sales - self.expenditure\n",
    "        tax = self.calculate_tax(revenue)\n",
    "        total_profit = revenue - tax\n",
    "        return revenue, self.expenditure, tax, total_profit\n",
    "\n",
    "    def display_info(self):\n",
    "        revenue, expenditure, tax, total_profit = self.calculate_profit()\n",
    "        print(\n",
    "            f'{\"Total sales:\":<20} ${self.sales:.2f}\\n'\n",
    "            f'{\"Total expenditure:\":<20} ${expenditure:.2f}\\n'\n",
    "            f'{\"Total revenue:\":<20} ${revenue:.2f}\\n'\n",
    "            f'{\"Total tax:\":<20} ${tax:.2f}\\n'\n",
    "            f'{\"Total profit:\":<20} ${total_profit:.2f}\\n'\n",
    "        )\n",
    "\n",
    "\n",
    "company = Company(100000, 50000)\n",
    "company.display_info()"
   ]
  }
 ],
 "metadata": {
  "kernelspec": {
   "display_name": ".venv",
   "language": "python",
   "name": "python3"
  },
  "language_info": {
   "codemirror_mode": {
    "name": "ipython",
    "version": 3
   },
   "file_extension": ".py",
   "mimetype": "text/x-python",
   "name": "python",
   "nbconvert_exporter": "python",
   "pygments_lexer": "ipython3",
   "version": "3.13.1"
  }
 },
 "nbformat": 4,
 "nbformat_minor": 5
}
