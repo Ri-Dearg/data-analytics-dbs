{
 "cells": [
  {
   "cell_type": "markdown",
   "metadata": {},
   "source": [
    "# Continuous Assessment 1\n"
   ]
  },
  {
   "cell_type": "markdown",
   "metadata": {},
   "source": [
    "## Additional Libraries and Tools\n"
   ]
  },
  {
   "cell_type": "markdown",
   "metadata": {},
   "source": [
    "### [Github Repo](https://github.com/Ri-Dearg/data-analytics-dbs/)\n",
    "This file and its commit history [can be found by clicking here](https://github.com/Ri-Dearg/data-analytics-dbs/blob/main/programming/ca1/ca1.ipynb).\n",
    "\n",
    "### [Colorama](https://pypi.org/project/colorama/)\n",
    "Used to give feedback in varied colours in the terminal.\n",
    "\n",
    "### [Pylint](https://www.pylint.org)\n",
    "Used as a linter for code quality control.\n",
    "\n",
    "### [Ruff](https://docs.astral.sh/ruff/)\n",
    "Used as both a linter and a formatter. Configuration has been adjusted to conform to PEP8 standard.  \n",
    "\n"
   ]
  },
  {
   "cell_type": "code",
   "execution_count": 2,
   "metadata": {},
   "outputs": [],
   "source": [
    "\n",
    "# Necessary imports.\n",
    "from pathlib import Path\n",
    "\n",
    "# Add colour to text.\n",
    "from colorama import Fore, Style"
   ]
  },
  {
   "cell_type": "markdown",
   "metadata": {},
   "source": [
    "## Utilities\n",
    "Tools for input validation used throughout the notebook.\n"
   ]
  },
  {
   "cell_type": "markdown",
   "metadata": {},
   "source": [
    "### Code Explanation\n",
    "These functions were created to validate numeric input, display an error message and request the user try again with the correct format. Many questions require numeric input, and also that the number is positive. While doing the questions, I had repeated the same code numerous times, and so decided to create a utility function to be used throughout the notebook.  \n",
    "  \n",
    "- `validate_input_num` is the main function, taking in the question, and whether the number must be an int or a float. It uses a `while` loop and `try / except` to deal with invalid input. Requesting correct input until the user inputs it or exits. \n",
    "   \n",
    "- `parse_input` tries to convert the string input to an int or float. Failing with raise a `ValueError`.  \n",
    "- `positive_number_validation` checks that the number is greater than zero. If it isn't, it raises a `ValueError`, triggering the `except` block of the function."
   ]
  },
  {
   "cell_type": "code",
   "execution_count": 3,
   "metadata": {},
   "outputs": [],
   "source": [
    "def positive_number_validation(num: float) -> None:\n",
    "    \"\"\"Ensure number is positive, throw error if not.\"\"\"\n",
    "    if num < 0:\n",
    "        raise ValueError\n",
    "\n",
    "\n",
    "def parse_input(value: str, *, is_int: bool) -> int | float:\n",
    "    \"\"\"Parse string as an int or float.\n",
    "\n",
    "    Args:\n",
    "        value (str): user input\n",
    "        is_int (bool): sets if it is an int or float.\n",
    "\n",
    "    Returns:\n",
    "        int|float: Converted user input.\n",
    "\n",
    "    \"\"\"\n",
    "    return int(value) if is_int else float(value)\n",
    "\n",
    "\n",
    "def validate_input_num(user_input: str, *, is_int: bool) -> str:\n",
    "    \"\"\"Validate inputs to check that they are positive numbers.\n",
    "\n",
    "    Args:\n",
    "        user_input (str): user_input for the input.\n",
    "        is_int (bool): defines whether we are dealing with an integer or float.\n",
    "\n",
    "    Returns:\n",
    "        str: return the user_input if everything passes.\n",
    "\n",
    "    \"\"\"\n",
    "    # Define error messages for ints or floats\n",
    "    if is_int:\n",
    "        err_msg = 'Please input positive whole numbers, ex. \"12\".'\n",
    "    else:\n",
    "        err_msg = (\n",
    "            'Please input positive numbers with two decimals, ex. \"12.95\".'\n",
    "        )\n",
    "\n",
    "    # Use loop to ask for input again if the input is invalid\n",
    "    while True:\n",
    "        try:\n",
    "            value = input(f'{user_input} ')\n",
    "            test_num = parse_input(value, is_int=is_int)\n",
    "            positive_number_validation(test_num)\n",
    "        except ValueError:\n",
    "            # Give feedback with the err_msg\n",
    "            print(Fore.RED + err_msg + Style.RESET_ALL + '\\n')\n",
    "        else:\n",
    "            # Return value if input is valid\n",
    "            return test_num\n"
   ]
  },
  {
   "cell_type": "markdown",
   "metadata": {},
   "source": [
    "### 1. Personal Information\n",
    "\n",
    "Write a program that displays the following information:\n",
    "\n",
    "1.  Your Name\n",
    "2.  Your Address, with City, County, and ZIP CODE\n",
    "3.  Your telephone number\n",
    "4.  Your College degree\n"
   ]
  },
  {
   "cell_type": "code",
   "execution_count": null,
   "metadata": {},
   "outputs": [],
   "source": [
    "def get_details() -> None:\n",
    "    \"\"\"Take user input and print details.\"\"\"\n",
    "    # List of details to request from user\n",
    "    questions = [\n",
    "        'Full Name:',\n",
    "        'Street Address:',\n",
    "        'City:',\n",
    "        'County:',\n",
    "        'Zip Code:',\n",
    "        'Telephone Number:',\n",
    "        'Qualifications:',\n",
    "    ]\n",
    "\n",
    "    # String comprehension to take input for question list, create new list\n",
    "    print('Please input the following info: \\n')\n",
    "    personal_details = [input(f'{question} ') for question in questions]\n",
    "\n",
    "    # Print user data with info titles using zip and loop\n",
    "    for question, item in zip(questions, personal_details, strict=True):\n",
    "        print(f'{question:<18} {item}')"
   ]
  },
  {
   "cell_type": "code",
   "execution_count": 11,
   "metadata": {},
   "outputs": [
    {
     "name": "stdout",
     "output_type": "stream",
     "text": [
      "Please input the following info: \n",
      "\n",
      "Full Name:         Jacob SMith\n",
      "Street Address:    123 sesame st.\n",
      "City:              dublin\n",
      "County:            dublin\n",
      "Zip Code:          112345\n",
      "Telephone Number:  2445667\n",
      "Qualifications:    Degree\n"
     ]
    }
   ],
   "source": [
    "get_details()"
   ]
  },
  {
   "cell_type": "markdown",
   "metadata": {},
   "source": [
    "### 2. Total Purchase\n",
    "\n",
    "A customer in a store is purchasing five items. Write a program that asks for the price of each item, then display the subtotal of the sales, the amount of sales tax, and the total.\n",
    "\n",
    "Assume sales tax is 7%.\n"
   ]
  },
  {
   "cell_type": "code",
   "execution_count": null,
   "metadata": {},
   "outputs": [],
   "source": [
    "def calculate_total(num_items: int = 5) -> None:\n",
    "    \"\"\"Take input of item prices and calculate total sales cost.\n",
    "\n",
    "    Args:\n",
    "        num_items (int, optional): number of purchase items. Defaults to 5.\n",
    "\n",
    "    \"\"\"\n",
    "    print(\n",
    "        'Please input item prices with two decimal points, ex. 12.95.\\n'\n",
    "        'Long decimals will be rounded to two decimal points.\\n',\n",
    "    )\n",
    "\n",
    "    # Initiate list to collect prices\n",
    "    prices = []\n",
    "\n",
    "    # Ask for item prices for as many items are requested\n",
    "    for num in range(num_items):\n",
    "        user_input = f'Price of item {num + 1}:'\n",
    "        # Loop that checks the item info is correctly input.\n",
    "        value = validate_input_num(user_input, is_int=False)\n",
    "        item = round(value, 2)\n",
    "        prices.append(item)\n",
    "\n",
    "    # Calculates the subtotal by adding prices together\n",
    "    subtotal = 0\n",
    "    for price in prices:\n",
    "        subtotal += price\n",
    "\n",
    "    # Calculate tax and then total.\n",
    "    sales_tax = round(subtotal * 7 / 100, 2)\n",
    "    grand_total = subtotal + sales_tax\n",
    "\n",
    "    # Displays prices to user with loop.\n",
    "    for index, price in enumerate(prices):\n",
    "        # Format string, show numbers with two decimal points\n",
    "        print(f'{\"Item\"}{index + 1}{\":\":<8}{price:.2f}')\n",
    "    print(f'{\"Subtotal:\":<13}{subtotal:.2f}')\n",
    "    print(Fore.YELLOW + f'{\"7% Sales Tax:\"} {sales_tax:.2f}' + Style.RESET_ALL)\n",
    "    print(Fore.GREEN + f'{\"Grand Total:\"} {grand_total:.2f}' + Style.RESET_ALL)"
   ]
  },
  {
   "cell_type": "code",
   "execution_count": 50,
   "metadata": {},
   "outputs": [
    {
     "name": "stdout",
     "output_type": "stream",
     "text": [
      "Please input item prices with two decimal points, ex. 12.95.\n",
      "Long decimals will be rounded to two decimal points.\n",
      "\n",
      "\u001b[31mPlease input positive numbers with two decimals, ex. \"12.95\".\u001b[0m\n",
      "\n",
      "\u001b[31mPlease input positive numbers with two decimals, ex. \"12.95\".\u001b[0m\n",
      "\n",
      "Item1:       1.00\n",
      "Item2:       23.45\n",
      "Item3:       3.00\n",
      "Item4:       3.00\n",
      "Item5:       3.00\n",
      "Subtotal:    33.45\n",
      "\u001b[33m7% Sales Tax: 2.34\u001b[0m\n",
      "\u001b[32mGrand Total: 35.79\u001b[0m\n"
     ]
    }
   ],
   "source": [
    "calculate_total()"
   ]
  },
  {
   "cell_type": "markdown",
   "metadata": {},
   "source": [
    "### 3. Distance Travelled\n",
    "\n",
    "The distance a car drives down the interstate can be calculated with the formula:\n",
    "Distance = Speed x Time\n",
    "\n",
    "A car travels at 70mph. Write a program that displays the following:\n",
    "\n",
    "1. The distance the car will travel in 6 hours\n",
    "2. The distance the car will travel in 10 hours\n",
    "3. The distance the car will travel in 15hours\n",
    "\n",
    "I have provided two version as an answer:\n",
    "The first is a straightforward calculation based on the question requests.\n",
    "The seconds allows for varied input and produces the resullt.\n"
   ]
  },
  {
   "cell_type": "code",
   "execution_count": null,
   "metadata": {},
   "outputs": [],
   "source": [
    "def calc_distance(speed: int = 70) -> None:\n",
    "    \"\"\"Calculate the distance of a car traveling at a set speed.\n",
    "\n",
    "    Args:\n",
    "        speed (int, optional): Speed at which the car travels. Defaults to 70.\n",
    "\n",
    "    \"\"\"\n",
    "    # Takes a list of times, then calculates distance and shows it to the user\n",
    "    times = [6, 10, 15]\n",
    "    for hrs in times:\n",
    "        distance = hrs * speed\n",
    "        print(f'The car will travel {distance} miles in {hrs} hours.')\n",
    "\n",
    "\n",
    "def calculate_distance_with_input() -> None:\n",
    "    \"\"\"Calculate distance based on time and speed.\"\"\"\n",
    "    # The following version requests input for the desired time and speed\n",
    "    print(\n",
    "        'This app will calculate the distance based on the time and speed.\\n',\n",
    "    )\n",
    "    user_input_one = 'Time in hours:'\n",
    "    user_input_two = 'Speed in mph:'\n",
    "    value_1 = validate_input_num(user_input_one, is_int=True)\n",
    "    value_2 = validate_input_num(user_input_two, is_int=True)\n",
    "    time = value_1\n",
    "    speed = value_2\n",
    "\n",
    "    distance = time * speed\n",
    "    print(f'The car will travel {distance} miles in {time} hours.')"
   ]
  },
  {
   "cell_type": "code",
   "execution_count": 17,
   "metadata": {},
   "outputs": [
    {
     "name": "stdout",
     "output_type": "stream",
     "text": [
      "The car will travel 420 miles in 6 hours.\n",
      "The car will travel 700 miles in 10 hours.\n",
      "The car will travel 1050 miles in 15 hours.\n"
     ]
    }
   ],
   "source": [
    "# Version 1 - simple calculation\n",
    "calc_distance()"
   ]
  },
  {
   "cell_type": "code",
   "execution_count": 52,
   "metadata": {},
   "outputs": [
    {
     "name": "stdout",
     "output_type": "stream",
     "text": [
      "This app will calculate the distance based on the time and speed.\n",
      "\n",
      "\u001b[31mPlease input positive whole numbers, ex. \"12\".\u001b[0m\n",
      "\n",
      "\u001b[31mPlease input positive whole numbers, ex. \"12\".\u001b[0m\n",
      "\n",
      "The car will travel 1156 miles in 34 hours.\n"
     ]
    }
   ],
   "source": [
    "# Version 2 - with input\n",
    "calculate_distance_with_input()"
   ]
  },
  {
   "cell_type": "markdown",
   "metadata": {},
   "source": [
    "### 4. Miles per Gallons\n",
    "\n",
    "A cars MPG can be calculated with the following formula\n",
    "\n",
    "MPG = Miles Driven / Gallons of Diesel used\n",
    "\n",
    "Write a program that asks the user for the number of miles driven and gallons of diesel used.\n",
    "It should calculate the car's MPG and display the result.\n"
   ]
  },
  {
   "cell_type": "code",
   "execution_count": null,
   "metadata": {},
   "outputs": [],
   "source": [
    "def calculate_mpg() -> None:\n",
    "    \"\"\"Request user input to calculate Miles Per Gallon.\"\"\"\n",
    "    # Input validation prompts and error message.\n",
    "    print('This app calculates the miles per gallon of a vehicle.\\n')\n",
    "    user_input_one = 'How many miles were driven?'\n",
    "    user_input_two = 'How many gallons of diesel were used?'\n",
    "\n",
    "    # Calculates mpg and displays it to the user\n",
    "    miles = validate_input_num(user_input_one, is_int=True)\n",
    "    gallons = validate_input_num(user_input_two, is_int=True)\n",
    "    print(f'The miles per gallon is {miles / gallons:.2f}.')"
   ]
  },
  {
   "cell_type": "code",
   "execution_count": 24,
   "metadata": {},
   "outputs": [
    {
     "name": "stdout",
     "output_type": "stream",
     "text": [
      "This app calculates the miles per gallon of a vehicle.\n",
      "\u001b[31mPlease input positive whole numbers, ex. 12.\u001b[0m\n",
      "\n",
      "The miles per gallon is 0.86.\n"
     ]
    }
   ],
   "source": [
    "calculate_mpg()"
   ]
  },
  {
   "cell_type": "markdown",
   "metadata": {},
   "source": [
    "### 5. Male and Female percentages\n",
    "\n",
    "Write a program that asks the user for the number of Males and the number of Females registered for the class. The program should display the percentage of Males and Females in the class.\n",
    "\n",
    "Example:\n",
    "\n",
    "8 Males and 12 Females in class.\n",
    "\n",
    "There are 20 students in the class.\n",
    "\n",
    "The percentage of Males can be calculated as 8 / 20 = .4 or 40%\n",
    "\n",
    "The percentage of Females can be calculated as 12 / 20 = .6 or 60%\n"
   ]
  },
  {
   "cell_type": "code",
   "execution_count": null,
   "metadata": {},
   "outputs": [],
   "source": [
    "def calculate_student_percentages() -> None:\n",
    "    \"\"\"Calculate the percentage of female and male students in a class.\"\"\"\n",
    "    print(\n",
    "        'This app calculates the percentage of female and male students.\\n'\n",
    "        'Percentages will be rounded to two decimal points.\\n',\n",
    "    )\n",
    "    # Input validation prompts and error message.\n",
    "    user_input_one = 'How many females are in the class?'\n",
    "    user_input_two = 'How many males are in the class?'\n",
    "\n",
    "    # Calculates ratio and displays it to the user\n",
    "    females = validate_input_num(user_input_one, is_int=True)\n",
    "    males = validate_input_num(user_input_two, is_int=True)\n",
    "    total = females + males\n",
    "    print(\n",
    "        f'The total number of student is {total}.\\n'\n",
    "        f'The percentage of females is {females / total:.2f} or '\n",
    "        f'{females / total:.2%}.\\n'\n",
    "        f'The percentage of males is {males / total:.2f}. or '\n",
    "        f'{males / total:.2%}.',\n",
    "    )\n"
   ]
  },
  {
   "cell_type": "code",
   "execution_count": 30,
   "metadata": {},
   "outputs": [
    {
     "name": "stdout",
     "output_type": "stream",
     "text": [
      "This app calculates the percentage of female and male students.\n",
      "Percentages will be rounded to two decimal points.\n",
      "\n",
      "The total number of student is 118.\n",
      "The percentage of females is 0.33 or 33.05%.\n",
      "The percentage of males is 0.67. or 66.95%.\n"
     ]
    }
   ],
   "source": [
    "calculate_student_percentages()"
   ]
  },
  {
   "cell_type": "markdown",
   "metadata": {},
   "source": [
    "### 6. Stock Transaction Program\n",
    "\n",
    "Tom purchased some stock in DBS Software.\n",
    "Here are the details.\n",
    "\n",
    "1. The number of shares that Tom purchased was 2,000\n",
    "2. When Tom purchased the stock , he paid €40.0 per share.\n",
    "3. Tom paid his stockbroker a commission that amounted to 3% of the amount he paid for the stock.\n",
    "\n",
    "Two weeks later , Tom sold the stock. Here are the details\n",
    "\n",
    "1. The number of shares that Tom sold was 2,000\n",
    "2. When Tom sold the stock , he sold for €42.75 per share.\n",
    "3. Tom paid his stockbroker another commission that amounted to 3% of the amount he received for the stock.\n",
    "\n",
    "Write a program that displays the following information.\n",
    "\n",
    "1. The amount of money Tom paid for the stock\n",
    "2. The amount of commission Tom paid his broker when he bought the stock.\n",
    "3. The amount for which Tom sold the stock\n",
    "4. The amount of commission Tom paid his broker when he sold the stock.\n",
    "5. Display the amount of money that Tom had left when he sold the stock and paid his broker(both times). If this amount is positive, then Tom made a profit. If the amount is negative, then Tom lost money.\n"
   ]
  },
  {
   "cell_type": "code",
   "execution_count": null,
   "metadata": {},
   "outputs": [],
   "source": [
    "def stock_calculator(\n",
    "    buy_shares: int = 2000,\n",
    "    buy_price: float = 40.0,\n",
    "    commission_percent: int = 3,\n",
    "    sell_price: float = 42.75,\n",
    "    sell_shares: int = 2000,\n",
    ") -> None:\n",
    "    \"\"\"Calculate profit, loss and costs from stock.\n",
    "\n",
    "    Args:\n",
    "        buy_shares (int, optional): Number of shares bought. Defaults to 2000.\n",
    "        buy_price (float, optional): Cost of shares bought. Defaults to 40.0.\n",
    "        commission_percent (int, optional): Percentage commission on buy/sell.\n",
    "                                            Defaults to 3.\n",
    "        sell_price (float, optional): Selling price of shares.\n",
    "                                      Defaults to 42.75.\n",
    "        sell_shares (int, optional): Number of shares sold. Defaults to 2000.\n",
    "\n",
    "    \"\"\"\n",
    "    print(\n",
    "        'This program calculates profit, loss, and costs from stock '\n",
    "        'purchases and sales.\\n',\n",
    "    )\n",
    "    # Use parameters to calculate different values\n",
    "    purchase_cost = buy_shares * buy_price\n",
    "    purchase_commission = purchase_cost * commission_percent / 100\n",
    "    sale_total = sell_shares * sell_price\n",
    "    sale_commission = sale_total * commission_percent / 100\n",
    "    total_money = sale_total - purchase_commission - sale_commission\n",
    "    net_profit = total_money - purchase_cost\n",
    "\n",
    "    # Display values to user\n",
    "    print(f'The total cost of the purchase is €{purchase_cost:.2f}')\n",
    "    print(\n",
    "        'The total purchase commission is '\n",
    "        + Fore.RED\n",
    "        + f'€{purchase_commission:.2f}'\n",
    "        + Style.RESET_ALL,\n",
    "    )\n",
    "    print(\n",
    "        'The total income from the sale is '\n",
    "        + Fore.GREEN\n",
    "        + f'€{sale_total:.2f}'\n",
    "        + Style.RESET_ALL,\n",
    "    )\n",
    "    print(\n",
    "        'The total sales commission is '\n",
    "        + Fore.RED\n",
    "        + f'€{sale_commission:.2f}'\n",
    "        + Style.RESET_ALL,\n",
    "    )\n",
    "\n",
    "    print(f'The total sale less commission is €{total_money:.2f}')\n",
    "    print(\n",
    "        'The total net profit is '\n",
    "        + Fore.GREEN\n",
    "        + f'€{net_profit:.2f}'\n",
    "        + Style.RESET_ALL,\n",
    "    )"
   ]
  },
  {
   "cell_type": "code",
   "execution_count": null,
   "metadata": {},
   "outputs": [
    {
     "name": "stdout",
     "output_type": "stream",
     "text": [
      "This program calculates profit, loss, and costs from stock purchases and sales.\n",
      "\n",
      "The total cost of the purchase is €80000.00\n",
      "The total purchase commission is \u001b[31m€2400.00\u001b[0m\n",
      "The total income from the sale is \u001b[32m€85500.00\u001b[0m\n",
      "The total sales commission is \u001b[31m€2565.00\u001b[0m\n",
      "The total sale less commission is €80535.00\n",
      "The total net profit is \u001b[32m€535.00\u001b[0m\n"
     ]
    }
   ],
   "source": [
    "# Default arguments can be changed to calculate other amounts.\n",
    "stock_calculator(buy_shares=2000)"
   ]
  }
 ],
 "metadata": {
  "kernelspec": {
   "display_name": ".venv",
   "language": "python",
   "name": "python3"
  },
  "language_info": {
   "codemirror_mode": {
    "name": "ipython",
    "version": 3
   },
   "file_extension": ".py",
   "mimetype": "text/x-python",
   "name": "python",
   "nbconvert_exporter": "python",
   "pygments_lexer": "ipython3",
   "version": "3.13.1"
  }
 },
 "nbformat": 4,
 "nbformat_minor": 2
}
