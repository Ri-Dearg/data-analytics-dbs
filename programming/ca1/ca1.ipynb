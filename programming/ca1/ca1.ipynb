{
 "cells": [
  {
   "cell_type": "markdown",
   "metadata": {},
   "source": [
    "# Continuous Assessment 1\n"
   ]
  },
  {
   "cell_type": "markdown",
   "metadata": {},
   "source": [
    "## Additional Libraries\n"
   ]
  },
  {
   "cell_type": "code",
   "execution_count": 3,
   "metadata": {},
   "outputs": [],
   "source": [
    "# Add colour to text\n",
    "from colorama import Fore, Style\n"
   ]
  },
  {
   "cell_type": "markdown",
   "metadata": {},
   "source": [
    "## Utilities\n",
    "\n",
    "Tools for input validation used throughout the notebook.\n"
   ]
  },
  {
   "cell_type": "code",
   "execution_count": 5,
   "metadata": {},
   "outputs": [],
   "source": [
    "def positive_number_validation(num: float) -> None:\n",
    "    \"\"\"Ensure number is positive, throw error if not.\"\"\"\n",
    "    if num < 0:\n",
    "        raise ValueError\n",
    "\n",
    "\n",
    "def parse_input(value: str, is_int: bool) -> int | float:\n",
    "    \"\"\"Parse string as an int or float.\n",
    "\n",
    "    Args:\n",
    "        value (str): user input\n",
    "        is_int (bool): sets if it is an int or f\n",
    "\n",
    "    Returns:\n",
    "        int|float: Converted user input.\n",
    "\n",
    "    \"\"\"\n",
    "    return int(value) if is_int else float(value)\n",
    "\n",
    "\n",
    "def validate_input_num(user_input: str, err_msg: str, *, is_int: bool) -> str:\n",
    "    \"\"\"Validate inputs to check that they are positive numbers.\n",
    "\n",
    "    Args:\n",
    "        user_input (str): user_input for the input.\n",
    "        err_msg (str): error message to display on failure.\n",
    "        is_int (bool): defines whether we are dealing with an integer or float.\n",
    "\n",
    "    Returns:\n",
    "        str: return the user_input if everything passes.\n",
    "\n",
    "    \"\"\"\n",
    "    # Use loop to ask for input again if the input is invalid.\n",
    "    while True:\n",
    "        try:\n",
    "            value = input(user_input)\n",
    "            test_num = parse_input(value, is_int)\n",
    "            positive_number_validation(test_num)\n",
    "        except ValueError:\n",
    "            # Give feedback with the err_msg\n",
    "            print(Fore.RED + err_msg + Style.RESET_ALL + '\\n')\n",
    "        else:\n",
    "            # Return value if input is valid\n",
    "            return test_num\n"
   ]
  },
  {
   "cell_type": "markdown",
   "metadata": {},
   "source": [
    "## Input, Output, and Processing\n",
    "\n",
    "Week 2 Questions\n"
   ]
  },
  {
   "cell_type": "markdown",
   "metadata": {},
   "source": [
    "### 1. Personal Information\n",
    "\n",
    "Write a program that displays the following information:\n",
    "\n",
    "1.  Your Name\n",
    "2.  Your Address, with City, County, and ZIP CODE\n",
    "3.  Your telephone number\n",
    "4.  Your College degree\n"
   ]
  },
  {
   "cell_type": "code",
   "execution_count": null,
   "metadata": {},
   "outputs": [],
   "source": [
    "def get_details() -> None:\n",
    "    \"\"\"Take user input and print details.\"\"\"\n",
    "    # List of details to request from user\n",
    "    questions = [\n",
    "        'Full Name:',\n",
    "        'Street Address:',\n",
    "        'City:',\n",
    "        'County:',\n",
    "        'Zip Code:',\n",
    "        'Telephone Number:',\n",
    "        'Qualifications:',\n",
    "    ]\n",
    "\n",
    "    # String comprehension to take input for question list, create new list\n",
    "    print('Please input the following info: \\n')\n",
    "    personal_details = [input(question) for question in questions]\n",
    "\n",
    "    # Print user data with info titles using zip and loop\n",
    "    for question, item in zip(questions, personal_details, strict=True):\n",
    "        print(f'{question:<18} {item}')"
   ]
  },
  {
   "cell_type": "code",
   "execution_count": 11,
   "metadata": {},
   "outputs": [
    {
     "name": "stdout",
     "output_type": "stream",
     "text": [
      "Please input the following info: \n",
      "\n",
      "Full Name:         Jacob SMith\n",
      "Street Address:    123 sesame st.\n",
      "City:              dublin\n",
      "County:            dublin\n",
      "Zip Code:          112345\n",
      "Telephone Number:  2445667\n",
      "Qualifications:    Degree\n"
     ]
    }
   ],
   "source": [
    "get_details()"
   ]
  },
  {
   "cell_type": "markdown",
   "metadata": {},
   "source": [
    "### 2. Total Purchase\n",
    "\n",
    "A customer in a store is purchasing five items. Write a program that asks for the price of each item, then display the subtotal of the sales, the amount of sales tax, and the total.\n",
    "\n",
    "Assume sales tax is 7%.\n"
   ]
  },
  {
   "cell_type": "code",
   "execution_count": 12,
   "metadata": {},
   "outputs": [],
   "source": [
    "def calculate_total(num_items: int = 5) -> None:\n",
    "    \"\"\"Take input of item prices and calculate total sales cost.\n",
    "\n",
    "    Args:\n",
    "        num_items (int, optional): number of purchase items. Defaults to 5.\n",
    "\n",
    "    \"\"\"\n",
    "    print(\n",
    "        'Please input item prices with two decimal points, ex. 12.95.\\n'\n",
    "        'Long decimals will be rounded to two decimal points.\\n',\n",
    "    )\n",
    "\n",
    "    # Initiate list to collect prices\n",
    "    prices = []\n",
    "    err_msg = 'Please input positive numbers with two decimals, ex.12.95.'\n",
    "\n",
    "    # Ask for item prices for as many items are requested.\n",
    "    for num in range(num_items):\n",
    "        user_input = f'Price of item {num + 1}:'\n",
    "        # Loop that checks the item info is correctly input.\n",
    "        value = validate_input_num(user_input, err_msg, is_int=False)\n",
    "        item = round(value, 2)\n",
    "        prices.append(item)\n",
    "\n",
    "    # Calculates the subtotal by adding prices together.\n",
    "    subtotal = 0\n",
    "    for price in prices:\n",
    "        subtotal += price\n",
    "\n",
    "    # Calculate tax and then total.\n",
    "    sales_tax = round(subtotal * 7 / 100, 2)\n",
    "    grand_total = subtotal + sales_tax\n",
    "\n",
    "    # Displays prices to user with loop.\n",
    "    for index, price in enumerate(prices):\n",
    "        # Format string, show numbers with two decimal points\n",
    "        print(f'{\"Item\"}{index + 1}{\":\":<8}{price:.2f}')\n",
    "    print(f'{\"Subtotal:\":<13}{subtotal:.2f}')\n",
    "    print(Fore.YELLOW + f'{\"7% Sales Tax:\"} {sales_tax:.2f}' + Style.RESET_ALL)\n",
    "    print(Fore.GREEN + f'{\"Grand Total:\"} {grand_total:.2f}' + Style.RESET_ALL)"
   ]
  },
  {
   "cell_type": "code",
   "execution_count": 16,
   "metadata": {},
   "outputs": [
    {
     "name": "stdout",
     "output_type": "stream",
     "text": [
      "Please input item prices with two decimal points, ex. 12.95.\n",
      "Long decimals will be rounded to two decimal points.\n",
      "\n",
      "\u001b[31mPlease input positive numbers with two decimals, ex.12.95.\u001b[0m\n",
      "\n",
      "\u001b[31mPlease input positive numbers with two decimals, ex.12.95.\u001b[0m\n",
      "\n",
      "Item1:       10.00\n",
      "Item2:       12.00\n",
      "Item3:       23.57\n",
      "Item4:       89.00\n",
      "Item5:       55555.56\n",
      "Subtotal:    55690.13\n",
      "\u001b[33m7% Sales Tax: 3898.31\u001b[0m\n",
      "\u001b[32mGrand Total: 59588.44\u001b[0m\n"
     ]
    }
   ],
   "source": [
    "calculate_total()"
   ]
  },
  {
   "cell_type": "markdown",
   "metadata": {},
   "source": [
    "### 3. Distance Travelled\n",
    "\n",
    "The distance a car drives down the interstate can be calculated with the formula:\n",
    "Distance = Speed x Time\n",
    "\n",
    "A car travels at 70mph. Write a program that displays the following:\n",
    "\n",
    "1. The distance the car will travel in 6 hours\n",
    "2. The distance the car will travel in 10 hours\n",
    "3. The distance the car will travel in 15hours\n",
    "\n",
    "I have provided two version as an answer:\n",
    "The first is a straightforward calculation based on the question requests.\n",
    "The seconds allows for varied input and produces the resullt.\n"
   ]
  },
  {
   "cell_type": "code",
   "execution_count": null,
   "metadata": {},
   "outputs": [],
   "source": [
    "def calc_distance(speed: int = 70) -> None:\n",
    "    \"\"\"Calculate the distance of a car traveling at a set speed.\n",
    "\n",
    "    Args:\n",
    "        speed (int, optional): Speed at which the car travels. Defaults to 70.\n",
    "\n",
    "    \"\"\"\n",
    "    # Takes a list of times, then calculates distance and shows it to the user.\n",
    "    times = [6, 10, 15]\n",
    "    for hrs in times:\n",
    "        distance = hrs * speed\n",
    "        print(f'The car will travel {distance} miles in {hrs} hours.')\n",
    "\n",
    "\n",
    "def calculate_distance_with_input() -> None:\n",
    "    \"\"\"Calculate distance based on time and speed.\"\"\"\n",
    "    # The following version requests input for the desired time and speed\n",
    "    print(\n",
    "        'This app will calculate the distance based on the time and speed.\\n',\n",
    "    )\n",
    "    user_input_one = 'Time in hours:'\n",
    "    user_input_two = 'Speed in mph:'\n",
    "    err_msg = 'Please input positive whole numbers, ex. 12.'\n",
    "    value_1 = validate_input_num(user_input_one, err_msg, is_int=True)\n",
    "    value_2 = validate_input_num(user_input_two, err_msg, is_int=True)\n",
    "    time = value_1\n",
    "    speed = value_2\n",
    "\n",
    "    distance = time * speed\n",
    "    print(f'The car will travel {distance} miles in {time} hours.')"
   ]
  },
  {
   "cell_type": "code",
   "execution_count": 17,
   "metadata": {},
   "outputs": [
    {
     "name": "stdout",
     "output_type": "stream",
     "text": [
      "The car will travel 420 miles in 6 hours.\n",
      "The car will travel 700 miles in 10 hours.\n",
      "The car will travel 1050 miles in 15 hours.\n"
     ]
    }
   ],
   "source": [
    "# Version 1 - simple calculation\n",
    "calc_distance()"
   ]
  },
  {
   "cell_type": "code",
   "execution_count": 20,
   "metadata": {},
   "outputs": [
    {
     "name": "stdout",
     "output_type": "stream",
     "text": [
      "This app will calculate the distance based on the time and speed.\n",
      "\n",
      "\u001b[31mPlease input positive whole numbers, ex. 12.\u001b[0m\n",
      "\n",
      "\u001b[31mPlease input positive whole numbers, ex. 12.\u001b[0m\n",
      "\n",
      "\u001b[31mPlease input positive whole numbers, ex. 12.\u001b[0m\n",
      "\n",
      "\u001b[31mPlease input positive whole numbers, ex. 12.\u001b[0m\n",
      "\n",
      "The car will travel 36 miles in 12 hours.\n"
     ]
    }
   ],
   "source": [
    "# Version 2 - with input\n",
    "calculate_distance_with_input()"
   ]
  },
  {
   "cell_type": "markdown",
   "metadata": {},
   "source": [
    "### 4. Miles per Gallons\n",
    "\n",
    "A cars MPG can be calculated with the following formula\n",
    "\n",
    "MPG = Miles Driven / Gallons of Diesel used\n",
    "\n",
    "Write a program that asks the user for the number of miles driven and gallons of diesel used.\n",
    "It should calculate the car's MPG and display the result.\n"
   ]
  },
  {
   "cell_type": "code",
   "execution_count": null,
   "metadata": {},
   "outputs": [],
   "source": [
    "def calculate_mpg() -> None:\n",
    "    \"\"\"Request user input to calculate Miles Per Gallon.\"\"\"\n",
    "    # Input validation prompts and error message.\n",
    "    print('This app calculates the miles per gallon of a vehicle.\\n')\n",
    "    user_input_one = 'How many miles were driven?'\n",
    "    user_input_two = 'How many gallons of diesel were used?'\n",
    "    err_msg = 'Please input positive whole numbers, ex. 12.'\n",
    "\n",
    "    # Calculates mpg and displays it to the user.\n",
    "    miles = validate_input_num(user_input_one, err_msg, is_int=True)\n",
    "    gallons = validate_input_num(user_input_two, err_msg, is_int=True)\n",
    "    print(f'The miles per gallon is {miles / gallons:.2f}.')"
   ]
  },
  {
   "cell_type": "code",
   "execution_count": 24,
   "metadata": {},
   "outputs": [
    {
     "name": "stdout",
     "output_type": "stream",
     "text": [
      "This app calculates the miles per gallon of a vehicle.\n",
      "\u001b[31mPlease input positive whole numbers, ex. 12.\u001b[0m\n",
      "\n",
      "The miles per gallon is 0.86.\n"
     ]
    }
   ],
   "source": [
    "calculate_mpg()"
   ]
  },
  {
   "cell_type": "markdown",
   "metadata": {},
   "source": [
    "### 5. Male and Female percentages\n",
    "\n",
    "Write a program that asks the user for the number of Males and the number of Females registered for the class. The program should display the percentage of Males and Females in the class.\n",
    "\n",
    "Example:\n",
    "\n",
    "8 Males and 12 Females in class.\n",
    "\n",
    "There are 20 students in the class.\n",
    "\n",
    "The percentage of Males can be calculated as 8 / 20 = .4 or 40%\n",
    "\n",
    "The percentage of Females can be calculated as 12 / 20 = .6 or 60%\n"
   ]
  },
  {
   "cell_type": "code",
   "execution_count": null,
   "metadata": {},
   "outputs": [],
   "source": [
    "def calculate_student_percentages() -> None:\n",
    "    \"\"\"Calculate the percentage of female and male students in a class.\"\"\"\n",
    "    print(\n",
    "        'This app calculates the percentage of female and male students.\\n'\n",
    "        'Percentages will be rounded to two decimal points.\\n',\n",
    "    )\n",
    "    # Input validation prompts and error message.\n",
    "    user_input_one = 'How many females are in the class?'\n",
    "    user_input_two = 'How many males are in the class?'\n",
    "    err_msg = 'Please input positive whole numbers, ex. 12.'\n",
    "\n",
    "    # Calculates mpg and displays it to the user.\n",
    "    females = validate_input_num(user_input_one, err_msg, is_int=True)\n",
    "    males = validate_input_num(user_input_two, err_msg, is_int=True)\n",
    "    total = females + males\n",
    "    print(\n",
    "        f'The total number of student is {total}.\\n'\n",
    "        f'The percentage of females is {females / total:.2f} or '\n",
    "        f'{females / total:.2%}.\\n'\n",
    "        f'The percentage of males is {males / total:.2f}. or '\n",
    "        f'{males / total:.2%}.',\n",
    "    )\n"
   ]
  },
  {
   "cell_type": "code",
   "execution_count": 30,
   "metadata": {},
   "outputs": [
    {
     "name": "stdout",
     "output_type": "stream",
     "text": [
      "This app calculates the percentage of female and male students.\n",
      "Percentages will be rounded to two decimal points.\n",
      "\n",
      "The total number of student is 118.\n",
      "The percentage of females is 0.33 or 33.05%.\n",
      "The percentage of males is 0.67. or 66.95%.\n"
     ]
    }
   ],
   "source": [
    "calculate_student_percentages()"
   ]
  },
  {
   "cell_type": "markdown",
   "metadata": {},
   "source": [
    "### 6. Stock Transaction Program\n",
    "\n",
    "Tom purchased some stock in DBS Software.\n",
    "Here are the details.\n",
    "\n",
    "1. The number of shares that Tom purchased was 2,000\n",
    "2. When Tom purchased the stock , he paid €40.0 per share.\n",
    "3. Tom paid his stockbroker a commission that amounted to 3% of the amount he paid for the stock.\n",
    "\n",
    "Two weeks later , Tom sold the stock. Here are the details\n",
    "\n",
    "1. The number of shares that Tom sold was 2,000\n",
    "2. When Tom sold the stock , he sold for €42.75 per share.\n",
    "3. Tom paid his stockbroker another commission that amounted to 3% of the amount he received for the stock.\n",
    "\n",
    "Write a program that displays the following information.\n",
    "\n",
    "1. The amount of money Tom paid for the stock\n",
    "2. The amount of commission Tom paid his broker when he bought the stock.\n",
    "3. The amount for which Tom sold the stock\n",
    "4. The amount of commission Tom paid his broker when he sold the stock.\n",
    "5. Display the amount of money that Tom had left when he sold the stock and paid his broker(both times). If this amount is positive, then Tom made a profit. If the amount is negative, then Tom lost money.\n"
   ]
  },
  {
   "cell_type": "code",
   "execution_count": null,
   "metadata": {},
   "outputs": [],
   "source": [
    "def stock_calculator(\n",
    "    buy_shares: int = 2000,\n",
    "    buy_price: float = 40.0,\n",
    "    commission_percent: int = 3,\n",
    "    sell_price: float = 42.75,\n",
    "    sell_shares: int = 2000,\n",
    ") -> None:\n",
    "    \"\"\"Calculate profit, loss and costs from stock.\n",
    "\n",
    "    Args:\n",
    "        buy_shares (int, optional): Number of shares bought. Defaults to 2000.\n",
    "        buy_price (float, optional): Cost of shares bought. Defaults to 40.0.\n",
    "        commission_percent (int, optional): Percentage commission on buy/sell.\n",
    "                                            Defaults to 3.\n",
    "        sell_price (float, optional): Selling price of shares.\n",
    "                                      Defaults to 42.75.\n",
    "        sell_shares (int, optional): Number of shares sold. Defaults to 2000.\n",
    "\n",
    "    \"\"\"\n",
    "    print(\n",
    "        'This program calculates profit, loss, and costs from stock '\n",
    "        'purchases and sales.\\n',\n",
    "    )\n",
    "    # Use parameters to calculate different values\n",
    "    purchase_cost = buy_shares * buy_price\n",
    "    purchase_commission = purchase_cost * commission_percent / 100\n",
    "    sale_total = sell_shares * sell_price\n",
    "    sale_commission = sale_total * commission_percent / 100\n",
    "    total_money = sale_total - purchase_commission - sale_commission\n",
    "    net_profit = total_money - purchase_cost\n",
    "\n",
    "    # Display values to user.\n",
    "    print(f'The total cost of the purchase is €{purchase_cost:.2f}')\n",
    "    print(\n",
    "        'The total purchase commission is '\n",
    "        + Fore.RED\n",
    "        + f'€{purchase_commission:.2f}'\n",
    "        + Style.RESET_ALL,\n",
    "    )\n",
    "    print(\n",
    "        'The total income from the sale is '\n",
    "        + Fore.GREEN\n",
    "        + f'€{sale_total:.2f}'\n",
    "        + Style.RESET_ALL,\n",
    "    )\n",
    "    print(\n",
    "        'The total sales commission is '\n",
    "        + Fore.RED\n",
    "        + f'€{sale_commission:.2f}'\n",
    "        + Style.RESET_ALL,\n",
    "    )\n",
    "\n",
    "    print(f'The total sale less commission is €{total_money:.2f}')\n",
    "    print(\n",
    "        'The total net profit is '\n",
    "        + Fore.GREEN\n",
    "        + f'€{net_profit:.2f}'\n",
    "        + Style.RESET_ALL,\n",
    "    )"
   ]
  },
  {
   "cell_type": "code",
   "execution_count": null,
   "metadata": {},
   "outputs": [
    {
     "name": "stdout",
     "output_type": "stream",
     "text": [
      "This program calculates profit, loss, and costs from stock purchases and sales.\n",
      "\n",
      "The total cost of the purchase is €80000.00\n",
      "The total purchase commission is \u001b[31m€2400.00\u001b[0m\n",
      "The total income from the sale is \u001b[32m€85500.00\u001b[0m\n",
      "The total sales commission is \u001b[31m€2565.00\u001b[0m\n",
      "The total sale less commission is €80535.00\n",
      "The total net profit is \u001b[32m€535.00\u001b[0m\n"
     ]
    }
   ],
   "source": [
    "# Default arguments can be changed to calculate other amounts.\n",
    "stock_calculator(buy_shares=2000)"
   ]
  },
  {
   "cell_type": "markdown",
   "metadata": {},
   "source": [
    "## Data Representation and Program Control\n",
    "\n",
    "For the questions and answers, please refer to:  \n",
    "[3. Distance Travelled](#3-distance-travelled)  \n",
    "[4. Miles per Gallons](#4-miles-per-gallons)  \n",
    "[5. Male and Female percentages](#5-male-and-female-percentages)  \n",
    "[6. Stock Transaction Program](#6-stock-transaction-program)\n"
   ]
  },
  {
   "cell_type": "markdown",
   "metadata": {},
   "source": [
    "## Program Control and Decision\n"
   ]
  },
  {
   "cell_type": "markdown",
   "metadata": {},
   "source": [
    "### 1. Bug Collector\n",
    "\n",
    "A bug collector collects bugs every day for five days. Write a program that keeps a running total of the number of bugs collected during the five days. The loop should ask for the number of bugs collected for each day, and when the loop is finished, the program should display the total number of bugs collected.\n"
   ]
  },
  {
   "cell_type": "code",
   "execution_count": null,
   "metadata": {},
   "outputs": [],
   "source": [
    "def calculate_bugs(num_days: int = 5) -> None:\n",
    "    \"\"\"Take input of item prices and calculate total bugs collected.\n",
    "\n",
    "    Args:\n",
    "        num_days (int, optional): number of days collect bugs. Defaults to 5.\n",
    "\n",
    "    \"\"\"\n",
    "    print(\n",
    "        'Please input the number of bugs collected for each day.\\n'\n",
    "        'Please input whole numbers, ex. 12.\\n',\n",
    "    )\n",
    "\n",
    "    # Initiate total to use for bugs\n",
    "    total = 0\n",
    "    err_msg = 'Please input positive whole numbers, ex.12.'\n",
    "\n",
    "    # Ask for bug quantity for as many days are requested.\n",
    "    for num in range(num_days):\n",
    "        user_input = f'Bugs collected on Day {num + 1}:'\n",
    "        # Loop that checks the item info is correctly input.\n",
    "        value = validate_input_num(user_input, err_msg, is_int=True)\n",
    "        # Add number to total\n",
    "        total += value\n",
    "\n",
    "    print(f'Total number of bugs collected: {total}')"
   ]
  },
  {
   "cell_type": "code",
   "execution_count": 22,
   "metadata": {},
   "outputs": [
    {
     "name": "stdout",
     "output_type": "stream",
     "text": [
      "Please input the number of bugs collected for each day.\n",
      "Please input whole numbers, ex. 12.\n",
      "\n",
      "\u001b[31mPlease input positive whole numbers, ex.12.\u001b[0m\n",
      "\n",
      "\u001b[31mPlease input positive whole numbers, ex.12.\u001b[0m\n",
      "\n",
      "\u001b[31mPlease input positive whole numbers, ex.12.\u001b[0m\n",
      "\n",
      "\u001b[31mPlease input positive whole numbers, ex.12.\u001b[0m\n",
      "\n",
      "\u001b[31mPlease input positive whole numbers, ex.12.\u001b[0m\n",
      "\n",
      "\u001b[31mPlease input positive whole numbers, ex.12.\u001b[0m\n",
      "\n",
      "\u001b[31mPlease input positive whole numbers, ex.12.\u001b[0m\n",
      "\n",
      "\u001b[31mPlease input positive whole numbers, ex.12.\u001b[0m\n",
      "\n",
      "\u001b[31mPlease input positive whole numbers, ex.12.\u001b[0m\n",
      "\n",
      "\u001b[32mTotal number of bugs collected: 24\u001b[0m\n"
     ]
    }
   ],
   "source": [
    "calculate_bugs()"
   ]
  },
  {
   "cell_type": "markdown",
   "metadata": {},
   "source": [
    "### 2. Calories Burned\n",
    "\n",
    "Running on a particular treadmill you burn 4.2 calories per minute. Write a program that uses a loop to display the number of calories burned after 10, 15, 20, 25, and 30 minutes.\n"
   ]
  },
  {
   "cell_type": "code",
   "execution_count": null,
   "metadata": {},
   "outputs": [],
   "source": [
    "def calculate_calories(rate: float = 4.2) -> None:\n",
    "    \"\"\"Calculate how many calories will be burned over time.\n",
    "\n",
    "    Args:\n",
    "        rate (float, optional): Calorie burn rate. Defaults to 4.2.\n",
    "\n",
    "    \"\"\"\n",
    "    # Times to calculate\n",
    "    time = [10, 15, 20, 25, 30]\n",
    "    for minutes in time:\n",
    "        print(\n",
    "            f'You will burn {rate * minutes:.2f} calories in'\n",
    "            ' {minutes} minutes.',\n",
    "        )"
   ]
  },
  {
   "cell_type": "code",
   "execution_count": 28,
   "metadata": {},
   "outputs": [
    {
     "name": "stdout",
     "output_type": "stream",
     "text": [
      "You will burn 42.00 calories in 10 minutes.\n",
      "You will burn 63.00 calories in 15 minutes.\n",
      "You will burn 84.00 calories in 20 minutes.\n",
      "You will burn 105.00 calories in 25 minutes.\n",
      "You will burn 126.00 calories in 30 minutes.\n"
     ]
    }
   ],
   "source": [
    "calculate_calories()"
   ]
  },
  {
   "cell_type": "markdown",
   "metadata": {},
   "source": [
    "### 3. Lap Times\n",
    "\n",
    "Write a program that asks the user to enter the number of times that they have run around a racetrack, and then uses a loop to prompt them to enter the lap time for each of their laps. When the loop finishes, the program should display the time of their fastest lap, the time of their slowest lap, and their average lap time.\n"
   ]
  },
  {
   "cell_type": "code",
   "execution_count": null,
   "metadata": {},
   "outputs": [],
   "source": [
    "def calculate_lap_times() -> None:\n",
    "    \"\"\"Calculate fastest, slowest and average lap times of a runner.\"\"\"\n",
    "    print('This app calculates stats based on your lap times.\\n')\n",
    "    # Take and validate input\n",
    "    user_input = (\n",
    "        'How many laps have you run?\\n'\n",
    "        'Please input positive whole numbers, ex. 12.'\n",
    "    )\n",
    "\n",
    "    err_msg = 'Please input positive whole numbers, ex. 12.'\n",
    "\n",
    "    laps = validate_input_num(user_input, err_msg, is_int=True)\n",
    "    # Initalise list of times\n",
    "    lap_times = []\n",
    "\n",
    "    # Loop as many times as laps ran and validate input.\n",
    "    for lap in range(laps):\n",
    "        lap_input = (\n",
    "            f'What is the lap time in minutes for lap {lap + 1}?\\n'\n",
    "            'Please input positive numbers with two decimals, ex. 12.95.'\n",
    "        )\n",
    "        lap_err = 'Please input positive numbers with two decimals, ex. 12.95.'\n",
    "        time = validate_input_num(lap_input, lap_err, is_int=False)\n",
    "        lap_times.append(time)\n",
    "    # Sort times from lowest to highest to print answers easily.\n",
    "    lap_times.sort()\n",
    "    print(\n",
    "        Fore.GREEN\n",
    "        + f'Your fastest lap time is {lap_times[0]:.2f}m.'\n",
    "        + Style.RESET_ALL,\n",
    "    )\n",
    "    # Calculate total of times and average it.\n",
    "    print(\n",
    "        Fore.YELLOW\n",
    "        + f'Your average lap time is {sum(lap_times) / laps:.2f}m.'\n",
    "        + Style.RESET_ALL,\n",
    "    )\n",
    "    print(\n",
    "        Fore.RED\n",
    "        + f'Your slowest lap time is {lap_times[-1]:.2f}m.'\n",
    "        + Style.RESET_ALL,\n",
    "    )\n"
   ]
  },
  {
   "cell_type": "code",
   "execution_count": null,
   "metadata": {},
   "outputs": [
    {
     "name": "stdout",
     "output_type": "stream",
     "text": [
      "This app calculates stats based on your lap times.\n",
      "\u001b[32mYour fastest lap time is 1.00m.\u001b[0m\n",
      "\u001b[33mYour average lap time is 5.00m.\u001b[0m\n",
      "\u001b[31mYour slowest lap time is 9.00m.\u001b[0m\n"
     ]
    }
   ],
   "source": [
    "calculate_lap_times()"
   ]
  },
  {
   "cell_type": "markdown",
   "metadata": {},
   "source": [
    "### 4. Distance Traveled\n",
    "\n",
    "follows: The distance a vehicle travels can be calculated:  \n",
    "speed × time = distance  \n",
    "For example, if a train travels 40 miles per hour for three hours, the distance traveled is 120 miles. Write a program that asks the user for the speed of a vehicle (in miles per hour) and the number of hours it has traveled. It should then use a loop to display the distance the vehicle has traveled for each hour of that time period.\n"
   ]
  },
  {
   "cell_type": "code",
   "execution_count": null,
   "metadata": {},
   "outputs": [],
   "source": [
    "def calculate_distance_per_hour() -> None:\n",
    "    \"\"\"Display a table of distance covered per hour.\"\"\"\n",
    "    print(\n",
    "        'This app calculates the distance per hour '\n",
    "        'based on the time and speed.\\n',\n",
    "    )\n",
    "    user_input_one = 'Time in hours:'\n",
    "    user_input_two = 'Speed in mph:'\n",
    "    err_msg = 'Please input positive whole numbers, ex. 12.'\n",
    "    value_1 = validate_input_num(user_input_one, err_msg, is_int=True)\n",
    "    value_2 = validate_input_num(user_input_two, err_msg, is_int=True)\n",
    "    time = value_1\n",
    "    speed = value_2\n",
    "\n",
    "    print(f'{\"Hour\":<10} Distance')\n",
    "    print('-------------------')\n",
    "    for hour in range(time):\n",
    "        print(f'{hour + 1:<10} {speed * (hour + 1)}')"
   ]
  },
  {
   "cell_type": "code",
   "execution_count": 47,
   "metadata": {},
   "outputs": [
    {
     "name": "stdout",
     "output_type": "stream",
     "text": [
      "This app calculates the distance per hour based on the time and speed.\n",
      "\n",
      "Hour       Distance\n",
      "-------------------\n",
      "1          8\n",
      "2          16\n",
      "3          24\n",
      "4          32\n",
      "5          40\n",
      "6          48\n",
      "7          56\n",
      "8          64\n"
     ]
    }
   ],
   "source": [
    "calculate_distance_per_hour()"
   ]
  },
  {
   "cell_type": "markdown",
   "metadata": {},
   "source": [
    "### 5. Average Rainfall\n",
    "\n",
    "Write a program that uses nested loops to collect data and calculate the average rainfall over a period of years. The program should first ask for the number of years. The outer loop will iterate once for each year. The inner loop will iterate twelve times, once for each month. Each iteration of the inner loop will ask the user for the inches of rainfall for that month. After all iterations, the program should display the number of months, the total inches of rainfall, and the average rainfall per month for the entire period.\n"
   ]
  },
  {
   "cell_type": "code",
   "execution_count": null,
   "metadata": {},
   "outputs": [],
   "source": [
    "def calculate_rainfall() -> None:\n",
    "    \"\"\"Calculate statistics based on amount of rainfall.\"\"\"\n",
    "    # Dictionary of lists, so I can use the month name and store multiple\n",
    "    # rainfall values in each to calculate the average for each month later.\n",
    "    months = {\n",
    "        'January': [],\n",
    "        'February': [],\n",
    "        'March': [],\n",
    "        'April': [],\n",
    "        'May': [],\n",
    "        'June': [],\n",
    "        'July': [],\n",
    "        'August': [],\n",
    "        'September': [],\n",
    "        'October': [],\n",
    "        'November': [],\n",
    "        'December': [],\n",
    "    }\n",
    "\n",
    "    print(\n",
    "        'This app displays statistic for rainfall in a given period.\\n'\n",
    "        'Please input positive whole numbers, ex. 12.',\n",
    "    )\n",
    "\n",
    "    # take and validate user input.\n",
    "    user_input = 'What is the period in years to calculate rainfall for?'\n",
    "    err_msg = 'Please input positive whole numbers, ex. 12.'\n",
    "\n",
    "    years = validate_input_num(user_input, err_msg, is_int=True)\n",
    "    total = 0\n",
    "    print(\n",
    "        'For inches of rainfall, please input '\n",
    "        'positive numbers with two decimals, ex. 12.95.',\n",
    "    )\n",
    "\n",
    "    # Nested list to ask for month by year.\n",
    "    for year in range(years):\n",
    "        for key, value in months.items():\n",
    "            month_input = f'How much rain fell in {key} of Year {year + 1}?'\n",
    "            rain_err = (\n",
    "                'Please input positive numbers with two decimals, ex. 12.95.'\n",
    "            )\n",
    "            rainfall = validate_input_num(month_input, rain_err, is_int=False)\n",
    "            # Add to total rainfall.\n",
    "            total += rainfall\n",
    "\n",
    "            # Add rainfall to specific month list.\n",
    "            value.append(rainfall)\n",
    "\n",
    "    print(f'Total months in period: {12 * years}')\n",
    "    print(f'Total rainfall in period: {total:.2f}\\n')\n",
    "    print('Average rainfall per month:')\n",
    "    print(f'{\"Month\":<15} Average')\n",
    "    print('-----------------------')\n",
    "\n",
    "    # Calculate and display average rainfall per month.\n",
    "    for key, value in months.items():\n",
    "        print(f'{key:<15} {sum(value) / years:.2f}')"
   ]
  },
  {
   "cell_type": "code",
   "execution_count": 13,
   "metadata": {},
   "outputs": [
    {
     "name": "stdout",
     "output_type": "stream",
     "text": [
      "This app displays statistic for rainfall in a given period.\n",
      "Please input positive whole numbers, ex. 12.\n",
      "For inches of rainfall, please input positive numbers with two decimals, ex. 12.95.\n",
      "Total months in period: 24\n",
      "Total rainfall in period: 1086.00\n",
      "\n",
      "Average rainfall per month:\n",
      "Month           Average\n",
      "--------------------------\n",
      "January         15.0\n",
      "February        25.0\n",
      "March           35.0\n",
      "April           45.0\n",
      "May             55.0\n",
      "June            65.0\n",
      "July            75.0\n",
      "August          85.0\n",
      "September       95.0\n",
      "October         15.0\n",
      "November        16.0\n",
      "December        17.0\n"
     ]
    }
   ],
   "source": [
    "calculate_rainfall()"
   ]
  },
  {
   "cell_type": "markdown",
   "metadata": {},
   "source": [
    "## Homework\n"
   ]
  },
  {
   "cell_type": "code",
   "execution_count": null,
   "metadata": {},
   "outputs": [],
   "source": [
    "def check_baggage(max_weight: int = 15) -> None:\n",
    "    \"\"\"Check the baggage weight against weight limits and gives a response.\n",
    "\n",
    "    Args:\n",
    "        max_weight (int, optional): the limit for carry-ons. Defaults to 15.\n",
    "\n",
    "    \"\"\"\n",
    "    print('This checks if you are able to carry-on or check your baggage.')\n",
    "    user_input = 'How heavy is your bag? Please enter the format \"12.00\"'\n",
    "    err_msg = 'Please input positive numbers with two decimals, ex.12.95.'\n",
    "    value = validate_input_num(user_input, err_msg, is_int=False)\n",
    "\n",
    "    if value > max_weight:\n",
    "        print(\n",
    "            Fore.RED\n",
    "            + 'Sorry, your baggage exceeds our maximum carry-on limit '\n",
    "            f'of {max_weight}kg. It will have to be checked.'\n",
    "            + Style.RESET_ALL,\n",
    "        )\n",
    "    else:\n",
    "        print(Fore.GREEN + 'Thank you and welcome aboard!' + Style.RESET_ALL)\n"
   ]
  },
  {
   "cell_type": "code",
   "execution_count": null,
   "metadata": {},
   "outputs": [
    {
     "name": "stdout",
     "output_type": "stream",
     "text": [
      "Thank you and welcome aboard!\n"
     ]
    }
   ],
   "source": [
    "check_baggage()"
   ]
  },
  {
   "cell_type": "code",
   "execution_count": null,
   "metadata": {},
   "outputs": [],
   "source": [
    "def calculate_tax() -> None:\n",
    "    \"\"\"Calculate net income after finding tax bracket.\"\"\"\n",
    "    user_input = 'What is your income? Please enter the format \"12000.00\"'\n",
    "    err_msg = 'Please input positive numbers with two decimals, ex. 12.95.'\n",
    "    value = validate_input_num(user_input, err_msg, is_int=False)\n",
    "\n",
    "    tax_bracket_one = 20000\n",
    "    tax_bracket_two = 40000\n",
    "    tax_bracket_three = 80000\n",
    "\n",
    "    if value < tax_bracket_one:\n",
    "        tax = 0\n",
    "    elif value < tax_bracket_two:\n",
    "        tax = 0.2\n",
    "    elif value < tax_bracket_three:\n",
    "        tax = 0.4\n",
    "    else:\n",
    "        tax = 0.55\n",
    "\n",
    "    tax_total = value * tax\n",
    "    net_income = value - tax_total\n",
    "\n",
    "    print(f'Your net income is €{net_income:.2f}.')"
   ]
  },
  {
   "cell_type": "code",
   "execution_count": null,
   "metadata": {},
   "outputs": [
    {
     "name": "stdout",
     "output_type": "stream",
     "text": [
      "Your net income is €38250.00.\n"
     ]
    }
   ],
   "source": [
    "calculate_tax()"
   ]
  },
  {
   "cell_type": "code",
   "execution_count": null,
   "metadata": {},
   "outputs": [],
   "source": [
    "def calculate_penny_salary(pay_rate=0.01):\n",
    "    user_input = 'How many days are we calculating pay for?'\n",
    "    err_msg = 'Please input positive whole numbers, ex. 12.'\n",
    "\n",
    "    # Calculates mpg and displays it to the user.\n",
    "    days = validate_input_num(user_input, err_msg, is_int=True)\n",
    "    pay = 0\n",
    "    print(f'{\"Day\":<6}| Total Pay')\n",
    "    print('---------------------------------')\n",
    "    for day in range(days):\n",
    "        pay += pay_rate\n",
    "        pay_rate = pay_rate * 2\n",
    "        print(f'{day + 1:<6}| ${pay:.2f}')\n",
    "    print('---------------------------------')\n"
   ]
  },
  {
   "cell_type": "code",
   "execution_count": null,
   "metadata": {},
   "outputs": [
    {
     "name": "stdout",
     "output_type": "stream",
     "text": [
      "Day   | Total Pay\n",
      "---------------------------------\n",
      "1     | $0.01\n",
      "2     | $0.03\n",
      "3     | $0.07\n",
      "4     | $0.15\n",
      "5     | $0.31\n",
      "6     | $0.63\n",
      "7     | $1.27\n",
      "8     | $2.55\n",
      "9     | $5.11\n",
      "10    | $10.23\n",
      "11    | $20.47\n",
      "12    | $40.95\n",
      "---------------------------------\n"
     ]
    }
   ],
   "source": [
    "calculate_penny_salary()"
   ]
  },
  {
   "cell_type": "code",
   "execution_count": null,
   "metadata": {},
   "outputs": [],
   "source": [
    "def application_questions() -> None:\n",
    "    \"\"\"Check if applicant meets minimum requirements for loan.\"\"\"\n",
    "    user_input_one = 'What is your salary?'\n",
    "    user_input_two = 'How many years of experience do you have?'\n",
    "    err_msg = 'Please input positive numbers, ex. 12.5'\n",
    "\n",
    "    salary_limit = 30000\n",
    "    year_limit = 2\n",
    "    salary = validate_input_num(user_input_one, err_msg, is_int=False)\n",
    "    years_on_job = validate_input_num(user_input_two, err_msg, is_int=False)\n",
    "\n",
    "    if salary >= salary_limit:\n",
    "        if years_on_job >= year_limit:\n",
    "            print(Fore.GREEN + 'You qualify for the loan.' + Style.RESET_ALL)\n",
    "        else:\n",
    "            print(\n",
    "                Fore.RED\n",
    "                + 'You must have been on your current job for at least two'\n",
    "                ' years to qualify' + Style.RESET_ALL,\n",
    "            )\n",
    "    else:\n",
    "        print(\n",
    "            Fore.RED\n",
    "            + 'You must earn at least 30,000 per year to qualify.'\n",
    "            + Style.RESET_ALL,\n",
    "        )"
   ]
  },
  {
   "cell_type": "code",
   "execution_count": 16,
   "metadata": {},
   "outputs": [
    {
     "name": "stdout",
     "output_type": "stream",
     "text": [
      "\u001b[31mYou must have been on your current job for at least two years to qualify\u001b[0m\n"
     ]
    }
   ],
   "source": [
    "application_questions()"
   ]
  },
  {
   "cell_type": "code",
   "execution_count": null,
   "metadata": {},
   "outputs": [],
   "source": [
    "def test_score():\n",
    "    user_input = 'What is the test score?'\n",
    "    err_msg = 'Please input positive whole numbers, ex. 12.'\n",
    "\n",
    "    while True:\n",
    "        score = validate_input_num(user_input, err_msg, is_int=True)\n",
    "        if score > 100:\n",
    "            print('Please input a number less than 100.')\n",
    "        else:\n",
    "            break\n",
    "\n",
    "    if score >= 90:\n",
    "        grade = 'A'\n",
    "    elif score >= 80:\n",
    "        grade = 'B'\n",
    "    elif score >= 70:\n",
    "        grade = 'C'\n",
    "    elif score >= 60:\n",
    "        grade = 'D'\n",
    "    else:\n",
    "        grade = 'F'\n",
    "\n",
    "    print(f'Your grade is {grade}')"
   ]
  },
  {
   "cell_type": "code",
   "execution_count": 20,
   "metadata": {},
   "outputs": [
    {
     "name": "stdout",
     "output_type": "stream",
     "text": [
      "Please input a number less than 100.\n",
      "Your grade is F\n"
     ]
    }
   ],
   "source": [
    "test_score()"
   ]
  }
 ],
 "metadata": {
  "kernelspec": {
   "display_name": ".venv",
   "language": "python",
   "name": "python3"
  },
  "language_info": {
   "codemirror_mode": {
    "name": "ipython",
    "version": 3
   },
   "file_extension": ".py",
   "mimetype": "text/x-python",
   "name": "python",
   "nbconvert_exporter": "python",
   "pygments_lexer": "ipython3",
   "version": "3.13.1"
  }
 },
 "nbformat": 4,
 "nbformat_minor": 2
}
